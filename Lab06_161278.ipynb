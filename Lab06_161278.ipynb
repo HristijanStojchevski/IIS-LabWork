{
 "cells": [
  {
   "cell_type": "code",
   "execution_count": null,
   "outputs": [],
   "source": [
    "import numpy as np\n",
    "import pandas as pd\n",
    "import cv2\n",
    "import tensorflow as tf\n",
    "import time as time"
   ],
   "metadata": {
    "collapsed": false,
    "pycharm": {
     "name": "#%%\n"
    }
   }
  },
  {
   "cell_type": "code",
   "execution_count": null,
   "outputs": [],
   "source": [
    "physical_devices = tf.config.experimental.list_physical_devices('GPU')\n",
    "print(\"Num of GPU devices available: \", len(physical_devices))\n",
    "tf.config.experimental.set_memory_growth(physical_devices[0], True)\n",
    "# tf.config.optimizer.set_jit(enabled=True)\n",
    "# tf.config.optimizer.set_experimental_options({\"loop_optimization\":True,\"layout_optimizer\":True})"
   ],
   "metadata": {
    "collapsed": false,
    "pycharm": {
     "name": "#%%\n"
    }
   }
  },
  {
   "cell_type": "code",
   "execution_count": null,
   "outputs": [],
   "source": [
    "import requests\n",
    "URL = \"https://visualgenome.org/api/v0/images/\"\n",
    "\n",
    "\n",
    "def download_visual_genome_image(image_id, folder):\n",
    "    \"\"\" Downloads image from the visual genome dataset\n",
    "\n",
    "    :param image_id: id of the image to download\n",
    "    :type image_id: str\n",
    "    :param folder: where to download the image\n",
    "    :return:\n",
    "    \"\"\"\n",
    "    r = requests.get(url=URL + image_id)\n",
    "    data = r.json()\n",
    "\n",
    "    print(f\"Downloading image: {data['url']}\")\n",
    "\n",
    "    img_data = requests.get(data['url']).content\n",
    "    with open(folder + f'/{image_id}.jpg', 'wb') as handler:\n",
    "        handler.write(img_data)"
   ],
   "metadata": {
    "collapsed": false,
    "pycharm": {
     "name": "#%%\n"
    }
   }
  },
  {
   "cell_type": "code",
   "execution_count": null,
   "outputs": [],
   "source": [
    "import os\n",
    "\n",
    "def create_descriptor_features(image_files):\n",
    "    \"\"\"Create features for images with SIFT descriptor\n",
    "\n",
    "    :param image_files: list of images to be processed\n",
    "    :type image_files: list(str)\n",
    "    :return: numpy array of the created features\n",
    "    :rtype: np.array\n",
    "    \"\"\"\n",
    "    trainer = cv2.BOWKMeansTrainer(clusterCount=100)\n",
    "    sift = cv2.xfeatures2d.SIFT_create()\n",
    "    matcher = cv2.FlannBasedMatcher_create()\n",
    "    bow_extractor = cv2.BOWImgDescriptorExtractor(sift, matcher)\n",
    "\n",
    "    print('Creating dictionary')\n",
    "    if os.path.exists('data/dictionary.npy'):\n",
    "        dictionary = np.load('data/dictionary.npy')\n",
    "    else:\n",
    "        for filename in image_files:\n",
    "            file = f'data/visual_genome/{filename.lower()}'\n",
    "            img = cv2.imread(file)\n",
    "            img = cv2.cvtColor(img, cv2.COLOR_BGR2HSV)\n",
    "            key_points, desc_obj = sift.detectAndCompute(img, mask=None)\n",
    "            trainer.add(desc_obj)\n",
    "\n",
    "        dictionary = trainer.cluster()\n",
    "        np.save('data/dictionary.npy', dictionary)\n",
    "\n",
    "    bow_extractor.setVocabulary(dictionary)\n",
    "\n",
    "    feature_data = np.zeros(shape=(len(image_files), dictionary.shape[0]),\n",
    "                            dtype=np.float32)\n",
    "\n",
    "    print('Extract features')\n",
    "    for i, filename in zip(range(len(image_files)), image_files):\n",
    "        file = f'data/visual_genome/{filename.lower()}'\n",
    "        img = cv2.imread(file)\n",
    "        img = cv2.cvtColor(img, cv2.COLOR_BGR2HSV)\n",
    "        points = sift.detect(img)\n",
    "        feature_data[i] = bow_extractor.compute(img, points)\n",
    "    return feature_data"
   ],
   "metadata": {
    "collapsed": false,
    "pycharm": {
     "name": "#%%\n"
    }
   }
  },
  {
   "cell_type": "code",
   "execution_count": null,
   "outputs": [],
   "source": [
    "import pickle\n",
    "from tqdm import tqdm\n",
    "from tensorflow.keras.models import Model\n",
    "from tensorflow.keras.applications.vgg16 import VGG16, preprocess_input\n",
    "# tensorflow.contrib.keras.api.keras.applications.vgg16 from original code\n",
    "\n",
    "def load_vgg16(fc):\n",
    "    \"\"\" Creates VGG16 model.\n",
    "\n",
    "    :param fc: fully connected layer as output layer if true\n",
    "    :type fc: bool\n",
    "    :return: instance of VGG16 keras model\n",
    "    :rtype: keras.Model\n",
    "    \"\"\"\n",
    "    base_model = VGG16(include_top=True, weights='imagenet', input_shape=(224, 224, 3))\n",
    "    if fc:\n",
    "        model = Model(inputs=base_model.input, outputs=base_model.get_layer(name='fc2').output)\n",
    "    else:\n",
    "        model = Model(inputs=base_model.input, outputs=base_model.get_layer(name='block5_pool').output)\n",
    "    model.trainable = False\n",
    "    return model\n",
    "\n",
    "\n",
    "def create_features(image_id, model):\n",
    "    \"\"\" Creates features with VGG16 model for given image.\n",
    "\n",
    "    :param image_id: id of the image\n",
    "    :type image_id: str\n",
    "    :param model: VGG16 model\n",
    "    :type model: keras.Model\n",
    "    :return: features of the image\n",
    "    :rtype: numpy.array\n",
    "    \"\"\"\n",
    "    img = cv2.resize(cv2.imread(f'./data/visual_genome/{image_id}.jpg'), (224, 224))\n",
    "    features = model.predict(preprocess_input(np.expand_dims(img.astype(np.float32), axis=0)))\n",
    "    return features[0]\n",
    "\n",
    "\n",
    "def create_features_parallel(image_ids, model):\n",
    "    \"\"\" Creates features with VGG16 model for given image.\n",
    "\n",
    "    :param image_ids: ids of the images\n",
    "    :type image_ids: list\n",
    "    :param model: VGG16 model\n",
    "    :type model: keras.Model\n",
    "    :return: features of the image\n",
    "    :rtype: numpy.array\n",
    "    \"\"\"\n",
    "    input_f = []\n",
    "    for image_id in image_ids:\n",
    "        print(\"START\", image_id)  # last printed DONE 2414570\n",
    "        img = cv2.imread(\"./data/visual_genome/\" + str(image_id) + '.jpg')\n",
    "        img = cv2.resize(img, (224, 224))\n",
    "        input_f.append(img.astype(np.float32))\n",
    "\n",
    "    features = model.predict(preprocess_input(np.array(input_f)))\n",
    "    return features\n",
    "\n",
    "\n",
    "def load_vgg16_features(image_id, fc):\n",
    "    \"\"\" Loads VGG16 features for the image with given id. It assumes that the features are already created.\n",
    "\n",
    "    :param image_id: id of the image\n",
    "    :type image_id: str\n",
    "    :param fc: use features from fully connected layer if true\n",
    "    :type fc: bool\n",
    "    :return: features of the image\n",
    "    :rtype: numpy.array\n",
    "    \"\"\"\n",
    "    if fc:\n",
    "        with open(f'./Lab05_Output/dataset/features/vgg16/{image_id}.pkl', 'rb') as f:\n",
    "            features = pickle.load(f)\n",
    "    else:\n",
    "        with open(f'./Lab05_Output/dataset/features/vgg16-conv/{image_id}.pkl', 'rb') as f:\n",
    "            features = pickle.load(f)\n",
    "    return features\n",
    "\n",
    "\n",
    "def create_vgg16_features_parallel(image_ids, fc):\n",
    "    \"\"\" Creates VGG16 features for images with given ids. Features are saved to a file\n",
    "\n",
    "    :param image_ids: image ids\n",
    "    :type image_ids: numpy.array\n",
    "    :param fc: use features from fully connected layer if true\n",
    "    :type fc: bool\n",
    "    \"\"\"\n",
    "    vgg_16_model = load_vgg16(fc)\n",
    "    images = []\n",
    "    for i, image_id in zip(tqdm(list(range(len(image_ids)))), image_ids):\n",
    "        if fc:\n",
    "            features_path = f'./Lab05_Output/dataset/features/vgg16/{image_id}.pkl'\n",
    "        else:\n",
    "            features_path = f'./Lab05_Output/dataset/features/vgg16-conv/{image_id}.pkl'\n",
    "        if not os.path.exists(features_path):\n",
    "            images.append(image_id)\n",
    "        if len(images) == 16 or i == len(image_ids) - 1:\n",
    "            features = create_features_parallel(images, vgg_16_model)\n",
    "            for im_id, feats in zip(images, features):\n",
    "                if fc:\n",
    "                    with open(f'./Lab05_Output/dataset/features/vgg16/{im_id}.pkl', 'wb') as f:\n",
    "                        pickle.dump(feats, f)\n",
    "                else:\n",
    "                    with open(f'./Lab05_Output/dataset/features/vgg16-conv/{im_id}.pkl', 'wb') as f:\n",
    "                        pickle.dump(feats, f)\n",
    "            images = []\n",
    "\n",
    "\n",
    "def create_vgg16_features(image_ids, fc):\n",
    "    \"\"\" Creates VGG16 features for images with given ids. Features are saved to a file\n",
    "\n",
    "    :param image_ids: image ids\n",
    "    :type image_ids: numpy.array\n",
    "    :param fc: use features from fully connected layer if true\n",
    "    :type fc: bool\n",
    "    \"\"\"\n",
    "    vgg_16_model = load_vgg16(fc)\n",
    "    for _, image_id in zip(tqdm(list(range(len(image_ids)))), image_ids):\n",
    "        if fc:\n",
    "            if not os.path.exists(f'./Lab05_Output/dataset/features/vgg16/{image_id}.pkl'):\n",
    "                features = create_features(image_id, vgg_16_model)\n",
    "                with open(f'./Lab05_Output/dataset/features/vgg16/{image_id}.pkl', 'wb') as f:\n",
    "                    pickle.dump(features, f)\n",
    "        else:\n",
    "            if not os.path.exists(f'./Lab05_Output/dataset/features/vgg16-conv/{image_id}.pkl'):\n",
    "                features = create_features(image_id, vgg_16_model)\n",
    "                with open(f'./Lab05_Output/dataset/features/vgg16-conv/{image_id}.pkl', 'wb') as f:\n",
    "                    pickle.dump(features, f)"
   ],
   "metadata": {
    "collapsed": false,
    "pycharm": {
     "name": "#%%\n"
    }
   }
  },
  {
   "cell_type": "markdown",
   "source": [
    "### Zad 1 - extracting data, train_test_split, simple RandomForestClassifier for openCV features extraction with BOWImgDescriptorExtractor\n",
    "All images downloaded"
   ],
   "metadata": {
    "collapsed": false
   }
  },
  {
   "cell_type": "code",
   "execution_count": null,
   "outputs": [],
   "source": [
    "from sklearn.model_selection import train_test_split\n",
    "from sklearn.preprocessing import LabelEncoder\n",
    "from keras.utils.np_utils import to_categorical\n",
    "\n",
    "vg_objects = pd.read_csv('./data/visual_genome_objects.csv')\n",
    "encoder = LabelEncoder()\n",
    "encoder.fit(vg_objects[\"Class\"])\n",
    "encoded_Y = encoder.transform(vg_objects[\"Class\"])\n",
    "# convert integers to dummy variables (i.e. one hot encoded)\n",
    "dummy_y = to_categorical(encoded_Y)\n",
    "X_train, x_test, Y_train, y_test = train_test_split(vg_objects, dummy_y, test_size=0.2,random_state=42)\n",
    "X_test, x_val, Y_test, y_val = train_test_split(x_test,y_test, test_size=0.2, random_state=42)\n",
    "classes = set(vg_objects[\"Class\"])"
   ],
   "metadata": {
    "collapsed": false,
    "pycharm": {
     "name": "#%%\n"
    }
   }
  },
  {
   "cell_type": "code",
   "execution_count": null,
   "outputs": [],
   "source": [
    "train_np = X_train.to_numpy()\n",
    "test_np = X_test.to_numpy()\n",
    "val_np = x_val.to_numpy()\n",
    "for arr in (train_np, test_np, val_np):\n",
    "    arr[arr == \"building\"] = 0\n",
    "    arr[arr == \"car\"] = 1\n",
    "    arr[arr == \"chair\"] = 2\n",
    "    arr[arr == \"desk\"] = 3\n",
    "    arr[arr == \"glass\"] = 4\n",
    "    arr[arr == \"man\"] = 5\n",
    "    arr[arr == \"road\"] = 6\n",
    "    arr[arr == \"shelf\"] = 7\n",
    "    arr[arr == \"tree\"] = 8\n",
    "    arr[arr == \"window\"] = 9"
   ],
   "metadata": {
    "collapsed": false,
    "pycharm": {
     "name": "#%%\n"
    }
   }
  },
  {
   "cell_type": "code",
   "execution_count": null,
   "outputs": [],
   "source": [
    "classes_dc = { 0:\"building\", 1:\"car\", 2:\"chair\", 3:\"desk\", 4:\"glass\", 5:\"man\", 6:\"road\", 7:\"shelf\", 8:\"tree\", 9:\"window\"}"
   ],
   "metadata": {
    "collapsed": false,
    "pycharm": {
     "name": "#%%\n"
    }
   }
  },
  {
   "cell_type": "code",
   "execution_count": null,
   "outputs": [],
   "source": [
    "import shutil\n",
    "# X_train_lst = list(X_train)\n",
    "# x_val_lst = list(x_val)\n",
    "# x_test_lst = list(x_test)\n",
    "def create_seperate_class_folder(class_name):\n",
    "    os.mkdir(f'Lab05_Output/dataset/genReadyImages/test/{class_name}')\n",
    "    os.mkdir(f'Lab05_Output/dataset/genReadyImages/train/{class_name}')\n",
    "    os.mkdir(f'Lab05_Output/dataset/genReadyImages/val/{class_name}')\n",
    "def create_dest(ttv, class_name, im_id):\n",
    "        cl_name_str = classes_dc[class_name]\n",
    "        if ttv == 0:\n",
    "            return f'Lab05_Output/dataset/genReadyImages/train/{cl_name_str}/{str(im_id)}.jpg'\n",
    "        if ttv == 1:\n",
    "            return f'Lab05_Output/dataset/genReadyImages/test/{cl_name_str}/{str(im_id)}.jpg'\n",
    "        if ttv == 2:\n",
    "            return f'Lab05_Output/dataset/genReadyImages/val/{cl_name_str}/{str(im_id)}.jpg'\n",
    "\n",
    "\n",
    "def populate_with_images(file_list):\n",
    "    for file in file_list:\n",
    "        src = f'data/visual_genome/{str(file[2])}.jpg'\n",
    "        dest = create_dest(file[0], file[1], file[2])\n",
    "        shutil.copyfile(src,dest)\n",
    "from numba import jit, cuda\n",
    "# @jit(nopython=True)\n",
    "def create_np_list(train_np_func, test_np_func, val_np_func):\n",
    "    file_list = np.zeros((5000,3),dtype=int)\n",
    "    print(file_list.shape, \"last index\", file_list[4999,0])\n",
    "    arr_iter = 0\n",
    "    print(\"SUCCESS START CREATE\")\n",
    "    for i in range(train_np_func.shape[0]):\n",
    "        file_id = train_np_func[i,0]\n",
    "        cl_id = train_np_func[i,1]\n",
    "        file_list[arr_iter,0] = 0\n",
    "        file_list[arr_iter,1] = cl_id\n",
    "        file_list[arr_iter,2] = file_id\n",
    "        arr_iter = arr_iter + 1\n",
    "    for i in range(test_np_func.shape[0]):\n",
    "        file_id = test_np_func[i,0]\n",
    "        cl_id = test_np_func[i,1]\n",
    "        file_list[arr_iter,0] = 1\n",
    "        file_list[arr_iter,1] = cl_id\n",
    "        file_list[arr_iter,2] = file_id\n",
    "        arr_iter = arr_iter + 1\n",
    "    for i in range(val_np_func.shape[0]):\n",
    "        file_id = val_np_func[i,0]\n",
    "        cl_id = val_np_func[i,1]\n",
    "        file_list[arr_iter,0] = 2\n",
    "        file_list[arr_iter,1] = cl_id\n",
    "        file_list[arr_iter,2] = file_id\n",
    "        arr_iter = arr_iter + 1\n",
    "    return file_list\n",
    "\n",
    "    # for im_id, cl in zip(relevant_ids[\"Image ID\"],):\n",
    "    #     src = f'data/visual_genome/{str(im_id)}.jpg'\n",
    "    #     if im_id in X_train_lst:\n",
    "    #         dest = f'Lab05_Output/dataset/genReadyImages/train/{class_name}/{str(im_id)}.jpg'\n",
    "    #         shutil.copyfile(src,dest)\n",
    "    #     if im_id in x_val_lst:\n",
    "    #         dest = f'Lab05_Output/dataset/genReadyImages/val/{class_name}/{str(im_id)}.jpg'\n",
    "    #         shutil.copyfile(src,dest)\n",
    "    #     if im_id in x_test_lst:\n",
    "    #         dest = f'Lab05_Output/dataset/genReadyImages/test/{class_name}/{str(im_id)}.jpg'\n",
    "    #         shutil.copyfile(src,dest)\n",
    "    #     if im_id not in X_train_lst and im_id not in x_val_lst and im_id not in x_test_lst:\n",
    "    #         print(\"Strange for \", im_id)\n",
    "def getNames(file):\n",
    "    filename = os.fsdecode(file)\n",
    "    img_name = filename.split(\".\")[0]\n",
    "    return img_name\n",
    "class_names = set(vg_objects[\"Class\"])\n",
    "if os.path.isdir(\"Lab05_Output/dataset/genReadyImages/train/car\") is False:\n",
    "    # for cl_nm in class_names:\n",
    "    #     create_seperate_class_folder(cl_nm)\n",
    "    start = time.time()\n",
    "    # with tf.device('/device:GPU:0'):\n",
    "    print(\"Start\")\n",
    "    file_lst = create_np_list(train_np[:].astype(np.int),test_np[:].astype(np.int),val_np[:].astype(np.int))\n",
    "    print(\"cuda function: \", time.time() - start)\n",
    "    print(\"Copy files\")\n",
    "    populate_with_images(file_lst)\n",
    "directory = os.fsencode(\"./data/visual_genome\")\n",
    "lst_imgs = os.listdir(directory)\n",
    "img_names = list(map(getNames,lst_imgs))\n",
    "# for imgID in list(set(vg_objects['Image ID'])):\n",
    "#     if str(imgID) not in img_names:\n",
    "#         download_visual_genome_image(str(imgID), './data/visual_genome/')"
   ],
   "metadata": {
    "collapsed": false,
    "pycharm": {
     "name": "#%%\n"
    }
   }
  },
  {
   "cell_type": "code",
   "execution_count": null,
   "outputs": [],
   "source": [
    "import time as time\n",
    "with tf.device('/device:GPU:0'):\n",
    "    # print(list(map(lambda x: x + \".jpg\",img_names)))\n",
    "    start = time.time()\n",
    "    image_files = list(map(lambda x: x + \".jpg\",img_names))\n",
    "    descriptor_features = create_descriptor_features(image_files)\n",
    "    print(\"End time: \", time.time() - start)\n",
    "    # descriptor_features"
   ],
   "metadata": {
    "collapsed": false,
    "pycharm": {
     "name": "#%%\n"
    }
   }
  },
  {
   "cell_type": "code",
   "execution_count": null,
   "outputs": [],
   "source": [
    "from tensorflow.keras.preprocessing.image import ImageDataGenerator\n",
    "images_path_train = './Lab05_Output/dataset/genReadyImages/train'\n",
    "images_path_test = './Lab05_Output/dataset/genReadyImages/test'\n",
    "images_path_val = './Lab05_Output/dataset/genReadyImages/val'\n",
    "classes = list(class_names)\n",
    "train_batches = ImageDataGenerator(preprocessing_function=tf.keras.applications.vgg16.preprocess_input)\\\n",
    "    .flow_from_directory(directory=images_path_train,target_size=(244,244),classes=classes)\n",
    "val_batches = ImageDataGenerator(preprocessing_function=tf.keras.applications.vgg16.preprocess_input)\\\n",
    "    .flow_from_directory(directory=images_path_test,target_size=(244,244),classes=classes,shuffle=False,batch_size=20)\n",
    "test_batches = ImageDataGenerator(preprocessing_function=tf.keras.applications.vgg16.preprocess_input)\\\n",
    "    .flow_from_directory(directory=images_path_val,target_size=(244,244),classes=classes)\n",
    "\n",
    "\n",
    "assert train_batches.n == len(X_train)\n",
    "assert test_batches.n ==  len(x_val)\n",
    "assert val_batches.n == len(X_test)"
   ],
   "metadata": {
    "collapsed": false,
    "pycharm": {
     "name": "#%%\n"
    }
   }
  },
  {
   "cell_type": "code",
   "execution_count": null,
   "outputs": [],
   "source": [
    "descriptor_features_withID = {}\n",
    "for imgId, feat in zip(img_names, descriptor_features):\n",
    "    descriptor_features_withID[imgId] = feat\n",
    "# list(vg_objects[\"Image ID\"])\n",
    "# list(set(vg_objects[\"Image ID\"]))"
   ],
   "metadata": {
    "collapsed": false,
    "pycharm": {
     "name": "#%%\n"
    }
   }
  },
  {
   "cell_type": "code",
   "execution_count": null,
   "outputs": [],
   "source": [
    "from sklearn.ensemble import RandomForestClassifier\n",
    "\n",
    "RFC = RandomForestClassifier()\n",
    "RFC.fit([descriptor_features_withID[str(val)] for val in X_train['Image ID']],Y_train)\n",
    "# y_pred = RFC.predict([descriptor_features_withID[str(val)] for val in x_test])\n",
    "# print(\"Precision score: \", precision_score(y_test, y_pred, average='macro'))\n",
    "score = RFC.score([descriptor_features_withID[str(val)] for val in x_test['Image ID']],y_test)\n",
    "print(\"Score: \", score)\n",
    " # Is it really that bad or I am doing something really wrong ?"
   ],
   "metadata": {
    "collapsed": false,
    "pycharm": {
     "name": "#%%\n"
    }
   }
  },
  {
   "cell_type": "markdown",
   "source": [
    "### Zad 2  - VGG 16"
   ],
   "metadata": {
    "collapsed": false
   }
  },
  {
   "cell_type": "code",
   "execution_count": null,
   "outputs": [],
   "source": [
    "start = time.time()\n",
    "modelVGG16 = load_vgg16(fc=True)\n",
    "imgFeatures = {}\n",
    "\n",
    "with tf.device('/device:GPU:0'):\n",
    "    for imgID in img_names:\n",
    "        feat = create_features(imgID, modelVGG16)\n",
    "        imgFeatures[imgID] = feat\n",
    "print(\"Needed: \", time.time() - start)"
   ],
   "metadata": {
    "collapsed": false,
    "pycharm": {
     "name": "#%%\n"
    }
   }
  },
  {
   "cell_type": "code",
   "execution_count": null,
   "outputs": [],
   "source": [
    "# pickle\n",
    "# imgFeat_save = create_vgg16_features(img_names,True)\n",
    "start = time.time()\n",
    "print(\"pickles ready\")\n",
    "# with tf.device('/device:GPU:0'):\n",
    "#     create_vgg16_features_parallel(img_names,True)\n",
    "print(\"Needed: \", time.time() - start)"
   ],
   "metadata": {
    "collapsed": false,
    "pycharm": {
     "name": "#%%\n"
    }
   }
  },
  {
   "cell_type": "code",
   "execution_count": null,
   "outputs": [],
   "source": [
    "RFC = RandomForestClassifier()\n",
    "RFC.fit([imgFeatures[str(val)] for val in X_train['Image ID']], Y_train)\n",
    "score = RFC.score([imgFeatures[str(val)] for val in x_test['Image ID']],y_test)\n",
    "print(\"Score: \", score)"
   ],
   "metadata": {
    "collapsed": false,
    "pycharm": {
     "name": "#%%\n"
    }
   }
  },
  {
   "cell_type": "code",
   "execution_count": null,
   "outputs": [],
   "source": [
    "imgFeat_save = {}\n",
    "for imgID in img_names:\n",
    "    imgFeat_save[imgID] = load_vgg16_features(imgID,True)\n",
    "RFC = RandomForestClassifier()\n",
    "RFC.fit([imgFeat_save[str(val)] for val in X_train['Image ID']], Y_train)\n",
    "score = RFC.score([imgFeat_save[str(val)] for val in x_test['Image ID']],y_test)\n",
    "print(\"Score: \", score)"
   ],
   "metadata": {
    "collapsed": false,
    "pycharm": {
     "name": "#%%\n"
    }
   }
  },
  {
   "cell_type": "markdown",
   "source": [
    "### Zad 3"
   ],
   "metadata": {
    "collapsed": false
   }
  },
  {
   "cell_type": "code",
   "execution_count": null,
   "outputs": [],
   "source": [
    "from tensorflow.keras.layers import Input\n",
    "if os.path.isdir(\"Lab05_Output/dataset/features/vgg16-conv\") is False:\n",
    "    with tf.device('/device:GPU:0'):\n",
    "        os.chdir(\"Lab05_Output/dataset/features/\")\n",
    "        os.mkdir(\"vgg16-conv\")\n",
    "        os.chdir(\"../../../\")\n",
    "        create_vgg16_features_parallel(img_names,False)"
   ],
   "metadata": {
    "collapsed": false,
    "pycharm": {
     "name": "#%%\n"
    }
   }
  },
  {
   "cell_type": "markdown",
   "source": [
    "##### Read all the pre trained features from VGG16 model"
   ],
   "metadata": {
    "collapsed": false
   }
  },
  {
   "cell_type": "code",
   "execution_count": null,
   "outputs": [],
   "source": [
    "imgFeat_save = {}\n",
    "for imgID in img_names:\n",
    "    imgFeat_save[imgID] = load_vgg16_features(imgID,False)"
   ],
   "metadata": {
    "collapsed": false,
    "pycharm": {
     "name": "#%%\n"
    }
   }
  },
  {
   "cell_type": "code",
   "execution_count": null,
   "outputs": [],
   "source": [
    "from tensorflow.keras.models import load_model\n",
    "from tensorflow.keras import Sequential\n",
    "from tensorflow.keras.layers import Dense, Flatten, Dropout, Input\n",
    "from tensorflow import metrics\n",
    "from tensorflow.keras.optimizers import Adam\n",
    "from sklearn.metrics import accuracy_score, precision_score\n",
    "num_classes = len(set(vg_objects[\"Class\"]))"
   ],
   "metadata": {
    "collapsed": false,
    "pycharm": {
     "name": "#%%\n"
    }
   }
  },
  {
   "cell_type": "code",
   "execution_count": null,
   "outputs": [],
   "source": [
    "device = cuda.get_current_device()\n",
    "device.reset()\n",
    "if os.path.isfile('./Lab05_Output/models/pre_trained_with_vgg16.h5') is False:\n",
    "    # base_model = VGG16(include_top=False, weights='imagenet', input_shape=(224, 224, 3), pooling='avg', classes=num_classes) # classifier_activation='Relu' MAKE SURE TO TRY IT\n",
    "    base_model = VGG16(include_top=False, weights='imagenet', input_shape=(224, 224, 3), pooling='avg') # classifier_activation='Relu' MAKE SURE TO TRY IT\n",
    "    x = base_model.output\n",
    "    x = Dense(4096,activation='relu')(x)\n",
    "    x = Dropout(0.3)(x)\n",
    "    x = Dense(4096,activation='relu')(x)\n",
    "    output = Dense(10,activation='softmax')(x)\n",
    "    model = Model(inputs=base_model.input, outputs=output)\n",
    "    for layer in model.layers[:-13]:\n",
    "        layer.trainable = False\n",
    "    # model = Sequential(\n",
    "    #     base_model.layers[:-3]\n",
    "    #     +\n",
    "    #     [\n",
    "    #     Dense(4096, activation='relu'),\n",
    "    #     Dropout(0.5),\n",
    "    #     Dense(4096, activation='relu'),\n",
    "    #     Dense(num_classes,activation='softmax')\n",
    "    # ])\n",
    "    model.summary()"
   ],
   "metadata": {
    "collapsed": false,
    "pycharm": {
     "name": "#%%\n"
    }
   }
  },
  {
   "cell_type": "code",
   "execution_count": null,
   "outputs": [],
   "source": [
    "# Not needed for now\n",
    "# Input to base model is resized img (244, 244, 3)\n",
    "# input_f = {}\n",
    "# for image_id in img_names:  # last printed DONE 2414570\n",
    "#     img = cv2.imread(\"./data/visual_genome/\" + image_id + '.jpg')\n",
    "#     img = cv2.resize(img, (224, 224))\n",
    "#     input_f[image_id] = img.astype(np.float32)"
   ],
   "metadata": {
    "collapsed": false,
    "pycharm": {
     "name": "#%%\n"
    }
   }
  },
  {
   "cell_type": "code",
   "execution_count": null,
   "outputs": [],
   "source": [
    "if os.path.isfile('./Lab05_Output/models/pre_trained_with_vgg16.h5') is False:\n",
    "    start = time.time()\n",
    "    with tf.device('/device:GPU:0'):\n",
    "        metrics = [metrics.Accuracy, metrics.Precision]\n",
    "        model.compile(metrics=[\"accuracy\"], loss=\"categorical_crossentropy\",optimizer=Adam(learning_rate=1e-4))\n",
    "        history = model.fit(x=train_batches,\n",
    "            epochs=10, validation_data=val_batches, verbose=2)\n",
    "    print(\"End: \", time.time() - start)\n",
    "    model.save('./Lab05_Output/models/pre_trained_with_vgg16.h5')\n",
    "else:\n",
    "    model = load_model('./Lab05_Output/models/pre_trained_with_vgg16.h5')"
   ],
   "metadata": {
    "collapsed": false,
    "pycharm": {
     "name": "#%%\n"
    }
   }
  },
  {
   "cell_type": "code",
   "execution_count": null,
   "outputs": [],
   "source": [
    "# Make some predictions and evaluate\n",
    "predictions = model.predict(x=test_batches, verbose=0)\n",
    "cl = test_batches.classes\n",
    "pred_int = np.argmax(predictions, axis=-1)\n",
    "acurr_score = accuracy_score(pred_int,cl)\n",
    "prec_score = precision_score(pred_int,cl, average=\"macro\")\n",
    "print(\"Custom DL model ----> acurracy: \", acurr_score, \" ,  precision: \", np.round(prec_score, 3))"
   ],
   "metadata": {
    "collapsed": false,
    "pycharm": {
     "name": "#%%\n"
    }
   }
  },
  {
   "cell_type": "markdown",
   "source": [
    "### Zad4 - building Deep Learning Model"
   ],
   "metadata": {
    "collapsed": false
   }
  },
  {
   "cell_type": "code",
   "execution_count": null,
   "outputs": [],
   "source": [
    "# del model\n",
    "from tensorflow.keras.applications.mobilenet_v2 import MobileNetV2\n",
    "train_batches = ImageDataGenerator(preprocessing_function=tf.keras.applications.mobilenet_v2.preprocess_input)\\\n",
    "    .flow_from_directory(directory=images_path_train,target_size=(244,244),classes=classes,batch_size=20)\n",
    "val_batches = ImageDataGenerator(preprocessing_function=tf.keras.applications.mobilenet_v2.preprocess_input)\\\n",
    "    .flow_from_directory(directory=images_path_test,target_size=(244,244),classes=classes,batch_size=20,shuffle=False)\n",
    "test_batches = ImageDataGenerator(preprocessing_function=tf.keras.applications.mobilenet_v2.preprocess_input)\\\n",
    "    .flow_from_directory(directory=images_path_val,target_size=(244,244),classes=classes,batch_size=20)\n",
    "\n",
    "\n",
    "assert train_batches.n == len(X_train)\n",
    "assert test_batches.n ==  len(x_val)\n",
    "assert val_batches.n == len(X_test)"
   ],
   "metadata": {
    "collapsed": false,
    "pycharm": {
     "name": "#%%\n"
    }
   }
  },
  {
   "cell_type": "code",
   "execution_count": null,
   "outputs": [],
   "source": [
    "device = cuda.get_current_device()\n",
    "device.reset()\n",
    "from tensorflow.keras.layers import Conv2D, MaxPool2D\n",
    "if os.path.isfile('./Lab05_Output/models/custom_CNN.h5') is False:\n",
    "    with tf.device('/device:GPU:0'):\n",
    "        base_model = MobileNetV2(weights='imagenet')\n",
    "        x = base_model.layers[-2].output\n",
    "        fc1 = Dense(2048, activation='relu')(x)\n",
    "        dp = Dropout(0.5)(fc1)\n",
    "        fc2 = Dense(2048, activation='relu')(dp)\n",
    "        output = Dense(num_classes,activation='softmax')(fc2)\n",
    "        dl_model = Model(inputs=base_model.input, outputs=output)\n",
    "        for layer in dl_model.layers[:-24]:\n",
    "            layer.trainable = False\n",
    "        # dl_model = Sequential([\n",
    "        #     Conv2D(filters=32,kernel_size=(3,3), activation='relu', padding='same', input_shape=(244,244,3)),\n",
    "        #     Conv2D(filters=32,kernel_size=(3,3), activation='relu', padding='same'),\n",
    "        #     MaxPool2D(pool_size=(2,2),strides=2),\n",
    "        #     Conv2D(filters=64,kernel_size=(3,3), activation='relu', padding='same'),\n",
    "        #     Conv2D(filters=64,kernel_size=(3,3), activation='relu', padding='same'),\n",
    "        #     MaxPool2D(pool_size=(2,2),strides=2),\n",
    "        #     Dense(512, activation='relu'),\n",
    "        #     Dropout(0.5),\n",
    "        #     Dense(512, activation='relu'),\n",
    "        #     Flatten(),\n",
    "        #     Dense(num_classes,activation='softmax')\n",
    "        # ])\n",
    "else:\n",
    "    dl_model = load_model('./Lab05_Output/models/custom_CNN.h5')\n",
    "\n",
    "dl_model.summary()"
   ],
   "metadata": {
    "collapsed": false,
    "pycharm": {
     "name": "#%%\n"
    }
   }
  },
  {
   "cell_type": "code",
   "execution_count": null,
   "outputs": [],
   "source": [
    "if os.path.isfile('./Lab05_Output/models/custom_CNN.h5') is False:\n",
    "    with tf.device('/device:GPU:0'):\n",
    "        dl_model.compile(optimizer=Adam(learning_rate=1e-4),loss='categorical_crossentropy', metrics=['accuracy'])\n",
    "        dl_model.fit(x=train_batches,validation_data=val_batches,epochs=20,verbose=2)\n",
    "        # save the model\n",
    "        dl_model.save('./Lab05_Output/models/custom_CNN.h5')"
   ],
   "metadata": {
    "collapsed": false,
    "pycharm": {
     "name": "#%%\n"
    }
   }
  },
  {
   "cell_type": "code",
   "execution_count": null,
   "outputs": [],
   "source": [
    "# Make some predictions and evaluate\n",
    "predictions = dl_model.predict(x=test_batches, verbose=0)\n",
    "cl = test_batches.classes\n",
    "pred_int = np.argmax(predictions, axis=-1)\n",
    "acurr_score = accuracy_score(pred_int,cl)\n",
    "prec_score = precision_score(pred_int,cl, average=\"macro\")\n",
    "print(\"Custom DL model ----> acurracy: \", acurr_score, \" ,  precision: \", np.round(prec_score, 3))"
   ],
   "metadata": {
    "collapsed": false,
    "pycharm": {
     "name": "#%%\n"
    }
   }
  },
  {
   "cell_type": "code",
   "execution_count": null,
   "outputs": [],
   "source": [
    "model = VGG16(weights='imagenet')\n",
    "predictions = model.predict(x=test_batches, verbose=0)\n",
    "cl = test_batches.classes\n",
    "pred_int = np.argmax(predictions, axis=-1)\n",
    "acurr_score = accuracy_score(pred_int,cl)\n",
    "prec_score = precision_score(pred_int,cl, average=\"macro\")\n",
    "print(\"Custom DL model ----> acurracy: \", acurr_score, \" ,  precision: \", np.round(prec_score, 3))"
   ],
   "metadata": {
    "collapsed": false,
    "pycharm": {
     "name": "#%%\n"
    }
   }
  },
  {
   "cell_type": "code",
   "execution_count": null,
   "outputs": [],
   "source": [
    "file = f'./Lab05_Output/dataset/genReadyImages/test/car/203.jpg'\n",
    "img = cv2.imread(file)\n",
    "img = cv2.cvtColor(img, cv2.COLOR_BGR2HSV)\n",
    "\n",
    "# from tensorflow.keras.applications.mobilenet import MobileNet, decode_predictions, preprocess_input\n",
    "image = cv2.resize(img, (224, 224))\n",
    "prep = preprocess_input(np.array([image]))\n",
    "# print(prep)\n",
    "# cv2.imshow('window', prep[0])\n",
    "# cv2.waitKey(0)\n",
    "# pred = MobileNet().predict(x=prep)\n",
    "pre = model.predict(x=prep)\n",
    "from tensorflow.keras.applications.vgg16 import decode_predictions\n",
    "print(decode_predictions(pre,top=3))\n"
   ],
   "metadata": {
    "collapsed": false,
    "pycharm": {
     "name": "#%%\n"
    }
   }
  }
 ],
 "metadata": {
  "kernelspec": {
   "display_name": "Python 3",
   "language": "python",
   "name": "python3"
  },
  "language_info": {
   "codemirror_mode": {
    "name": "ipython",
    "version": 2
   },
   "file_extension": ".py",
   "mimetype": "text/x-python",
   "name": "python",
   "nbconvert_exporter": "python",
   "pygments_lexer": "ipython2",
   "version": "2.7.6"
  }
 },
 "nbformat": 4,
 "nbformat_minor": 0
}