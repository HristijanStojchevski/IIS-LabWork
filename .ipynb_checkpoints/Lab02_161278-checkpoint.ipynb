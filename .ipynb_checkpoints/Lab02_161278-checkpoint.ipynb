{
 "cells": [
  {
   "cell_type": "code",
   "execution_count": 1,
   "metadata": {
    "pycharm": {
     "name": "#%%\n"
    }
   },
   "outputs": [],
   "source": [
    "import os\n",
    "import igraph\n",
    "import pandas as pd\n",
    "import numpy as np\n",
    "from Scripts import helper_functions, similarity_measures, random_walk, supervised_random_walks\n",
    "from sklearn.metrics import roc_auc_score, average_precision_score, confusion_matrix"
   ]
  },
  {
   "cell_type": "code",
   "execution_count": 2,
   "metadata": {
    "pycharm": {
     "name": "#%%\n"
    }
   },
   "outputs": [],
   "source": [
    "def read_graph(path):\n",
    "    # Load the graph from edgelist\n",
    "    edgelist = pd.read_csv(path,sep=\" \", header=None, dtype=str)\n",
    "    edgelist.columns = [\"source\", \"target\"]\n",
    "    # edgelist[\"label\"] = \"cites\n",
    "    uniqueNodes = edgelist[\"source\"].unique()\n",
    "    numNodes = len(uniqueNodes)\n",
    "    graph = igraph.Graph()\n",
    "    for node in uniqueNodes:\n",
    "        graph.add_vertex(node)\n",
    "    for index,row in edgelist.iterrows():\n",
    "        try:\n",
    "            graph.add_edge(row[\"source\"],row[\"target\"])\n",
    "        except:\n",
    "            graph.add_vertex(row[\"target\"])\n",
    "            graph.add_edge(row[\"source\"],row[\"target\"])\n",
    "    return graph, numNodes #node_data, feature_names, numNodes"
   ]
  },
  {
   "cell_type": "code",
   "execution_count": 3,
   "metadata": {
    "pycharm": {
     "name": "#%%\n"
    }
   },
   "outputs": [],
   "source": [
    "def feature_extraction(graph):\n",
    "     # Load the features and subject for the node\n",
    "    #  feature_names = [\"w_{}\".format(ii) for ii in range(1433)]\n",
    "    directory = os.fsencode(\"data/facebook\")\n",
    "    for file in os.listdir(directory):\n",
    "        filename = os.fsdecode(file)\n",
    "        vertName = filename.split(\".\")[0]\n",
    "        print(\"vertName = \", vertName)\n",
    "        if filename.endswith(\".circles\"):\n",
    "\n",
    "            max_feat = max(file.splitlines(), key=lambda line: len(line.split(\"\\t\")))\n",
    "            feature_names = [\"c_{}\".format(ii) for ii in range(max_feat)]\n",
    "            df = pd.read_table(\"data/facebook/{}\".format(filename),delimiter=\"\\t\",names=feature_names)\n",
    "            graph.es[vertName][\"circles\"] = df\n",
    "            print(\".circles\")\n",
    "        elif filename.endswith(\".edges\"):\n",
    "            df = pd.read_csv(\"data/facebook/{}\".format(filename),delimiter=\" \")\n",
    "            graph.es[vertName][\"edges\"] = df\n",
    "            print(\".edges\")\n",
    "        elif filename.endswith(\".egofeat\"):\n",
    "            df = pd.read_csv(\"data/facebook/{}\".format(filename),delimiter=\" \")\n",
    "            graph.es[vertName][\"egofeat\"] = df\n",
    "            print(\"ego fit\")\n",
    "        elif filename.endswith(\".feat\"):\n",
    "            df = pd.read_csv(\"data/facebook/{}\".format(filename),delimiter=\" \")\n",
    "            graph.es[vertName][\"feat\"] = df[:,1:]\n",
    "            print(\"feat\")\n",
    "        elif filename.endswith(\".featnames\"):\n",
    "            df = pd.read_csv(\"data/facebook/{}\".format(filename),delimiter=\";\")\n",
    "            graph.es[vertName][\"featnames\"] = df\n",
    "            print(\"Feat names\")\n",
    "    return graph\n",
    "    # column_names = feature_names + [\"subject\"]\n",
    "    # node_data = pd.read_table(\"./data/cora/cora.content\", header=None, names=column_names)"
   ]
  },
  {
   "cell_type": "code",
   "execution_count": null,
   "metadata": {
    "pycharm": {
     "name": "#%%\n"
    }
   },
   "outputs": [],
   "source": [
    "fbGraph, numNodes = read_graph(\"data/facebook_combined.txt\")\n",
    "print(\"Number of nodes\", numNodes)"
   ]
  },
  {
   "cell_type": "code",
   "execution_count": null,
   "metadata": {
    "pycharm": {
     "name": "#%%\n"
    }
   },
   "outputs": [],
   "source": [
    "feature_extraction(fbGraph)"
   ]
  },
  {
   "cell_type": "markdown",
   "metadata": {
    "pycharm": {
     "name": "#%% md\n"
    }
   },
   "source": [
    "Zad 1"
   ]
  },
  {
   "cell_type": "code",
   "execution_count": null,
   "metadata": {
    "pycharm": {
     "name": "#%%\n"
    }
   },
   "outputs": [],
   "source": [
    "train, test = helper_functions.split_data(fbGraph.es,0.2)\n",
    "print(train)\n",
    "neg_samples = helper_functions.generate_negative_samples(fbGraph, len(test))\n",
    "# adamic_adar = similarity_measures.similarity(fbGraph,\"adamic_adar\")"
   ]
  },
  {
   "cell_type": "code",
   "execution_count": null,
   "metadata": {
    "pycharm": {
     "name": "#%%\n"
    }
   },
   "outputs": [],
   "source": []
  },
  {
   "cell_type": "code",
   "execution_count": null,
   "metadata": {
    "pycharm": {
     "name": "#%%\n"
    }
   },
   "outputs": [],
   "source": []
  }
 ],
 "metadata": {
  "kernelspec": {
   "display_name": "Python 3",
   "language": "python",
   "name": "python3"
  },
  "language_info": {
   "codemirror_mode": {
    "name": "ipython",
    "version": 3
   },
   "file_extension": ".py",
   "mimetype": "text/x-python",
   "name": "python",
   "nbconvert_exporter": "python",
   "pygments_lexer": "ipython3",
   "version": "3.8.8"
  }
 },
 "nbformat": 4,
 "nbformat_minor": 1
}
