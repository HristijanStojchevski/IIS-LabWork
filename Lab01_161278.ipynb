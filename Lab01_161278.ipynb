{
 "cells": [
  {
   "cell_type": "code",
   "execution_count": 1,
   "outputs": [],
   "source": [
    "import numpy as np\n",
    "import pandas as pd\n",
    "import networkx as nx\n",
    "from scipy import sparse\n",
    "import matplotlib.pyplot as plt\n",
    "from sklearn.metrics import adjusted_mutual_info_score as AMS\n",
    "from sklearn.metrics import normalized_mutual_info_score as NMS\n",
    "from sklearn.cluster import SpectralClustering\n",
    "import community as community_louvain\n",
    "\n",
    "import matplotlib.cm as cm"
   ],
   "metadata": {
    "collapsed": false,
    "pycharm": {
     "name": "#%%\n"
    }
   }
  },
  {
   "cell_type": "code",
   "execution_count": 2,
   "outputs": [],
   "source": [
    "def read_graph(path):\n",
    " # Load the graph from edgelist\n",
    " edgelist = pd.read_table(path,\n",
    " header=None, names=[\"source\", \"target\"])\n",
    " edgelist[\"label\"] = \"cites\"\n",
    " numNodes = len(edgelist[\"source\"].unique())\n",
    " graph = nx.from_pandas_edgelist(edgelist, edge_attr=\"label\")\n",
    " # nx.set_node_attributes(graph, \"paper\", \"label\")\n",
    " # Load the features and subject for the nodes\n",
    "\n",
    " feature_names = [\"w_{}\".format(ii) for ii in range(1433)]\n",
    " column_names = feature_names + [\"subject\"]\n",
    " node_data = pd.read_table(\"./data/cora/cora.content\",\n",
    " header=None, names=column_names)\n",
    " return graph, node_data, feature_names, numNodes"
   ],
   "metadata": {
    "collapsed": false,
    "pycharm": {
     "name": "#%%\n"
    }
   }
  },
  {
   "cell_type": "markdown",
   "source": [
    " ##### Linear scale"
   ],
   "metadata": {
    "collapsed": false,
    "pycharm": {
     "name": "#%% md\n"
    }
   }
  },
  {
   "cell_type": "code",
   "execution_count": 3,
   "outputs": [
    {
     "data": {
      "text/plain": "<Figure size 432x288 with 1 Axes>",
      "image/png": "[encoded data removed]"
     },
     "metadata": {
      "needs_background": "light"
     },
     "output_type": "display_data"
    }
   ],
   "source": [
    "graph, node_data, feature_names, numNodes = read_graph(\"./data/cora/cora.cites\")\n",
    "\n",
    "# plt.hist([ x[1] for x in list(nx.degree(graph))])\n",
    "hist, bins, _ = plt.hist([x[0] for x in list(nx.degree(graph))], bins=8)\n",
    "plt.show()"
   ],
   "metadata": {
    "collapsed": false,
    "pycharm": {
     "name": "#%%\n"
    }
   }
  },
  {
   "cell_type": "markdown",
   "source": [
    "##### Logaritmic scale"
   ],
   "metadata": {
    "collapsed": false,
    "pycharm": {
     "name": "#%% md\n"
    }
   }
  },
  {
   "cell_type": "code",
   "execution_count": 45,
   "outputs": [
    {
     "data": {
      "text/plain": "<Figure size 432x288 with 1 Axes>",
      "image/png": "[encoded data removed]"
     },
     "metadata": {
      "needs_background": "light"
     },
     "output_type": "display_data"
    }
   ],
   "source": [
    "logbins = np.logspace(np.log10(bins[0]),np.log10(bins[-1]),len(bins))\n",
    "plt.hist([x[0] for x in list(nx.degree(graph))], bins=logbins)\n",
    "plt.xscale('log')\n",
    "plt.show()"
   ],
   "metadata": {
    "collapsed": false,
    "pycharm": {
     "name": "#%%\n"
    }
   }
  },
  {
   "cell_type": "markdown",
   "source": [
    "#### Connected components of Core graph + parameters\n",
    "- note: The graph is not fully connected"
   ],
   "metadata": {
    "collapsed": false,
    "pycharm": {
     "name": "#%% md\n"
    }
   }
  },
  {
   "cell_type": "code",
   "execution_count": 62,
   "outputs": [
    {
     "name": "stdout",
     "output_type": "stream",
     "text": [
      "Number of connected components:\n",
      "78\n",
      "Max component length: \n",
      "2485\n",
      "Avg clustering coef\n",
      "0.2406732985019372\n"
     ]
    }
   ],
   "source": [
    "conn_comp = nx.connected_components(graph)\n",
    "print(\"Number of connected components:\")\n",
    "noComp = nx.number_connected_components(graph)\n",
    "print(noComp)\n",
    "# for comp in conn_comp:\n",
    "#     print(comp)\n",
    "#     print(\"Number of nodes:\")\n",
    "#     print(len(comp))\n",
    "print(\"Max component length: \")\n",
    "largest_cc = max(conn_comp, key=len)\n",
    "print(len(largest_cc))\n",
    "# print(\"Diameter:\")\n",
    "# diame = nx.diameter(graph)\n",
    "# print(diame)\n",
    "\n",
    "print(\"Avg clustering coef\")\n",
    "avg_coef = nx.cluster.average_clustering(graph)\n",
    "print(avg_coef)"
   ],
   "metadata": {
    "collapsed": false,
    "pycharm": {
     "name": "#%%\n"
    }
   }
  },
  {
   "cell_type": "markdown",
   "source": [
    "## Task 2\n",
    "\n",
    "-   Random graph"
   ],
   "metadata": {
    "collapsed": false,
    "pycharm": {
     "name": "#%% md\n"
    }
   }
  },
  {
   "cell_type": "code",
   "execution_count": 66,
   "outputs": [
    {
     "name": "stdout",
     "output_type": "stream",
     "text": [
      "1565\n"
     ]
    }
   ],
   "source": [
    "n = numNodes\n",
    "print(n)\n",
    "p = 0.5\n",
    "k = 3\n",
    "graph_rnd = nx.gnp_random_graph(n,p)\n",
    "graph_watts = nx.watts_strogatz_graph(n,k,p)\n"
   ],
   "metadata": {
    "collapsed": false,
    "pycharm": {
     "name": "#%%\n"
    }
   }
  },
  {
   "cell_type": "code",
   "execution_count": 76,
   "outputs": [
    {
     "data": {
      "text/plain": "<Figure size 432x288 with 1 Axes>",
      "image/png": "[encoded data removed]"
     },
     "metadata": {
      "needs_background": "light"
     },
     "output_type": "display_data"
    }
   ],
   "source": [
    "hist, bins, _ = plt.hist([x[1] for x in list(nx.degree(graph_rnd))], bins=8)\n",
    "plt.show()"
   ],
   "metadata": {
    "collapsed": false,
    "pycharm": {
     "name": "#%%\n"
    }
   }
  },
  {
   "cell_type": "markdown",
   "source": [
    "##### Logaritmic scale"
   ],
   "metadata": {
    "collapsed": false
   }
  },
  {
   "cell_type": "code",
   "execution_count": 77,
   "outputs": [
    {
     "data": {
      "text/plain": "<Figure size 432x288 with 1 Axes>",
      "image/png": "[encoded data removed]"
     },
     "metadata": {
      "needs_background": "light"
     },
     "output_type": "display_data"
    }
   ],
   "source": [
    "logbins = np.logspace(np.log10(bins[0]),np.log10(bins[-1]),len(bins))\n",
    "plt.hist([x[1] for x in list(nx.degree(graph_rnd))], bins=logbins)\n",
    "plt.xscale('log')\n",
    "plt.show()"
   ],
   "metadata": {
    "collapsed": false,
    "pycharm": {
     "name": "#%%\n"
    }
   }
  },
  {
   "cell_type": "code",
   "execution_count": 79,
   "outputs": [
    {
     "name": "stdout",
     "output_type": "stream",
     "text": [
      "Number of connected components:\n",
      "1\n",
      "Max component length: \n",
      "1565\n",
      "Diameter:\n",
      "2\n",
      "Avg clustering coef\n",
      "0.5001115484458698\n"
     ]
    }
   ],
   "source": [
    "conn_comp = nx.connected_components(graph_rnd)\n",
    "print(\"Number of connected components:\")\n",
    "noComp = nx.number_connected_components(graph_rnd)\n",
    "print(noComp)\n",
    "# for comp in conn_comp:\n",
    "#     print(comp)\n",
    "#     print(\"Number of nodes:\")\n",
    "#     print(len(comp))\n",
    "print(\"Max component length: \")\n",
    "largest_cc = max(conn_comp, key=len)\n",
    "print(len(largest_cc))\n",
    "print(\"Diameter:\")\n",
    "diame = nx.diameter(graph_rnd)\n",
    "print(diame)\n",
    "\n",
    "print(\"Avg clustering coef\")\n",
    "avg_coef = nx.cluster.average_clustering(graph_rnd)\n",
    "print(avg_coef)"
   ],
   "metadata": {
    "collapsed": false,
    "pycharm": {
     "name": "#%%\n"
    }
   }
  },
  {
   "cell_type": "markdown",
   "source": [
    "-   Watts graph"
   ],
   "metadata": {
    "collapsed": false,
    "pycharm": {
     "name": "#%% md\n"
    }
   }
  },
  {
   "cell_type": "code",
   "execution_count": 71,
   "outputs": [
    {
     "data": {
      "text/plain": "<Figure size 432x288 with 1 Axes>",
      "image/png": "[encoded data removed]"
     },
     "metadata": {
      "needs_background": "light"
     },
     "output_type": "display_data"
    }
   ],
   "source": [
    "hist, bins, _ = plt.hist([x[1] for x in list(nx.degree(graph_watts))], bins=8)\n",
    "plt.show()"
   ],
   "metadata": {
    "collapsed": false,
    "pycharm": {
     "name": "#%%\n"
    }
   }
  },
  {
   "cell_type": "markdown",
   "source": [
    "##### Logaritmic scale"
   ],
   "metadata": {
    "collapsed": false
   }
  },
  {
   "cell_type": "code",
   "execution_count": 73,
   "outputs": [
    {
     "data": {
      "text/plain": "<Figure size 432x288 with 1 Axes>",
      "image/png": "[encoded data removed]"
     },
     "metadata": {
      "needs_background": "light"
     },
     "output_type": "display_data"
    }
   ],
   "source": [
    "logbins = np.logspace(np.log10(bins[0]),np.log10(bins[-1]),len(bins))\n",
    "plt.hist([x[1] for x in list(nx.degree(graph_watts))], bins=logbins)\n",
    "plt.xscale('log')\n",
    "plt.show()"
   ],
   "metadata": {
    "collapsed": false,
    "pycharm": {
     "name": "#%%\n"
    }
   }
  },
  {
   "cell_type": "code",
   "execution_count": 83,
   "outputs": [
    {
     "name": "stdout",
     "output_type": "stream",
     "text": [
      "Number of connected components:\n",
      "4\n",
      "Max component length: \n",
      "935\n",
      "Avg clustering coef\n",
      "0.0022668492317054617\n"
     ]
    }
   ],
   "source": [
    "conn_comp = nx.connected_components(graph_watts)\n",
    "print(\"Number of connected components:\")\n",
    "noComp = nx.number_connected_components(graph_watts)\n",
    "print(noComp)\n",
    "# for comp in conn_comp:\n",
    "#     print(comp)\n",
    "#     print(\"Number of nodes:\")\n",
    "#     print(len(comp))\n",
    "print(\"Max component length: \")\n",
    "largest_cc = max(conn_comp, key=len)\n",
    "print(len(largest_cc))\n",
    "# print(\"Diameter:\")\n",
    "# diame = nx.diameter(graph_watts)\n",
    "# print(diame)\n",
    "\n",
    "print(\"Avg clustering coef\")\n",
    "avg_coef = nx.cluster.average_clustering(graph_watts)\n",
    "print(avg_coef)\n"
   ],
   "metadata": {
    "collapsed": false,
    "pycharm": {
     "name": "#%%\n"
    }
   }
  },
  {
   "cell_type": "markdown",
   "source": [
    "## Task 4  ---- ASK ----"
   ],
   "metadata": {
    "collapsed": false,
    "pycharm": {
     "name": "#%% md\n"
    }
   }
  },
  {
   "cell_type": "code",
   "execution_count": 106,
   "outputs": [
    {
     "name": "stdout",
     "output_type": "stream",
     "text": [
      "{35: 17, 1033: 17, 103482: 2, 103515: 17, 1050679: 2, 1103960: 17, 1103985: 17, 1109199: 17, 1112911: 17, 1113438: 17, 1113831: 17, 1114331: 17, 1117476: 17, 1119505: 17, 1119708: 17, 1120431: 3, 1123756: 17, 1125386: 4, 1127430: 17, 1127913: 17, 1128204: 17, 1128227: 17, 1128314: 17, 1128453: 5, 1128945: 17, 1128959: 6, 1128985: 17, 1129018: 17, 1129027: 17, 1129573: 6, 1129683: 17, 1129778: 17, 1130847: 17, 1130856: 17, 1131116: 17, 1131360: 17, 1131557: 17, 1131752: 17, 1133196: 17, 1133338: 17, 1136814: 17, 1137466: 17, 1152421: 17, 1152508: 17, 1153065: 17, 1153280: 17, 1153577: 17, 1153853: 17, 1153943: 17, 1154176: 17, 1154459: 17, 116552: 17, 12576: 6, 128540: 17, 132806: 17, 135130: 6, 141342: 17, 141347: 17, 148170: 17, 15670: 17, 1688: 17, 175291: 7, 178727: 17, 18582: 17, 190697: 17, 190706: 17, 1956: 4, 197054: 17, 198443: 17, 198653: 4, 206371: 17, 210871: 17, 229635: 17, 231249: 17, 248425: 17, 249421: 12, 254923: 17, 259701: 17, 259702: 17, 263279: 17, 263498: 17, 265203: 9, 273152: 17, 27510: 2, 28290: 6, 286500: 10, 287787: 17, 28851: 17, 289779: 5, 289780: 5, 289781: 5, 307015: 17, 335733: 17, 33904: 17, 33907: 17, 35061: 17, 38205: 17, 387795: 17, 415693: 17, 41714: 17, 427606: 2, 44368: 17, 45599: 17, 46079: 17, 46431: 11, 486840: 17, 48766: 17, 503883: 17, 503893: 17, 513189: 17, 54129: 17, 54131: 17, 56119: 6, 561238: 17, 568857: 17, 573964: 17, 573978: 17, 574009: 17, 574264: 17, 574462: 17, 575077: 17, 575292: 17, 575331: 17, 576725: 17, 576795: 17, 577227: 17, 578780: 17, 579008: 17, 592973: 17, 593091: 17, 593105: 17, 593240: 17, 593260: 17, 593813: 17, 594047: 17, 594543: 17, 594649: 17, 594900: 17, 608326: 17, 634902: 17, 634904: 17, 634938: 17, 634975: 17, 640617: 17, 646809: 17, 646837: 17, 647408: 17, 647447: 17, 66556: 17, 66563: 17, 66805: 7, 69284: 17, 69296: 17, 694759: 17, 735303: 10, 78511: 10, 787016: 17, 801170: 5, 81722: 17, 82098: 2, 84021: 17, 85352: 17, 86359: 9, 8865: 17, 887: 9, 97645: 17, 98698: 17, 40: 2, 1109017: 2, 1114442: 2, 114: 9, 1103315: 9, 1105394: 9, 1106112: 13, 1106172: 9, 1106406: 9, 1107455: 9, 1111052: 9, 1114125: 9, 1117942: 9, 1118245: 9, 1118332: 2, 1120170: 9, 1126029: 9, 124064: 9, 128: 9, 130: 9, 136665: 9, 191404: 9, 193742: 9, 23258: 9, 28227: 9, 28287: 6, 28350: 9, 28387: 9, 28471: 9, 28485: 9, 341188: 9, 38480: 9, 39403: 9, 434: 9, 55968: 9, 58540: 9, 6155: 9, 6170: 9, 6196: 9, 6220: 9, 64484: 9, 7432: 9, 755217: 9, 8213: 9, 91975: 9, 976334: 9, 117: 9, 1109581: 9, 149669: 9, 17476: 9, 189708: 9, 206259: 9, 28202: 9, 28278: 9, 32872: 9, 33013: 9, 6214: 9, 75674: 9, 20526: 9, 13960: 9, 345340: 14, 288: 9, 1118092: 9, 36167: 9, 424: 11, 1135125: 11, 218666: 11, 47684: 11, 267003: 15, 463: 5, 58454: 5, 504: 25, 1102364: 25, 1112650: 25, 506: 25, 89416: 25, 1106546: 25, 10796: 15, 1105033: 9, 1111304: 9, 1113614: 9, 114308: 9, 134128: 9, 161221: 9, 170798: 4, 19045: 17, 20972: 9, 28456: 17, 299195: 9, 299197: 9, 334153: 18, 35490: 4, 595056: 9, 6151: 9, 6213: 9, 6215: 9, 64519: 9, 87363: 17, 906: 19, 1103979: 19, 1105344: 19, 1114352: 19, 1136397: 19, 1140040: 19, 34355: 19, 910: 19, 1104379: 2, 1105530: 19, 1108834: 19, 1110520: 19, 1114118: 19, 1116569: 19, 1118848: 19, 1120858: 20, 1122460: 19, 1126044: 20, 1129111: 19, 1135137: 19, 1152194: 19, 12439: 18, 12946: 19, 131042: 19, 13136: 20, 160705: 20, 227286: 19, 242637: 10, 31043: 2, 340075: 2, 340078: 19, 35905: 14, 42847: 2, 436796: 19, 48550: 10, 5462: 19, 576257: 17, 58552: 19, 5869: 19, 636511: 19, 67292: 19, 675649: 19, 684372: 19, 94953: 19, 936: 4, 1107010: 4, 1111899: 4, 129558: 4, 207395: 4, 3084: 4, 3828: 4, 38845: 4, 940: 4, 20180: 4, 28265: 4, 941: 4, 943: 4, 1152896: 4, 91852: 4, 1026: 17, 1034: 17, 1102550: 17, 1105231: 17, 1129798: 17, 1153945: 17, 1107062: 17, 1035: 17, 1110515: 17, 1213: 21, 1154525: 21, 409725: 21, 8766: 21, 1237: 13, 102938: 13, 1102400: 7, 143676: 13, 1246: 7, 1104007: 7, 42207: 7, 57764: 18, 6125: 7, 1272: 11, 1102625: 15, 1108167: 7, 1120962: 2, 112378: 18, 1123867: 11, 1128256: 11, 1129208: 9, 1135358: 15, 157805: 7, 18615: 15, 192734: 7, 20593: 18, 27230: 15, 284414: 11, 30895: 2, 30901: 2, 444240: 11, 520471: 11, 52835: 11, 552469: 11, 560936: 2, 591016: 11, 636098: 11, 65653: 11, 6917: 15, 6923: 15, 85452: 15, 85688: 15, 93923: 15, 97892: 15, 1365: 2, 1031453: 2, 1102407: 2, 1105062: 2, 1106287: 2, 1108050: 20, 1110494: 2, 1110998: 2, 1113995: 2, 1114153: 2, 1114388: 2, 1114605: 2, 1116347: 9, 1116594: 2, 1117653: 10, 1119140: 2, 1120211: 2, 1120866: 2, 1128839: 2, 1129443: 2, 1130600: 9, 1131647: 2, 1131745: 2, 1131748: 2, 1132922: 2, 1132968: 20, 1135368: 2, 1136422: 9, 1136442: 2, 1152143: 2, 1152821: 2, 1154169: 2, 120084: 20, 139865: 2, 157401: 2, 171225: 2, 184918: 2, 188318: 2, 188471: 9, 22835: 2, 23448: 2, 23502: 2, 23507: 2, 237521: 2, 26850: 2, 330148: 2, 340299: 2, 39904: 2, 49482: 2, 562123: 2, 628500: 9, 648232: 6, 649731: 2, 69392: 19, 7276: 2, 7297: 2, 77758: 2, 782486: 9, 83826: 2, 85299: 17, 853150: 2, 90888: 2, 93555: 22, 948299: 2, 948846: 2, 949318: 2, 949511: 2, 950052: 2, 950305: 23, 1481: 24, 1102567: 24, 1106052: 9, 1108267: 4, 1111614: 24, 1113934: 15, 1114864: 18, 1117184: 11, 1119295: 15, 1120563: 24, 1153891: 24, 200480: 11, 399173: 24, 4878: 24, 521207: 24, 521269: 24, 1134022: 17, 152483: 17, 1694: 17, 39474: 17, 647413: 17, 1717: 19, 1115291: 25, 1116336: 19, 1135108: 19, 50381: 19, 733167: 19, 1786: 18, 35797: 2, 1817: 17, 1114502: 17, 1919: 14, 1108389: 14, 1949: 4, 129042: 4, 3101: 4, 1951: 4, 3095: 4, 1952: 4, 1107215: 4, 1953: 4, 1153166: 4, 1153724: 4, 1153728: 4, 1955: 4, 110163: 4, 1110390: 4, 101143: 4, 1118302: 4, 1153101: 4, 1153150: 4, 263486: 4, 83449: 4, 1959: 4, 3097: 4, 310530: 4, 38839: 4, 73327: 4, 82664: 4, 1997: 11, 1102442: 11, 1108551: 11, 1109439: 11, 1109542: 11, 129897: 25, 154982: 7, 3233: 11, 49811: 15, 7032: 11, 1999: 11, 1123068: 11, 1131471: 11, 39126: 11, 6771: 11, 2354: 4, 10186: 4, 1107140: 4, 1113852: 4, 1130539: 4, 154134: 4, 40151: 11, 74749: 4, 2440: 15, 1000012: 15, 1061127: 15, 1106388: 15, 1107095: 15, 1110426: 15, 1114512: 4, 1117786: 15, 1120650: 15, 1127619: 15, 1153254: 15, 136766: 15, 136768: 15, 151430: 15, 212777: 15, 23546: 15, 49843: 15, 49844: 15, 49847: 15, 582343: 15, 591017: 11, 63931: 15, 72908: 15, 2653: 7, 102406: 18, 107177: 7, 1104055: 7, 1116268: 7, 1116842: 7, 1118764: 7, 1119751: 7, 1152075: 7, 167656: 11, 197783: 7, 28641: 7, 321861: 7, 350362: 2, 4660: 7, 59045: 7, 65650: 7, 2654: 7, 1104851: 7, 1106630: 7, 1107861: 15, 1110438: 11, 1121867: 7, 1123926: 7, 211906: 7, 27250: 7, 463825: 15, 52784: 7, 2658: 20, 1115375: 20, 1130676: 20, 1130808: 20, 1131607: 20, 1132948: 20, 1135899: 20, 1140230: 20, 230884: 20, 236759: 20, 282700: 20, 395540: 20, 578347: 20, 696342: 20, 696345: 20, 696346: 20, 751408: 20, 99023: 20, 2663: 12, 1119671: 12, 2665: 20, 1105574: 20, 1113035: 20, 1122704: 20, 1132486: 20, 205192: 20, 237489: 20, 43639: 20, 578306: 20, 578309: 20, 578337: 20, 582139: 20, 630817: 20, 631052: 2, 763009: 2, 2695: 20, 1108169: 20, 1120197: 20, 2698: 20, 342802: 20, 2696: 20, 1114192: 20, 1118083: 20, 1123239: 20, 1133004: 20, 256106: 20, 469504: 20, 5348: 20, 99025: 20, 2702: 19, 1120777: 19, 12330: 19, 395553: 19, 72056: 19, 1107171: 4, 255233: 4, 33303: 4, 3085: 24, 15889: 24, 221302: 24, 30973: 24, 395725: 24, 5062: 24, 110162: 4, 218682: 4, 1106236: 4, 129045: 4, 110164: 4, 70441: 4, 3112: 4, 103529: 4, 1152564: 4, 470511: 4, 77826: 4, 77829: 4, 3187: 25, 1110000: 25, 129896: 25, 280876: 25, 5086: 25, 3191: 25, 105865: 2, 1106789: 25, 1127530: 25, 1131267: 19, 137873: 11, 162664: 11, 308920: 25, 310742: 25, 3192: 25, 423463: 25, 561364: 25, 642827: 25, 3217: 15, 167670: 11, 238099: 15, 86840: 15, 3218: 15, 1106492: 15, 1119987: 18, 1120169: 15, 1152290: 15, 1153264: 15, 187354: 15, 277263: 11, 35070: 15, 417017: 15, 6639: 11, 66782: 14, 6767: 18, 6941: 15, 3220: 18, 1115677: 18, 1125992: 18, 1128430: 18, 1130634: 26, 1131728: 18, 1132706: 18, 120039: 18, 145215: 18, 346243: 18, 36620: 18, 39124: 7, 40922: 18, 429805: 18, 654177: 18, 69397: 18, 8832: 11, 3222: 11, 1103737: 11, 1114222: 11, 1131137: 11, 1132157: 4, 964248: 11, 3223: 4, 3229: 2, 100197: 2, 1105718: 2, 1106568: 19, 1108209: 2, 1109392: 2, 1112767: 2, 1125082: 2, 1125895: 13, 1126037: 2, 1128868: 26, 1130915: 22, 1130927: 7, 1130931: 7, 1132418: 19, 1140289: 2, 1152277: 2, 1152673: 2, 1154251: 2, 118559: 2, 133550: 10, 16461: 2, 189577: 25, 25181: 2, 25184: 2, 27174: 2, 27631: 9, 31769: 2, 33412: 14, 35343: 2, 35863: 9, 35922: 14, 390922: 14, 396412: 2, 444191: 22, 447250: 2, 52515: 24, 62347: 2, 641976: 19, 654326: 2, 7022: 2, 72101: 10, 82087: 2, 919885: 2, 92065: 19, 96335: 2, 3231: 11, 104840: 15, 1102761: 11, 1106330: 11, 1106370: 11, 1107067: 11, 1113926: 11, 1115471: 11, 1128536: 11, 1153169: 11, 180399: 2, 20850: 11, 259126: 11, 3237: 11, 328370: 19, 49660: 11, 6334: 11, 63477: 11, 63486: 11, 66594: 11, 68463: 15, 8699: 15, 8821: 11, 3232: 11, 20942: 11, 521251: 18, 1125467: 11, 192850: 7, 272720: 7, 509379: 11, 976284: 7, 3235: 11, 3236: 11, 601561: 15, 3240: 18, 1110531: 18, 39130: 18, 3243: 2, 1103610: 2, 1110947: 15, 1113739: 9, 307336: 19, 31932: 26, 368431: 2, 854434: 2, 3932: 4, 5075: 24, 4274: 15, 1105428: 15, 1114664: 15, 1119078: 15, 4329: 9, 105899: 9, 1110768: 9, 28254: 9, 395547: 19, 46468: 9, 510718: 11, 4330: 19, 1103676: 11, 1104449: 19, 11093: 19, 1112929: 28, 1132459: 19, 1132461: 19, 1136393: 19, 1152917: 19, 118436: 10, 119956: 19, 120013: 9, 151708: 19, 168410: 9, 32688: 19, 37884: 14, 390889: 19, 428610: 19, 684986: 19, 69418: 19, 753265: 10, 949217: 19, 4335: 19, 1104300: 19, 1121254: 14, 1136310: 19, 1140547: 14, 116790: 14, 239800: 19, 32698: 19, 62274: 7, 62417: 19, 755082: 19, 95718: 19, 4553: 29, 1102548: 29, 4584: 9, 1120020: 9, 1130567: 9, 13885: 2, 13917: 9, 293285: 9, 6184: 9, 6210: 9, 628815: 9, 4637: 7, 164: 7, 4649: 15, 1105887: 15, 1127851: 15, 135765: 15, 135766: 15, 411092: 15, 449841: 15, 8703: 15, 429781: 7, 5038: 7, 4804: 7, 102884: 7, 1108175: 7, 1112574: 7, 1153262: 7, 12182: 7, 12210: 7, 157761: 7, 25805: 7, 45189: 7, 68505: 7, 77515: 7, 989397: 7, 4983: 30, 7867: 30, 5055: 7, 28026: 24, 5064: 24, 5069: 24, 1121176: 24, 1129106: 24, 272345: 24, 385067: 24, 109323: 25, 1105698: 25, 137849: 25, 354004: 25, 440815: 36, 79809: 25, 5194: 10, 1152714: 10, 133563: 10, 133566: 10, 140569: 10, 139547: 20, 75695: 20, 911198: 20, 5454: 20, 1128425: 20, 1130680: 20, 5600: 4, 1022969: 4, 1117833: 4, 5959: 15, 152226: 7, 545647: 15, 582511: 15, 5966: 15, 1107572: 7, 12211: 7, 27612: 7, 385251: 7, 6130: 19, 1154123: 19, 1154124: 19, 671269: 19, 675847: 19, 1106547: 6, 1107355: 9, 1385: 9, 6152: 9, 6163: 9, 1106966: 9, 20534: 9, 96847: 9, 6169: 9, 1114629: 9, 170338: 9, 7419: 9, 10981: 2, 1120731: 9, 13686: 9, 399339: 9, 1153056: 9, 81350: 9, 6209: 9, 1108329: 4, 118259: 9, 118260: 9, 181782: 15, 212930: 12, 8875: 17, 95579: 9, 1105764: 9, 1109957: 9, 1111230: 9, 1113182: 9, 1113459: 9, 1117760: 9, 1122425: 9, 1123553: 9, 1128267: 9, 1129096: 9, 1129243: 9, 13193: 9, 153598: 9, 17208: 9, 195361: 9, 218410: 9, 23774: 9, 241133: 9, 293271: 9, 353541: 15, 6224: 9, 628667: 9, 628668: 9, 672064: 19, 1115886: 9, 1152740: 9, 28447: 24, 6378: 9, 93320: 2, 95589: 14, 6216: 9, 230300: 9, 6238: 2, 10793: 2, 1123991: 2, 1130356: 2, 84459: 2, 6311: 18, 235776: 18, 6318: 15, 1108656: 15, 1121057: 11, 20833: 15, 1152307: 11, 1152448: 11, 1152975: 11, 1153703: 11, 6343: 18, 141868: 18, 359067: 11, 521252: 18, 6344: 11, 1112665: 11, 6346: 17, 1106103: 17, 1112075: 17, 28473: 9, 6385: 9, 1103162: 9, 682666: 9, 892139: 9, 6539: 7, 1102646: 7, 116084: 11, 178209: 11, 568045: 11, 6741: 15, 1130637: 15, 1153160: 15, 348437: 15, 49895: 15, 51909: 15, 83725: 6, 9708: 15, 1120444: 24, 6925: 7, 6775: 2, 1111240: 2, 350319: 2, 6782: 15, 6784: 2, 100961: 2, 1116629: 2, 60170: 2, 6786: 25, 714975: 25, 6814: 14, 1117348: 14, 1125469: 14, 158172: 14, 293974: 14, 300071: 14, 315266: 14, 390896: 14, 445938: 14, 6818: 14, 1105531: 14, 50336: 14, 50337: 14, 6898: 22, 1123188: 22, 124224: 22, 12631: 22, 431206: 22, 6910: 22, 78994: 22, 1117219: 22, 1132083: 22, 1152150: 22, 1154103: 22, 169279: 22, 263553: 22, 662416: 22, 6913: 19, 1105011: 19, 1131230: 19, 703953: 19, 1153811: 11, 1155073: 15, 20857: 15, 308003: 15, 1114526: 7, 1118658: 7, 372862: 15, 57922: 7, 57948: 7, 6935: 15, 101660: 15, 1115670: 15, 6939: 18, 1116922: 18, 323128: 18, 52847: 11, 7041: 32, 1120880: 32, 7047: 12, 1135082: 12, 14549: 11, 54844: 12, 7272: 2, 1136446: 2, 763181: 2, 7296: 2, 763010: 2, 1107312: 9, 7430: 14, 1153287: 14, 95586: 14, 7532: 10, 1121603: 10, 1153097: 10, 141171: 10, 314459: 10, 7537: 10, 80515: 10, 1113534: 10, 1131348: 10, 409255: 10, 1138027: 30, 315789: 30, 8079: 7, 105057: 18, 8224: 15, 1108728: 15, 1111788: 18, 1128531: 15, 1132815: 11, 11342: 15, 1153148: 15, 1153866: 15, 133615: 15, 22431: 15, 22563: 18, 23738: 15, 55403: 15, 601567: 15, 62389: 15, 97377: 18, 8581: 20, 1120059: 20, 75691: 2, 8591: 21, 137956: 21, 167205: 21, 709113: 21, 8594: 21, 1132809: 21, 180187: 21, 232605: 21, 58268: 21, 8617: 7, 12359: 10, 36145: 7, 8619: 7, 8687: 15, 1102751: 15, 38000: 18, 8696: 15, 101145: 4, 173884: 15, 27535: 15, 308232: 15, 502574: 15, 51866: 15, 59244: 15, 89335: 15, 1129570: 17, 395075: 17, 608292: 17, 785678: 17, 8872: 17, 1104647: 17, 1125092: 17, 1152761: 17, 1153860: 17, 8874: 17, 1120643: 17, 1153816: 17, 1152676: 17, 8961: 2, 1133390: 2, 9513: 7, 102879: 7, 9515: 7, 9559: 34, 1102794: 34, 252725: 34, 9581: 22, 1130780: 22, 633585: 22, 9586: 10, 1120138: 10, 33818: 10, 1153003: 35, 9716: 7, 28674: 7, 10169: 11, 114189: 11, 158614: 11, 17798: 11, 211875: 14, 39131: 11, 711598: 11, 10174: 4, 10177: 7, 12197: 7, 12198: 7, 124734: 7, 15429: 7, 249858: 7, 27606: 7, 67415: 7, 68495: 7, 10183: 4, 10430: 4, 1114336: 4, 1120713: 4, 259772: 4, 47570: 24, 54550: 4, 10435: 18, 1103394: 18, 208345: 24, 22566: 18, 41417: 4, 10531: 26, 1102850: 26, 1107567: 7, 1129442: 26, 194617: 26, 31336: 26, 31349: 26, 31353: 26, 43698: 26, 686532: 26, 180373: 2, 31097: 15, 46536: 15, 6217: 18, 10798: 15, 1154500: 15, 18619: 15, 20193: 24, 252715: 15, 1102873: 2, 39199: 19, 11148: 21, 1129835: 21, 1131719: 21, 193354: 21, 25413: 21, 11326: 18, 11339: 18, 11335: 15, 1127657: 15, 11325: 15, 217139: 4, 11337: 11, 211432: 18, 44017: 15, 45061: 18, 12155: 7, 1126350: 7, 12158: 7, 12199: 7, 148399: 7, 12165: 7, 1112099: 7, 12169: 7, 1119471: 7, 1059953: 7, 1106418: 7, 1117249: 7, 1153183: 10, 155736: 7, 219239: 7, 28632: 7, 28640: 7, 309476: 7, 94713: 7, 12194: 7, 27199: 7, 12195: 7, 1107319: 7, 1131611: 17, 1132285: 7, 38722: 7, 51180: 7, 111866: 7, 95225: 7, 12247: 7, 12238: 7, 101263: 7, 107569: 19, 1152490: 19, 1153861: 19, 156977: 19, 213279: 7, 400356: 19, 12337: 10, 16451: 10, 16470: 10, 16474: 10, 12347: 10, 12350: 7, 101811: 15, 152227: 7, 20601: 7, 20602: 7, 1131634: 2, 1071981: 6, 1104999: 6, 1105221: 6, 1107674: 6, 127033: 6, 416455: 6, 56112: 6, 56709: 6, 574710: 6, 575795: 17, 62718: 6, 63832: 6, 12638: 22, 119761: 22, 13024: 21, 899119: 21, 13195: 9, 13205: 19, 1105148: 19, 13208: 19, 131318: 19, 13212: 19, 214472: 19, 358884: 19, 411005: 19, 13213: 2, 13269: 14, 13652: 3, 13654: 3, 13656: 3, 83746: 3, 1115959: 3, 119686: 3, 987188: 3, 13658: 3, 294239: 3, 13717: 18, 37998: 18, 13966: 9, 13972: 9, 1126050: 9, 13982: 7, 34979: 7, 14062: 17, 1152358: 17, 646836: 17, 97390: 17, 98693: 17, 14083: 36, 1103016: 36, 14090: 36, 643069: 36, 14428: 37, 1103031: 37, 1103969: 37, 14429: 37, 14431: 37, 34082: 37, 73119: 37, 1119216: 37, 14430: 37, 14529: 18, 1103038: 11, 239829: 18, 14531: 11, 1105932: 11, 1152308: 11, 56167: 11, 592830: 11, 60682: 11, 14545: 11, 14807: 10, 264347: 10, 15076: 19, 25702: 19, 708945: 19, 175576: 7, 210309: 19, 217115: 7, 35854: 7, 41666: 19, 89547: 7, 15431: 7, 12558: 17, 1110024: 24, 1118388: 24, 15892: 24, 175909: 24, 1116146: 24, 15984: 25, 158098: 25, 15987: 25, 523394: 25, 653441: 25, 714289: 25, 16008: 25, 1131165: 25, 189571: 25, 189572: 25, 16437: 10, 152219: 12, 430329: 10, 51831: 10, 1105603: 2, 1129621: 10, 16471: 10, 1104787: 10, 1114992: 10, 273949: 10, 16476: 10, 1123087: 10, 16485: 10, 105856: 10, 1109891: 10, 1120049: 10, 16819: 36, 1131167: 36, 1131236: 36, 1131274: 36, 1131312: 36, 126793: 36, 643003: 36, 643221: 36, 644093: 36, 644334: 36, 646195: 36, 646286: 36, 16843: 36, 1152259: 36, 1152991: 36, 17201: 9, 1126012: 14, 184157: 9, 95435: 9, 1152633: 14, 17242: 25, 17363: 22, 17477: 9, 17488: 9, 17811: 11, 1107136: 11, 17821: 38, 245955: 38, 18251: 9, 18313: 12, 18532: 10, 86923: 10, 18536: 10, 1106854: 10, 424540: 10, 1153091: 15, 18770: 11, 28964: 14, 531348: 11, 531351: 11, 18773: 11, 88356: 11, 18774: 14, 73146: 14, 18777: 14, 103537: 14, 1112686: 14, 173863: 14, 66794: 14, 79817: 25, 18781: 7, 18785: 7, 18811: 14, 1106401: 14, 20920: 19, 18812: 19, 510715: 19, 18815: 19, 18832: 9, 18833: 9, 18834: 9, 1152944: 9, 593210: 17, 593328: 17, 593329: 17, 19231: 9, 1153736: 9, 12960: 9, 30934: 9, 686061: 9, 19621: 2, 1128846: 2, 1131464: 2, 123825: 2, 240791: 17, 628888: 28, 649730: 2, 649739: 2, 66990: 19, 853116: 2, 948147: 19, 19697: 19, 40124: 19, 20178: 4, 38829: 4, 64271: 4, 91853: 4, 20179: 4, 95188: 4, 1108597: 24, 1114777: 24, 1116397: 4, 1116839: 24, 1119180: 24, 112813: 24, 1130653: 24, 1130657: 24, 1138091: 24, 1152244: 4, 1153877: 24, 1153879: 24, 1153889: 24, 144330: 11, 566488: 24, 566653: 24, 566664: 24, 20528: 11, 70442: 4, 20584: 18, 1106849: 18, 1118823: 18, 20592: 18, 389715: 18, 1118209: 7, 1121537: 7, 20821: 15, 1127863: 15, 20923: 24, 1115701: 24, 1116530: 24, 20924: 24, 289885: 24, 294030: 24, 1116181: 9, 22229: 17, 1103383: 17, 1107418: 17, 1128369: 17, 144701: 17, 22241: 17, 243483: 17, 459216: 17, 595193: 17, 22386: 4, 1128407: 4, 38846: 4, 107251: 18, 107252: 18, 1121459: 18, 22564: 18, 36140: 18, 63915: 18, 94229: 10, 1110563: 2, 22869: 4, 22876: 4, 22874: 4, 22875: 15, 22883: 15, 22886: 24, 1107367: 24, 23069: 25, 23070: 25, 74700: 25, 1116044: 25, 134307: 25, 134316: 25, 74698: 25, 87915: 25, 23116: 19, 1105433: 19, 1111978: 19, 152731: 2, 217852: 15, 101662: 15, 1153064: 15, 189574: 25, 27249: 9, 84020: 15, 24043: 19, 1111265: 19, 928873: 19, 24476: 25, 1103499: 25, 1153024: 25, 24530: 9, 24966: 19, 1106671: 19, 1123576: 19, 1131149: 19, 1154042: 19, 124828: 19, 145134: 19, 145176: 19, 197452: 11, 202639: 19, 27627: 9, 63549: 19, 65212: 19, 671293: 19, 95719: 19, 24974: 19, 1104258: 19, 1112723: 19, 34315: 19, 40125: 19, 285675: 19, 385572: 2, 1153897: 17, 147870: 19, 25772: 11, 1104769: 11, 1122580: 11, 1126503: 11, 641956: 19, 25791: 9, 45212: 9, 25794: 11, 1110028: 7, 1121063: 7, 248119: 7, 27203: 7, 23545: 15, 27241: 15, 27243: 7, 27246: 4, 1128990: 2, 27514: 2, 27530: 11, 1128542: 11, 27531: 11, 592826: 11, 1112026: 15, 34961: 15, 27543: 11, 27623: 9, 1104182: 9, 27632: 9, 686015: 9, 686030: 9, 116021: 9, 27895: 18, 325497: 9, 28230: 4, 28249: 9, 1152436: 4, 28267: 4, 308529: 6, 567005: 6, 28336: 17, 108047: 17, 28359: 9, 28385: 13, 118558: 13, 28389: 15, 28412: 18, 194645: 9, 28487: 9, 28489: 9, 28491: 9, 1152910: 9, 28504: 14, 1139928: 7, 131315: 14, 365294: 14, 28542: 9, 32260: 7, 28649: 7, 155738: 7, 578669: 17, 595157: 17, 28957: 14, 159897: 14, 1125402: 14, 1125944: 14, 29492: 12, 1112426: 12, 1122574: 12, 131117: 12, 144408: 12, 29708: 14, 400473: 12, 29723: 14, 29738: 39, 155277: 39, 30817: 2, 144679: 5, 31055: 7, 31083: 11, 48066: 11, 31105: 7, 1105672: 7, 1063773: 26, 1124844: 26, 1129608: 26, 1135746: 7, 1152162: 14, 1152272: 14, 1152904: 14, 286562: 26, 31927: 26, 686559: 26, 31479: 24, 39165: 11, 31483: 11, 118682: 11, 31489: 22, 40583: 22, 40605: 22, 632796: 22, 632874: 22, 632935: 22, 633721: 22, 67245: 2, 67246: 2, 31863: 25, 358894: 25, 91581: 25, 1129572: 26, 32083: 2, 1153933: 24, 200630: 2, 346292: 22, 45605: 17, 688361: 2, 32276: 19, 174418: 19, 636500: 19, 84695: 19, 33231: 14, 1132887: 14, 33301: 4, 33325: 7, 1110256: 7, 124296: 14, 34708: 18, 78549: 10, 78552: 10, 78557: 10, 33823: 10, 1119004: 10, 33895: 17, 1110546: 17, 34257: 35, 1106771: 35, 1111186: 35, 1114398: 35, 1115456: 35, 1116974: 35, 1122642: 35, 192870: 35, 34263: 35, 34266: 35, 368605: 35, 87482: 35, 90655: 35, 503871: 17, 682815: 17, 35335: 2, 168958: 2, 59772: 2, 1104031: 4, 1116410: 4, 35778: 14, 108962: 14, 108983: 14, 519318: 14, 1128974: 17, 399370: 2, 60169: 2, 627024: 20, 35852: 17, 41732: 17, 134060: 9, 1105116: 14, 194223: 14, 390894: 14, 66982: 19, 36131: 14, 77438: 14, 350373: 18, 46500: 18, 36162: 11, 189620: 14, 36802: 14, 189856: 14, 37888: 14, 589923: 14, 590022: 14, 37483: 15, 37541: 2, 260979: 2, 37879: 14, 1128997: 17, 1129610: 17, 1153942: 17, 117316: 17, 592975: 17, 592986: 17, 593060: 17, 606647: 17, 61069: 17, 38537: 36, 1131270: 36, 1131277: 36, 137868: 25, 153063: 36, 642847: 36, 38771: 40, 1104191: 40, 1110579: 4, 39127: 11, 1128881: 11, 1128927: 11, 1128935: 11, 116081: 11, 116087: 11, 195150: 11, 46476: 11, 75972: 11, 39210: 19, 66986: 19, 39890: 25, 1123689: 25, 1154229: 25, 1154232: 25, 1154233: 25, 242663: 25, 51045: 25, 521855: 25, 559804: 25, 714256: 25, 40131: 19, 118079: 19, 40135: 19, 1104261: 11, 884094: 22, 40886: 18, 41216: 19, 1113551: 4, 128383: 4, 943087: 19, 144212: 17, 182094: 17, 44455: 17, 42156: 2, 1118120: 2, 1152179: 2, 42209: 7, 42221: 7, 42848: 2, 1116835: 2, 43165: 41, 1131195: 41, 43186: 2, 1135894: 11, 206524: 15, 48075: 15, 44121: 42, 1104435: 42, 227178: 17, 44514: 17, 253971: 17, 606479: 17, 45052: 7, 1131266: 7, 45188: 7, 1130929: 7, 1105450: 7, 1132385: 7, 45533: 35, 1104495: 35, 45603: 17, 1131639: 17, 975567: 17, 1152569: 17, 46452: 15, 46470: 7, 46491: 18, 137380: 15, 46547: 18, 51834: 14, 46501: 18, 1153275: 18, 46887: 18, 1153106: 18, 47682: 11, 1125393: 11, 47683: 11, 47839: 43, 1124837: 43, 48555: 10, 48764: 17, 48768: 17, 48781: 17, 1134865: 17, 397488: 17, 423816: 17, 1112369: 2, 217984: 2, 49720: 44, 49753: 44, 683355: 14, 50354: 10, 123556: 10, 289088: 10, 50807: 45, 1104749: 45, 50838: 11, 50980: 46, 73972: 46, 51049: 25, 1134320: 25, 51052: 25, 51879: 15, 51934: 11, 52000: 47, 1104809: 47, 52007: 47, 52003: 47, 1112194: 47, 300806: 14, 446271: 24, 53942: 11, 1128291: 17, 1128319: 17, 1136791: 17, 117315: 17, 578645: 17, 578646: 17, 578649: 17, 593022: 17, 1128982: 17, 141324: 17, 459213: 17, 459214: 17, 593859: 17, 593942: 17, 59715: 17, 54132: 17, 593921: 17, 594387: 17, 62634: 17, 1104946: 12, 55770: 24, 55801: 24, 56115: 6, 1119178: 11, 239810: 11, 56708: 6, 57119: 17, 1132731: 17, 711527: 18, 57773: 48, 1154524: 48, 235670: 48, 57932: 7, 58436: 5, 1114239: 5, 87417: 5, 58453: 5, 1113828: 19, 248395: 19, 58758: 17, 1128208: 17, 576973: 17, 59626: 7, 96845: 17, 59798: 2, 60159: 2, 61073: 17, 61312: 17, 61417: 15, 1106764: 15, 94416: 15, 62329: 17, 1131565: 17, 195792: 17, 251756: 17, 593155: 17, 650834: 17, 62333: 2, 1107325: 15, 1107558: 19, 62607: 49, 294145: 49, 62676: 36, 312409: 36, 83461: 15, 63812: 11, 1105360: 11, 63835: 9, 64319: 7, 65057: 25, 1125909: 25, 519353: 25, 65074: 25, 1110209: 25, 1117920: 25, 142268: 25, 714748: 25, 1112319: 7, 1123530: 17, 66564: 17, 66596: 11, 362926: 11, 66751: 26, 1135750: 26, 1138043: 26, 573535: 26, 693143: 26, 695284: 26, 1105505: 14, 1153031: 14, 509315: 7, 82090: 2, 66809: 2, 1117501: 19, 171954: 26, 67584: 36, 1127558: 36, 1127566: 36, 562067: 36, 67633: 24, 68115: 11, 68224: 20, 69198: 12, 231198: 12, 70281: 7, 70444: 4, 70520: 9, 70970: 17, 593068: 17, 71336: 2, 71736: 36, 71904: 19, 1135122: 19, 1118347: 10, 72406: 9, 72805: 51, 899085: 51, 954315: 15, 73162: 25, 1134348: 25, 189774: 25, 714260: 25, 714879: 25, 73323: 24, 1105810: 24, 73712: 47, 74427: 35, 74821: 19, 1120252: 19, 1131150: 19, 74920: 52, 1105877: 52, 74921: 52, 74937: 52, 74975: 4, 1107041: 4, 75121: 15, 75318: 10, 103430: 10, 1121569: 10, 75693: 19, 75694: 19, 75969: 11, 1128856: 11, 75983: 19, 1115790: 19, 77108: 26, 77112: 26, 106590: 14, 1129994: 14, 1129907: 2, 613409: 2, 78508: 10, 575402: 17, 78555: 10, 662279: 22, 662572: 22, 1121659: 25, 1131466: 25, 358866: 25, 80491: 10, 80656: 3, 81714: 17, 82666: 4, 82920: 17, 1125492: 17, 1128198: 17, 1129367: 17, 576691: 17, 83847: 19, 1130678: 19, 1106298: 15, 1133047: 17, 509233: 17, 85324: 28, 628751: 28, 577086: 17, 85449: 15, 86258: 7, 1133469: 9, 1114184: 10, 1153786: 25, 89308: 4, 103528: 4, 137130: 25, 1116328: 7, 1152379: 7, 237376: 7, 90470: 14, 91038: 24, 92589: 11, 93273: 7, 93318: 9, 1152958: 22, 143801: 22, 284023: 22, 284025: 22, 93755: 7, 1111733: 10, 94639: 17, 94641: 17, 116553: 17, 95198: 4, 95588: 9, 95594: 14, 95597: 9, 95642: 24, 990075: 24, 594025: 9, 96851: 17, 100935: 17, 99030: 20, 193931: 2, 100701: 4, 596075: 4, 101261: 7, 102061: 7, 102939: 13, 1154074: 10, 1113742: 17, 246618: 17, 103531: 4, 656048: 4, 126912: 14, 103543: 36, 126927: 36, 289085: 10, 193932: 2, 1095507: 14, 1107385: 19, 1153899: 17, 578898: 17, 108963: 14, 310653: 14, 108974: 14, 1133417: 14, 683404: 14, 110041: 17, 111676: 4, 111770: 53, 1119623: 53, 112099: 24, 112787: 24, 114966: 54, 1125258: 54, 115188: 55, 1107728: 55, 116512: 56, 1107808: 56, 116528: 11, 116545: 17, 117328: 4, 1115166: 4, 118424: 10, 118435: 10, 1121739: 2, 118873: 3, 1109566: 3, 119712: 19, 1140543: 20, 120817: 20, 1109873: 20, 121792: 57, 1152394: 57, 141160: 10, 1154276: 19, 124952: 14, 1119742: 14, 1126011: 14, 189721: 14, 126867: 58, 1108258: 58, 126868: 58, 126909: 36, 126920: 36, 645897: 36, 126926: 36, 127940: 10, 1114364: 10, 243274: 10, 128203: 4, 128202: 4, 1108363: 4, 1121313: 4, 129287: 19, 907845: 19, 131122: 12, 131317: 19, 132821: 26, 133553: 10, 133567: 10, 133628: 59, 1108570: 59, 481073: 9, 134199: 17, 164885: 17, 447224: 17, 134219: 17, 134314: 25, 134315: 25, 134320: 25, 135464: 20, 1135589: 20, 135798: 15, 136767: 15, 137359: 4, 1118286: 4, 137790: 4, 1131300: 36, 1154068: 25, 139738: 19, 1108841: 2, 140005: 15, 1131345: 10, 917493: 10, 503877: 17, 608191: 17, 141596: 19, 143323: 4, 143476: 14, 1131549: 17, 219446: 12, 1128975: 17, 1136342: 17, 595063: 17, 145315: 60, 294126: 60, 649944: 60, 145384: 14, 1109185: 19, 1132434: 19, 148341: 17, 1109208: 17, 149139: 61, 1123215: 61, 1120786: 19, 987197: 7, 583318: 17, 1131223: 36, 561568: 36, 561581: 36, 561593: 36, 561595: 36, 561610: 36, 561613: 36, 645084: 36, 154023: 62, 1112106: 62, 1133846: 62, 154047: 62, 1130934: 7, 1133028: 7, 155158: 15, 397590: 15, 156794: 9, 1118017: 2, 158812: 12, 1127812: 12, 159084: 63, 1152711: 63, 159085: 63, 241821: 63, 160732: 11, 1128853: 11, 1153922: 12, 162075: 23, 1109830: 23, 162080: 23, 737204: 23, 1135345: 23, 739707: 23, 163235: 20, 166420: 7, 166825: 24, 166989: 7, 168332: 9, 169280: 22, 656231: 4, 1138755: 26, 820662: 26, 174425: 19, 175256: 17, 175548: 10, 689152: 10, 753070: 10, 177115: 24, 177993: 17, 177998: 17, 178718: 17, 179180: 2, 179702: 10, 1152859: 10, 179706: 10, 180301: 64, 1110628: 64, 1120084: 2, 182093: 17, 1131550: 17, 650814: 17, 187260: 65, 1110950: 65, 189566: 14, 1153014: 14, 189623: 14, 189655: 25, 1129518: 14, 1134346: 25, 190698: 17, 191222: 19, 191216: 19, 193347: 21, 612306: 21, 193352: 21, 193918: 2, 194609: 26, 1154520: 26, 126128: 26, 215912: 26, 563613: 26, 248823: 9, 377303: 17, 198866: 4, 199571: 11, 643734: 2, 202520: 24, 202522: 24, 643597: 25, 203646: 19, 205196: 28, 1130568: 28, 1130586: 28, 628764: 28, 628766: 28, 815096: 17, 950986: 28, 1128151: 17, 1129629: 17, 210872: 17, 212097: 66, 1112071: 66, 212107: 66, 213246: 35, 216877: 18, 1117618: 18, 216878: 18, 1152663: 9, 219218: 67, 1112417: 67, 567018: 12, 219976: 4, 220420: 17, 226698: 2, 1122304: 2, 1128946: 17, 228990: 68, 228992: 68, 230879: 20, 1133428: 20, 696343: 20, 851968: 20, 1153195: 12, 232606: 21, 232860: 69, 1113084: 69, 233106: 19, 12275: 19, 630890: 19, 235678: 48, 235679: 48, 689439: 48, 235683: 48, 238401: 4, 240321: 19, 1113541: 10, 245288: 19, 1121398: 17, 248431: 17, 250566: 11, 253762: 19, 255628: 20, 258259: 2, 260121: 19, 261040: 11, 262108: 2, 262121: 2, 262178: 2, 1138968: 2, 263069: 17, 263482: 4, 264556: 10, 335042: 10, 267824: 12, 270456: 19, 270600: 35, 1114838: 35, 278394: 20, 278403: 20, 1152959: 22, 285687: 19, 286513: 17, 288107: 61, 1153784: 5, 289945: 10, 292277: 17, 578845: 17, 1133010: 14, 302545: 70, 1152858: 70, 1131198: 17, 643199: 17, 307656: 17, 270085: 17, 1139195: 30, 318071: 14, 318187: 18, 321004: 71, 1117049: 71, 1117089: 7, 325314: 20, 330208: 20, 337766: 4, 348305: 21, 1118546: 25, 358887: 25, 360028: 18, 367312: 72, 1119211: 72, 746058: 72, 368657: 73, 400455: 73, 370366: 19, 375605: 17, 375825: 53, 376704: 74, 1119654: 74, 379288: 24, 380341: 75, 60560: 75, 384428: 76, 1120019: 76, 390693: 17, 684972: 19, 1135115: 24, 408885: 77, 1154173: 77, 416867: 7, 416964: 10, 421481: 53, 430574: 78, 1105622: 78, 430711: 79, 1132416: 79, 671052: 79, 645571: 36, 446610: 14, 1123093: 15, 458439: 80, 1123493: 80, 459206: 17, 466170: 14, 467383: 17, 1128977: 17, 1131374: 17, 1154076: 17, 577331: 17, 646913: 17, 1125597: 17, 1125906: 14, 1125953: 11, 521183: 18, 1125993: 24, 522338: 14, 1132864: 14, 683360: 14, 523010: 20, 523574: 25, 529165: 81, 1126315: 81, 561582: 36, 646440: 36, 561611: 36, 561674: 36, 1127541: 36, 561789: 36, 1127551: 36, 561809: 36, 562940: 15, 1127810: 6, 573553: 26, 1138970: 26, 593544: 17, 608190: 17, 1131734: 17, 576362: 17, 1128201: 17, 578365: 20, 1153900: 17, 578650: 17, 1128943: 17, 1128978: 17, 593559: 17, 593560: 17, 579108: 17, 1128437: 15, 582349: 15, 592993: 17, 592996: 17, 593248: 17, 593104: 17, 1129015: 17, 593201: 17, 593209: 17, 1153896: 17, 594011: 17, 594039: 17, 594119: 82, 1129021: 82, 594483: 83, 1129040: 83, 594511: 17, 601462: 17, 1129368: 17, 1129369: 17, 604073: 84, 1129494: 84, 610529: 85, 1153946: 85, 616336: 48, 617378: 86, 1130069: 86, 617575: 87, 1130080: 87, 621555: 88, 1130243: 88, 626530: 89, 1130454: 89, 1154012: 89, 626531: 89, 626574: 89, 626999: 20, 628458: 90, 628459: 90, 631015: 2, 633030: 91, 633031: 91, 633081: 22, 672070: 19, 672071: 19, 642593: 92, 1131163: 92, 642621: 36, 1131164: 36, 1131258: 36, 642641: 36, 642681: 36, 644441: 36, 642798: 36, 1131172: 36, 644470: 36, 642894: 36, 1131180: 36, 1131301: 36, 1131335: 36, 643239: 36, 643485: 36, 645046: 36, 645870: 36, 646334: 36, 646357: 36, 642920: 93, 1131184: 93, 642930: 93, 1131189: 36, 1131192: 36, 1131257: 36, 1131305: 36, 1131334: 36, 644448: 36, 644577: 36, 643695: 25, 643777: 2, 643735: 2, 644361: 36, 645016: 36, 644363: 36, 644427: 36, 1131314: 36, 644494: 36, 644843: 36, 1154071: 36, 645088: 36, 645452: 36, 646289: 19, 646412: 94, 1131330: 94, 646900: 17, 1131359: 17, 647315: 17, 648106: 95, 1131421: 95, 648112: 95, 1131420: 95, 648121: 95, 648369: 96, 1131414: 96, 650807: 17, 653628: 97, 1133930: 97, 1131741: 2, 654339: 2, 654519: 98, 1131754: 98, 1131828: 4, 662250: 99, 1132073: 99, 1132406: 79, 1132443: 19, 1132505: 19, 675756: 19, 682508: 100, 1132857: 100, 683294: 100, 684531: 19, 687401: 10, 688824: 101, 1133008: 101, 688849: 14, 1134031: 21, 709518: 0, 1134056: 0, 711994: 1, 1134197: 1, 714208: 25, 1154230: 25, 733534: 19, 733576: 12, 734406: 24, 735311: 10, 738941: 23, 1135455: 23, 739280: 72, 739816: 11, 1140548: 11, 752684: 33, 1135955: 33, 753047: 10, 1136631: 10, 1136634: 10, 753264: 10, 767763: 10, 754594: 8, 1136040: 8, 756061: 2, 1136110: 2, 1136447: 2, 762980: 2, 1136449: 2, 779960: 16, 1137140: 16, 814836: 50, 1138619: 50, 815073: 28, 817774: 27, 820661: 27, 824245: 31, 1139009: 31, 1140231: 20, 853114: 2, 853155: 2, 853115: 2, 853118: 2}\n",
      "0.8158428151143495\n",
      "[17, 17, 2, 17, 2, 17, 17, 17, 17, 17, 17, 17, 17, 17, 17, 3, 17, 4, 17, 17, 17, 17, 17, 5, 17, 6, 17, 17, 17, 6, 17, 17, 17, 17, 17, 17, 17, 17, 17, 17, 17, 17, 17, 17, 17, 17, 17, 17, 17, 17, 17, 17, 6, 17, 17, 6, 17, 17, 17, 17, 17, 7, 17, 17, 17, 17, 4, 17, 17, 4, 17, 17, 17, 17, 17, 12, 17, 17, 17, 17, 17, 9, 17, 2, 6, 10, 17, 17, 5, 5, 5, 17, 17, 17, 17, 17, 17, 17, 17, 17, 2, 17, 17, 17, 11, 17, 17, 17, 17, 17, 17, 17, 6, 17, 17, 17, 17, 17, 17, 17, 17, 17, 17, 17, 17, 17, 17, 17, 17, 17, 17, 17, 17, 17, 17, 17, 17, 17, 17, 17, 17, 17, 17, 17, 17, 17, 17, 17, 17, 17, 7, 17, 17, 17, 10, 10, 17, 5, 17, 2, 17, 17, 9, 17, 9, 17, 17, 2, 2, 2, 9, 9, 9, 13, 9, 9, 9, 9, 9, 9, 9, 2, 9, 9, 9, 9, 9, 9, 9, 9, 9, 9, 6, 9, 9, 9, 9, 9, 9, 9, 9, 9, 9, 9, 9, 9, 9, 9, 9, 9, 9, 9, 9, 9, 9, 9, 9, 9, 9, 9, 9, 9, 9, 9, 9, 9, 9, 14, 9, 9, 9, 11, 11, 11, 11, 15, 5, 5, 25, 25, 25, 25, 25, 25, 15, 9, 9, 9, 9, 9, 9, 4, 17, 9, 17, 9, 9, 18, 4, 9, 9, 9, 9, 9, 17, 19, 19, 19, 19, 19, 19, 19, 19, 2, 19, 19, 19, 19, 19, 19, 20, 19, 20, 19, 19, 19, 18, 19, 19, 20, 20, 19, 10, 2, 2, 19, 14, 2, 19, 10, 19, 17, 19, 19, 19, 19, 19, 19, 19, 4, 4, 4, 4, 4, 4, 4, 4, 4, 4, 4, 4, 4, 4, 4, 17, 17, 17, 17, 17, 17, 17, 17, 17, 21, 21, 21, 21, 13, 13, 7, 13, 7, 7, 7, 18, 7, 11, 15, 7, 2, 18, 11, 11, 9, 15, 7, 15, 7, 18, 15, 11, 2, 2, 11, 11, 11, 11, 2, 11, 11, 11, 15, 15, 15, 15, 15, 15, 2, 2, 2, 2, 2, 20, 2, 2, 2, 2, 2, 2, 9, 2, 10, 2, 2, 2, 2, 2, 9, 2, 2, 2, 2, 20, 2, 9, 2, 2, 2, 2, 20, 2, 2, 2, 2, 2, 9, 2, 2, 2, 2, 2, 2, 2, 2, 2, 2, 2, 9, 6, 2, 19, 2, 2, 2, 9, 2, 17, 2, 2, 22, 2, 2, 2, 2, 2, 23, 24, 24, 9, 4, 24, 15, 18, 11, 15, 24, 24, 11, 24, 24, 24, 24, 17, 17, 17, 17, 17, 19, 25, 19, 19, 19, 19, 18, 2, 17, 17, 14, 14, 4, 4, 4, 4, 4, 4, 4, 4, 4, 4, 4, 4, 4, 4, 4, 4, 4, 4, 4, 4, 4, 4, 4, 4, 4, 4, 11, 11, 11, 11, 11, 25, 7, 11, 15, 11, 11, 11, 11, 11, 11, 4, 4, 4, 4, 4, 4, 11, 4, 15, 15, 15, 15, 15, 15, 4, 15, 15, 15, 15, 15, 15, 15, 15, 15, 15, 15, 15, 15, 11, 15, 15, 7, 18, 7, 7, 7, 7, 7, 7, 7, 11, 7, 7, 7, 2, 7, 7, 7, 7, 7, 7, 15, 11, 7, 7, 7, 7, 15, 7, 20, 20, 20, 20, 20, 20, 20, 20, 20, 20, 20, 20, 20, 20, 20, 20, 20, 20, 12, 12, 20, 20, 20, 20, 20, 20, 20, 20, 20, 20, 20, 20, 20, 2, 2, 20, 20, 20, 20, 20, 20, 20, 20, 20, 20, 20, 20, 20, 20, 19, 19, 19, 19, 19, 4, 4, 4, 24, 24, 24, 24, 24, 24, 4, 4, 4, 4, 4, 4, 4, 4, 4, 4, 4, 4, 25, 25, 25, 25, 25, 25, 2, 25, 25, 19, 11, 11, 25, 25, 25, 25, 25, 25, 15, 11, 15, 15, 15, 15, 18, 15, 15, 15, 15, 11, 15, 15, 11, 14, 18, 15, 18, 18, 18, 18, 26, 18, 18, 18, 18, 18, 18, 7, 18, 18, 18, 18, 11, 11, 11, 11, 11, 4, 11, 4, 2, 2, 2, 19, 2, 2, 2, 2, 13, 2, 26, 22, 7, 7, 19, 2, 2, 2, 2, 2, 10, 2, 25, 2, 2, 2, 9, 2, 14, 2, 9, 14, 14, 2, 22, 2, 24, 2, 19, 2, 2, 10, 2, 2, 19, 2, 11, 15, 11, 11, 11, 11, 11, 11, 11, 11, 2, 11, 11, 11, 19, 11, 11, 11, 11, 11, 15, 15, 11, 11, 11, 18, 11, 7, 7, 11, 7, 11, 11, 15, 18, 18, 18, 2, 2, 15, 9, 19, 26, 2, 2, 4, 24, 15, 15, 15, 15, 9, 9, 9, 9, 19, 9, 11, 19, 11, 19, 19, 28, 19, 19, 19, 19, 10, 19, 9, 19, 9, 19, 14, 19, 19, 19, 19, 10, 19, 19, 19, 14, 19, 14, 14, 19, 19, 7, 19, 19, 19, 29, 29, 9, 9, 9, 2, 9, 9, 9, 9, 9, 7, 7, 15, 15, 15, 15, 15, 15, 15, 15, 7, 7, 7, 7, 7, 7, 7, 7, 7, 7, 7, 7, 7, 7, 7, 30, 30, 7, 24, 24, 24, 24, 24, 24, 24, 25, 25, 25, 25, 36, 25, 10, 10, 10, 10, 10, 20, 20, 20, 20, 20, 20, 4, 4, 4, 15, 7, 15, 15, 15, 7, 7, 7, 7, 19, 19, 19, 19, 19, 6, 9, 9, 9, 9, 9, 9, 9, 9, 9, 9, 9, 2, 9, 9, 9, 9, 9, 9, 4, 9, 9, 15, 12, 17, 9, 9, 9, 9, 9, 9, 9, 9, 9, 9, 9, 9, 9, 9, 9, 9, 9, 9, 9, 9, 15, 9, 9, 9, 19, 9, 9, 24, 9, 2, 14, 9, 9, 2, 2, 2, 2, 2, 18, 18, 15, 15, 11, 15, 11, 11, 11, 11, 18, 18, 11, 18, 11, 11, 17, 17, 17, 9, 9, 9, 9, 9, 7, 7, 11, 11, 11, 15, 15, 15, 15, 15, 15, 6, 15, 24, 7, 2, 2, 2, 15, 2, 2, 2, 2, 25, 25, 14, 14, 14, 14, 14, 14, 14, 14, 14, 14, 14, 14, 14, 22, 22, 22, 22, 22, 22, 22, 22, 22, 22, 22, 22, 22, 22, 19, 19, 19, 19, 11, 15, 15, 15, 7, 7, 15, 7, 7, 15, 15, 15, 18, 18, 18, 11, 32, 32, 12, 12, 11, 12, 2, 2, 2, 2, 2, 9, 14, 14, 14, 10, 10, 10, 10, 10, 10, 10, 10, 10, 10, 30, 30, 7, 18, 15, 15, 18, 15, 11, 15, 15, 15, 15, 15, 18, 15, 15, 15, 15, 18, 20, 20, 2, 21, 21, 21, 21, 21, 21, 21, 21, 21, 7, 10, 7, 7, 15, 15, 18, 15, 4, 15, 15, 15, 15, 15, 15, 15, 17, 17, 17, 17, 17, 17, 17, 17, 17, 17, 17, 17, 17, 2, 2, 7, 7, 7, 34, 34, 34, 22, 22, 22, 10, 10, 10, 35, 7, 7, 11, 11, 11, 11, 14, 11, 11, 4, 7, 7, 7, 7, 7, 7, 7, 7, 7, 4, 4, 4, 4, 4, 24, 4, 18, 18, 24, 18, 4, 26, 26, 7, 26, 26, 26, 26, 26, 26, 26, 2, 15, 15, 18, 15, 15, 15, 24, 15, 2, 19, 21, 21, 21, 21, 21, 18, 18, 15, 15, 15, 4, 11, 18, 15, 18, 7, 7, 7, 7, 7, 7, 7, 7, 7, 7, 7, 7, 10, 7, 7, 7, 7, 7, 7, 7, 7, 7, 7, 17, 7, 7, 7, 7, 7, 7, 7, 7, 19, 19, 19, 19, 7, 19, 10, 10, 10, 10, 10, 7, 15, 7, 7, 7, 2, 6, 6, 6, 6, 6, 6, 6, 6, 6, 17, 6, 6, 22, 22, 21, 21, 9, 19, 19, 19, 19, 19, 19, 19, 19, 2, 14, 3, 3, 3, 3, 3, 3, 3, 3, 3, 18, 18, 9, 9, 9, 7, 7, 17, 17, 17, 17, 17, 36, 36, 36, 36, 37, 37, 37, 37, 37, 37, 37, 37, 37, 18, 11, 18, 11, 11, 11, 11, 11, 11, 11, 10, 10, 19, 19, 19, 7, 19, 7, 7, 19, 7, 7, 17, 24, 24, 24, 24, 24, 25, 25, 25, 25, 25, 25, 25, 25, 25, 25, 10, 12, 10, 10, 2, 10, 10, 10, 10, 10, 10, 10, 10, 10, 10, 10, 36, 36, 36, 36, 36, 36, 36, 36, 36, 36, 36, 36, 36, 36, 36, 9, 14, 9, 9, 14, 25, 22, 9, 9, 11, 11, 38, 38, 9, 12, 10, 10, 10, 10, 10, 15, 11, 14, 11, 11, 11, 11, 14, 14, 14, 14, 14, 14, 14, 25, 7, 7, 14, 14, 19, 19, 19, 19, 9, 9, 9, 9, 17, 17, 17, 9, 9, 9, 9, 9, 2, 2, 2, 2, 17, 28, 2, 2, 19, 2, 19, 19, 19, 4, 4, 4, 4, 4, 4, 24, 24, 4, 24, 24, 24, 24, 24, 24, 4, 24, 24, 24, 11, 24, 24, 24, 11, 4, 18, 18, 18, 18, 18, 7, 7, 15, 15, 24, 24, 24, 24, 24, 24, 9, 17, 17, 17, 17, 17, 17, 17, 17, 17, 4, 4, 4, 18, 18, 18, 18, 18, 18, 10, 2, 4, 4, 4, 15, 15, 24, 24, 25, 25, 25, 25, 25, 25, 25, 25, 19, 19, 19, 2, 15, 15, 15, 25, 9, 15, 19, 19, 19, 25, 25, 25, 9, 19, 19, 19, 19, 19, 19, 19, 19, 11, 19, 9, 19, 19, 19, 19, 19, 19, 19, 19, 19, 19, 2, 17, 19, 11, 11, 11, 11, 19, 9, 9, 11, 7, 7, 7, 7, 15, 15, 7, 4, 2, 2, 11, 11, 11, 11, 15, 15, 11, 9, 9, 9, 9, 9, 9, 18, 9, 4, 9, 4, 4, 6, 6, 17, 17, 9, 13, 13, 15, 18, 9, 9, 9, 9, 9, 14, 7, 14, 14, 9, 7, 7, 7, 17, 17, 14, 14, 14, 14, 12, 12, 12, 12, 12, 14, 12, 14, 39, 39, 2, 5, 7, 11, 11, 7, 7, 26, 26, 26, 7, 14, 14, 14, 26, 26, 26, 24, 11, 11, 11, 22, 22, 22, 22, 22, 22, 22, 2, 2, 25, 25, 25, 26, 2, 24, 2, 22, 17, 2, 19, 19, 19, 19, 14, 14, 4, 7, 7, 14, 18, 10, 10, 10, 10, 10, 17, 17, 35, 35, 35, 35, 35, 35, 35, 35, 35, 35, 35, 35, 35, 17, 17, 2, 2, 2, 4, 4, 14, 14, 14, 14, 17, 2, 2, 20, 17, 17, 9, 14, 14, 14, 19, 14, 14, 18, 18, 11, 14, 14, 14, 14, 14, 14, 15, 2, 2, 14, 17, 17, 17, 17, 17, 17, 17, 17, 17, 36, 36, 36, 25, 36, 36, 40, 40, 4, 11, 11, 11, 11, 11, 11, 11, 11, 11, 19, 19, 25, 25, 25, 25, 25, 25, 25, 25, 25, 25, 19, 19, 19, 11, 22, 18, 19, 4, 4, 19, 17, 17, 17, 2, 2, 2, 7, 7, 2, 2, 41, 41, 2, 11, 15, 15, 42, 42, 17, 17, 17, 17, 7, 7, 7, 7, 7, 7, 35, 35, 17, 17, 17, 17, 15, 7, 18, 15, 18, 14, 18, 18, 18, 18, 11, 11, 11, 43, 43, 10, 17, 17, 17, 17, 17, 17, 2, 2, 44, 44, 14, 10, 10, 10, 45, 45, 11, 46, 46, 25, 25, 25, 15, 11, 47, 47, 47, 47, 47, 14, 24, 11, 17, 17, 17, 17, 17, 17, 17, 17, 17, 17, 17, 17, 17, 17, 17, 17, 17, 17, 17, 12, 24, 24, 6, 11, 11, 6, 17, 17, 18, 48, 48, 48, 7, 5, 5, 5, 5, 19, 19, 17, 17, 17, 7, 17, 2, 2, 17, 17, 15, 15, 15, 17, 17, 17, 17, 17, 17, 2, 15, 19, 49, 49, 36, 36, 15, 11, 11, 9, 7, 25, 25, 25, 25, 25, 25, 25, 25, 7, 17, 17, 11, 11, 26, 26, 26, 26, 26, 26, 14, 14, 7, 2, 2, 19, 26, 36, 36, 36, 36, 24, 11, 20, 12, 12, 7, 4, 9, 17, 17, 2, 36, 19, 19, 10, 9, 51, 51, 15, 25, 25, 25, 25, 25, 24, 24, 47, 35, 19, 19, 19, 52, 52, 52, 52, 4, 4, 15, 10, 10, 10, 19, 19, 11, 11, 19, 19, 26, 26, 14, 14, 2, 2, 10, 17, 10, 22, 22, 25, 25, 25, 10, 3, 17, 4, 17, 17, 17, 17, 17, 19, 19, 15, 17, 17, 28, 28, 17, 15, 7, 9, 10, 25, 4, 4, 25, 7, 7, 7, 14, 24, 11, 7, 9, 22, 22, 22, 22, 7, 10, 17, 17, 17, 4, 9, 14, 9, 24, 24, 9, 17, 17, 20, 2, 4, 4, 7, 7, 13, 10, 17, 17, 4, 4, 14, 36, 36, 10, 2, 14, 19, 17, 17, 14, 14, 14, 14, 14, 17, 4, 53, 53, 24, 24, 54, 54, 55, 55, 56, 56, 11, 17, 4, 4, 10, 10, 2, 3, 3, 19, 20, 20, 20, 57, 57, 10, 19, 14, 14, 14, 14, 58, 58, 58, 36, 36, 36, 36, 10, 10, 10, 4, 4, 4, 4, 19, 19, 12, 19, 26, 10, 10, 59, 59, 9, 17, 17, 17, 17, 25, 25, 25, 20, 20, 15, 15, 4, 4, 4, 36, 25, 19, 2, 15, 10, 10, 17, 17, 19, 4, 14, 17, 12, 17, 17, 17, 60, 60, 60, 14, 19, 19, 17, 17, 61, 61, 19, 7, 17, 36, 36, 36, 36, 36, 36, 36, 36, 62, 62, 62, 62, 7, 7, 15, 15, 9, 2, 12, 12, 63, 63, 63, 63, 11, 11, 12, 23, 23, 23, 23, 23, 23, 20, 7, 24, 7, 9, 22, 4, 26, 26, 19, 17, 10, 10, 10, 24, 17, 17, 17, 2, 10, 10, 10, 64, 64, 2, 17, 17, 17, 65, 65, 14, 14, 14, 25, 14, 25, 17, 19, 19, 21, 21, 21, 2, 26, 26, 26, 26, 26, 9, 17, 4, 11, 2, 24, 24, 25, 19, 28, 28, 28, 28, 28, 17, 28, 17, 17, 17, 66, 66, 66, 35, 18, 18, 18, 9, 67, 67, 12, 4, 17, 2, 2, 17, 68, 68, 20, 20, 20, 20, 12, 21, 69, 69, 19, 19, 19, 48, 48, 48, 48, 4, 19, 10, 19, 17, 17, 11, 19, 20, 2, 19, 11, 2, 2, 2, 2, 17, 4, 10, 10, 12, 19, 35, 35, 20, 20, 22, 19, 17, 61, 5, 10, 17, 17, 14, 70, 70, 17, 17, 17, 17, 30, 14, 18, 71, 71, 7, 20, 20, 4, 21, 25, 25, 18, 72, 72, 72, 73, 73, 19, 17, 53, 74, 74, 24, 75, 75, 76, 76, 17, 19, 24, 77, 77, 7, 10, 53, 78, 78, 79, 79, 79, 36, 14, 15, 80, 80, 17, 14, 17, 17, 17, 17, 17, 17, 17, 14, 11, 18, 24, 14, 14, 14, 20, 25, 81, 81, 36, 36, 36, 36, 36, 36, 36, 36, 15, 6, 26, 26, 17, 17, 17, 17, 17, 20, 17, 17, 17, 17, 17, 17, 17, 15, 15, 17, 17, 17, 17, 17, 17, 17, 17, 17, 17, 82, 82, 83, 83, 17, 17, 17, 17, 84, 84, 85, 85, 48, 86, 86, 87, 87, 88, 88, 89, 89, 89, 89, 89, 20, 90, 90, 2, 91, 91, 22, 19, 19, 92, 92, 36, 36, 36, 36, 36, 36, 36, 36, 36, 36, 36, 36, 36, 36, 36, 36, 36, 36, 36, 93, 93, 93, 36, 36, 36, 36, 36, 36, 36, 25, 2, 2, 36, 36, 36, 36, 36, 36, 36, 36, 36, 36, 19, 94, 94, 17, 17, 17, 95, 95, 95, 95, 95, 96, 96, 17, 97, 97, 2, 2, 98, 98, 4, 99, 99, 79, 19, 19, 19, 100, 100, 100, 19, 10, 101, 101, 14, 21, 0, 0, 1, 1, 25, 25, 19, 12, 24, 10, 23, 23, 72, 11, 11, 33, 33, 10, 10, 10, 10, 10, 8, 8, 2, 2, 2, 2, 2, 16, 16, 50, 50, 28, 27, 27, 31, 31, 20, 2, 2, 2, 2]\n",
      "102\n"
     ]
    },
    {
     "ename": "TypeError",
     "evalue": "adjusted_mutual_info_score() missing 2 required positional arguments: 'labels_true' and 'labels_pred'",
     "output_type": "error",
     "traceback": [
      "\u001B[1;31m---------------------------------------------------------------------------\u001B[0m",
      "\u001B[1;31mTypeError\u001B[0m                                 Traceback (most recent call last)",
      "\u001B[1;32m<ipython-input-106-f3adc7972d48>\u001B[0m in \u001B[0;36m<module>\u001B[1;34m\u001B[0m\n\u001B[0;32m     16\u001B[0m \u001B[0mprint\u001B[0m\u001B[1;33m(\u001B[0m\u001B[0mvalues\u001B[0m\u001B[1;33m)\u001B[0m\u001B[1;33m\u001B[0m\u001B[1;33m\u001B[0m\u001B[0m\n\u001B[0;32m     17\u001B[0m \u001B[0mprint\u001B[0m\u001B[1;33m(\u001B[0m\u001B[0mlen\u001B[0m\u001B[1;33m(\u001B[0m\u001B[0mset\u001B[0m\u001B[1;33m(\u001B[0m\u001B[0mvalues\u001B[0m\u001B[1;33m)\u001B[0m\u001B[1;33m)\u001B[0m\u001B[1;33m)\u001B[0m\u001B[1;33m\u001B[0m\u001B[1;33m\u001B[0m\u001B[0m\n\u001B[1;32m---> 18\u001B[1;33m \u001B[0mAMS\u001B[0m\u001B[1;33m(\u001B[0m\u001B[1;33m)\u001B[0m\u001B[1;33m\u001B[0m\u001B[1;33m\u001B[0m\u001B[0m\n\u001B[0m\u001B[0;32m     19\u001B[0m \u001B[0mNMS\u001B[0m\u001B[1;33m(\u001B[0m\u001B[1;33m)\u001B[0m\u001B[1;33m\u001B[0m\u001B[1;33m\u001B[0m\u001B[0m\n\u001B[0;32m     20\u001B[0m \u001B[1;33m\u001B[0m\u001B[0m\n",
      "\u001B[1;32m~\\anaconda3\\envs\\LabWork\\lib\\site-packages\\sklearn\\utils\\validation.py\u001B[0m in \u001B[0;36minner_f\u001B[1;34m(*args, **kwargs)\u001B[0m\n\u001B[0;32m     61\u001B[0m             \u001B[0mextra_args\u001B[0m \u001B[1;33m=\u001B[0m \u001B[0mlen\u001B[0m\u001B[1;33m(\u001B[0m\u001B[0margs\u001B[0m\u001B[1;33m)\u001B[0m \u001B[1;33m-\u001B[0m \u001B[0mlen\u001B[0m\u001B[1;33m(\u001B[0m\u001B[0mall_args\u001B[0m\u001B[1;33m)\u001B[0m\u001B[1;33m\u001B[0m\u001B[1;33m\u001B[0m\u001B[0m\n\u001B[0;32m     62\u001B[0m             \u001B[1;32mif\u001B[0m \u001B[0mextra_args\u001B[0m \u001B[1;33m<=\u001B[0m \u001B[1;36m0\u001B[0m\u001B[1;33m:\u001B[0m\u001B[1;33m\u001B[0m\u001B[1;33m\u001B[0m\u001B[0m\n\u001B[1;32m---> 63\u001B[1;33m                 \u001B[1;32mreturn\u001B[0m \u001B[0mf\u001B[0m\u001B[1;33m(\u001B[0m\u001B[1;33m*\u001B[0m\u001B[0margs\u001B[0m\u001B[1;33m,\u001B[0m \u001B[1;33m**\u001B[0m\u001B[0mkwargs\u001B[0m\u001B[1;33m)\u001B[0m\u001B[1;33m\u001B[0m\u001B[1;33m\u001B[0m\u001B[0m\n\u001B[0m\u001B[0;32m     64\u001B[0m \u001B[1;33m\u001B[0m\u001B[0m\n\u001B[0;32m     65\u001B[0m             \u001B[1;31m# extra_args > 0\u001B[0m\u001B[1;33m\u001B[0m\u001B[1;33m\u001B[0m\u001B[1;33m\u001B[0m\u001B[0m\n",
      "\u001B[1;31mTypeError\u001B[0m: adjusted_mutual_info_score() missing 2 required positional arguments: 'labels_true' and 'labels_pred'"
     ]
    }
   ],
   "source": [
    "partition = community_louvain.best_partition(graph)\n",
    "print(partition)\n",
    "# draw the graph\n",
    "# pos = nx.spring_layout(graph)\n",
    "# # color the nodes according to their partition\n",
    "# cmap = cm.get_cmap('viridis', max(partition.values()) + 1)\n",
    "# nx.draw_networkx_nodes(graph, pos, partition.keys(), node_size=40,\n",
    "#                        cmap=cmap, node_color=list(partition.values()))\n",
    "# nx.draw_networkx_edges(graph, pos, alpha=0.5)\n",
    "# plt.show()\n",
    "mod = community_louvain.modularity(partition,graph)\n",
    "values = [[partition.get(node)] for node in graph.nodes()]\n",
    "# nx.draw_spring(graph, cmap= plt.get_cmap('jet'), node_color= values, node_size = 30, with_labels = False)\n",
    "# plt.show()\n",
    "print(mod)\n",
    "print(values)\n",
    "print(len(set(values)))\n",
    "AMS()\n",
    "NMS()"
   ],
   "metadata": {
    "collapsed": false,
    "pycharm": {
     "name": "#%%\n"
    }
   }
  },
  {
   "cell_type": "markdown",
   "source": [
    "## Task 6"
   ],
   "metadata": {
    "collapsed": false,
    "pycharm": {
     "name": "#%% md\n"
    }
   }
  },
  {
   "cell_type": "code",
   "execution_count": 6,
   "outputs": [
    {
     "name": "stdout",
     "output_type": "stream",
     "text": [
      "         w_0  w_1  w_2  w_3  w_4  w_5  w_6  w_7  w_8  w_9  ...  w_1424  \\\n",
      "31336      0    0    0    0    0    0    0    0    0    0  ...       0   \n",
      "1061127    0    0    0    0    0    0    0    0    0    0  ...       0   \n",
      "1106406    0    0    0    0    0    0    0    0    0    0  ...       0   \n",
      "13195      0    0    0    0    0    0    0    0    0    0  ...       0   \n",
      "37879      0    0    0    0    0    0    0    0    0    0  ...       0   \n",
      "...      ...  ...  ...  ...  ...  ...  ...  ...  ...  ...  ...     ...   \n",
      "1128975    0    0    0    0    0    0    0    0    0    0  ...       0   \n",
      "1128977    0    0    0    0    0    0    0    0    0    0  ...       0   \n",
      "1128978    0    0    0    0    0    0    0    0    0    0  ...       0   \n",
      "117328     0    0    0    0    1    0    0    0    0    0  ...       0   \n",
      "24043      0    0    0    0    0    0    0    0    0    0  ...       0   \n",
      "\n",
      "         w_1425  w_1426  w_1427  w_1428  w_1429  w_1430  w_1431  w_1432  \\\n",
      "31336         0       1       0       0       0       0       0       0   \n",
      "1061127       1       0       0       0       0       0       0       0   \n",
      "1106406       0       0       0       0       0       0       0       0   \n",
      "13195         0       0       0       0       0       0       0       0   \n",
      "37879         0       0       0       0       0       0       0       0   \n",
      "...         ...     ...     ...     ...     ...     ...     ...     ...   \n",
      "1128975       0       0       0       0       0       0       0       0   \n",
      "1128977       0       0       0       0       0       0       0       0   \n",
      "1128978       0       0       0       0       0       0       0       0   \n",
      "117328        0       0       0       0       0       0       0       0   \n",
      "24043         0       0       0       0       0       0       0       0   \n",
      "\n",
      "                        subject  \n",
      "31336           Neural_Networks  \n",
      "1061127           Rule_Learning  \n",
      "1106406  Reinforcement_Learning  \n",
      "13195    Reinforcement_Learning  \n",
      "37879     Probabilistic_Methods  \n",
      "...                         ...  \n",
      "1128975      Genetic_Algorithms  \n",
      "1128977      Genetic_Algorithms  \n",
      "1128978      Genetic_Algorithms  \n",
      "117328               Case_Based  \n",
      "24043           Neural_Networks  \n",
      "\n",
      "[2708 rows x 1434 columns]\n",
      "['w_0', 'w_1', 'w_2', 'w_3', 'w_4', 'w_5', 'w_6', 'w_7', 'w_8', 'w_9', 'w_10', 'w_11', 'w_12', 'w_13', 'w_14', 'w_15', 'w_16', 'w_17', 'w_18', 'w_19', 'w_20', 'w_21', 'w_22', 'w_23', 'w_24', 'w_25', 'w_26', 'w_27', 'w_28', 'w_29', 'w_30', 'w_31', 'w_32', 'w_33', 'w_34', 'w_35', 'w_36', 'w_37', 'w_38', 'w_39', 'w_40', 'w_41', 'w_42', 'w_43', 'w_44', 'w_45', 'w_46', 'w_47', 'w_48', 'w_49', 'w_50', 'w_51', 'w_52', 'w_53', 'w_54', 'w_55', 'w_56', 'w_57', 'w_58', 'w_59', 'w_60', 'w_61', 'w_62', 'w_63', 'w_64', 'w_65', 'w_66', 'w_67', 'w_68', 'w_69', 'w_70', 'w_71', 'w_72', 'w_73', 'w_74', 'w_75', 'w_76', 'w_77', 'w_78', 'w_79', 'w_80', 'w_81', 'w_82', 'w_83', 'w_84', 'w_85', 'w_86', 'w_87', 'w_88', 'w_89', 'w_90', 'w_91', 'w_92', 'w_93', 'w_94', 'w_95', 'w_96', 'w_97', 'w_98', 'w_99', 'w_100', 'w_101', 'w_102', 'w_103', 'w_104', 'w_105', 'w_106', 'w_107', 'w_108', 'w_109', 'w_110', 'w_111', 'w_112', 'w_113', 'w_114', 'w_115', 'w_116', 'w_117', 'w_118', 'w_119', 'w_120', 'w_121', 'w_122', 'w_123', 'w_124', 'w_125', 'w_126', 'w_127', 'w_128', 'w_129', 'w_130', 'w_131', 'w_132', 'w_133', 'w_134', 'w_135', 'w_136', 'w_137', 'w_138', 'w_139', 'w_140', 'w_141', 'w_142', 'w_143', 'w_144', 'w_145', 'w_146', 'w_147', 'w_148', 'w_149', 'w_150', 'w_151', 'w_152', 'w_153', 'w_154', 'w_155', 'w_156', 'w_157', 'w_158', 'w_159', 'w_160', 'w_161', 'w_162', 'w_163', 'w_164', 'w_165', 'w_166', 'w_167', 'w_168', 'w_169', 'w_170', 'w_171', 'w_172', 'w_173', 'w_174', 'w_175', 'w_176', 'w_177', 'w_178', 'w_179', 'w_180', 'w_181', 'w_182', 'w_183', 'w_184', 'w_185', 'w_186', 'w_187', 'w_188', 'w_189', 'w_190', 'w_191', 'w_192', 'w_193', 'w_194', 'w_195', 'w_196', 'w_197', 'w_198', 'w_199', 'w_200', 'w_201', 'w_202', 'w_203', 'w_204', 'w_205', 'w_206', 'w_207', 'w_208', 'w_209', 'w_210', 'w_211', 'w_212', 'w_213', 'w_214', 'w_215', 'w_216', 'w_217', 'w_218', 'w_219', 'w_220', 'w_221', 'w_222', 'w_223', 'w_224', 'w_225', 'w_226', 'w_227', 'w_228', 'w_229', 'w_230', 'w_231', 'w_232', 'w_233', 'w_234', 'w_235', 'w_236', 'w_237', 'w_238', 'w_239', 'w_240', 'w_241', 'w_242', 'w_243', 'w_244', 'w_245', 'w_246', 'w_247', 'w_248', 'w_249', 'w_250', 'w_251', 'w_252', 'w_253', 'w_254', 'w_255', 'w_256', 'w_257', 'w_258', 'w_259', 'w_260', 'w_261', 'w_262', 'w_263', 'w_264', 'w_265', 'w_266', 'w_267', 'w_268', 'w_269', 'w_270', 'w_271', 'w_272', 'w_273', 'w_274', 'w_275', 'w_276', 'w_277', 'w_278', 'w_279', 'w_280', 'w_281', 'w_282', 'w_283', 'w_284', 'w_285', 'w_286', 'w_287', 'w_288', 'w_289', 'w_290', 'w_291', 'w_292', 'w_293', 'w_294', 'w_295', 'w_296', 'w_297', 'w_298', 'w_299', 'w_300', 'w_301', 'w_302', 'w_303', 'w_304', 'w_305', 'w_306', 'w_307', 'w_308', 'w_309', 'w_310', 'w_311', 'w_312', 'w_313', 'w_314', 'w_315', 'w_316', 'w_317', 'w_318', 'w_319', 'w_320', 'w_321', 'w_322', 'w_323', 'w_324', 'w_325', 'w_326', 'w_327', 'w_328', 'w_329', 'w_330', 'w_331', 'w_332', 'w_333', 'w_334', 'w_335', 'w_336', 'w_337', 'w_338', 'w_339', 'w_340', 'w_341', 'w_342', 'w_343', 'w_344', 'w_345', 'w_346', 'w_347', 'w_348', 'w_349', 'w_350', 'w_351', 'w_352', 'w_353', 'w_354', 'w_355', 'w_356', 'w_357', 'w_358', 'w_359', 'w_360', 'w_361', 'w_362', 'w_363', 'w_364', 'w_365', 'w_366', 'w_367', 'w_368', 'w_369', 'w_370', 'w_371', 'w_372', 'w_373', 'w_374', 'w_375', 'w_376', 'w_377', 'w_378', 'w_379', 'w_380', 'w_381', 'w_382', 'w_383', 'w_384', 'w_385', 'w_386', 'w_387', 'w_388', 'w_389', 'w_390', 'w_391', 'w_392', 'w_393', 'w_394', 'w_395', 'w_396', 'w_397', 'w_398', 'w_399', 'w_400', 'w_401', 'w_402', 'w_403', 'w_404', 'w_405', 'w_406', 'w_407', 'w_408', 'w_409', 'w_410', 'w_411', 'w_412', 'w_413', 'w_414', 'w_415', 'w_416', 'w_417', 'w_418', 'w_419', 'w_420', 'w_421', 'w_422', 'w_423', 'w_424', 'w_425', 'w_426', 'w_427', 'w_428', 'w_429', 'w_430', 'w_431', 'w_432', 'w_433', 'w_434', 'w_435', 'w_436', 'w_437', 'w_438', 'w_439', 'w_440', 'w_441', 'w_442', 'w_443', 'w_444', 'w_445', 'w_446', 'w_447', 'w_448', 'w_449', 'w_450', 'w_451', 'w_452', 'w_453', 'w_454', 'w_455', 'w_456', 'w_457', 'w_458', 'w_459', 'w_460', 'w_461', 'w_462', 'w_463', 'w_464', 'w_465', 'w_466', 'w_467', 'w_468', 'w_469', 'w_470', 'w_471', 'w_472', 'w_473', 'w_474', 'w_475', 'w_476', 'w_477', 'w_478', 'w_479', 'w_480', 'w_481', 'w_482', 'w_483', 'w_484', 'w_485', 'w_486', 'w_487', 'w_488', 'w_489', 'w_490', 'w_491', 'w_492', 'w_493', 'w_494', 'w_495', 'w_496', 'w_497', 'w_498', 'w_499', 'w_500', 'w_501', 'w_502', 'w_503', 'w_504', 'w_505', 'w_506', 'w_507', 'w_508', 'w_509', 'w_510', 'w_511', 'w_512', 'w_513', 'w_514', 'w_515', 'w_516', 'w_517', 'w_518', 'w_519', 'w_520', 'w_521', 'w_522', 'w_523', 'w_524', 'w_525', 'w_526', 'w_527', 'w_528', 'w_529', 'w_530', 'w_531', 'w_532', 'w_533', 'w_534', 'w_535', 'w_536', 'w_537', 'w_538', 'w_539', 'w_540', 'w_541', 'w_542', 'w_543', 'w_544', 'w_545', 'w_546', 'w_547', 'w_548', 'w_549', 'w_550', 'w_551', 'w_552', 'w_553', 'w_554', 'w_555', 'w_556', 'w_557', 'w_558', 'w_559', 'w_560', 'w_561', 'w_562', 'w_563', 'w_564', 'w_565', 'w_566', 'w_567', 'w_568', 'w_569', 'w_570', 'w_571', 'w_572', 'w_573', 'w_574', 'w_575', 'w_576', 'w_577', 'w_578', 'w_579', 'w_580', 'w_581', 'w_582', 'w_583', 'w_584', 'w_585', 'w_586', 'w_587', 'w_588', 'w_589', 'w_590', 'w_591', 'w_592', 'w_593', 'w_594', 'w_595', 'w_596', 'w_597', 'w_598', 'w_599', 'w_600', 'w_601', 'w_602', 'w_603', 'w_604', 'w_605', 'w_606', 'w_607', 'w_608', 'w_609', 'w_610', 'w_611', 'w_612', 'w_613', 'w_614', 'w_615', 'w_616', 'w_617', 'w_618', 'w_619', 'w_620', 'w_621', 'w_622', 'w_623', 'w_624', 'w_625', 'w_626', 'w_627', 'w_628', 'w_629', 'w_630', 'w_631', 'w_632', 'w_633', 'w_634', 'w_635', 'w_636', 'w_637', 'w_638', 'w_639', 'w_640', 'w_641', 'w_642', 'w_643', 'w_644', 'w_645', 'w_646', 'w_647', 'w_648', 'w_649', 'w_650', 'w_651', 'w_652', 'w_653', 'w_654', 'w_655', 'w_656', 'w_657', 'w_658', 'w_659', 'w_660', 'w_661', 'w_662', 'w_663', 'w_664', 'w_665', 'w_666', 'w_667', 'w_668', 'w_669', 'w_670', 'w_671', 'w_672', 'w_673', 'w_674', 'w_675', 'w_676', 'w_677', 'w_678', 'w_679', 'w_680', 'w_681', 'w_682', 'w_683', 'w_684', 'w_685', 'w_686', 'w_687', 'w_688', 'w_689', 'w_690', 'w_691', 'w_692', 'w_693', 'w_694', 'w_695', 'w_696', 'w_697', 'w_698', 'w_699', 'w_700', 'w_701', 'w_702', 'w_703', 'w_704', 'w_705', 'w_706', 'w_707', 'w_708', 'w_709', 'w_710', 'w_711', 'w_712', 'w_713', 'w_714', 'w_715', 'w_716', 'w_717', 'w_718', 'w_719', 'w_720', 'w_721', 'w_722', 'w_723', 'w_724', 'w_725', 'w_726', 'w_727', 'w_728', 'w_729', 'w_730', 'w_731', 'w_732', 'w_733', 'w_734', 'w_735', 'w_736', 'w_737', 'w_738', 'w_739', 'w_740', 'w_741', 'w_742', 'w_743', 'w_744', 'w_745', 'w_746', 'w_747', 'w_748', 'w_749', 'w_750', 'w_751', 'w_752', 'w_753', 'w_754', 'w_755', 'w_756', 'w_757', 'w_758', 'w_759', 'w_760', 'w_761', 'w_762', 'w_763', 'w_764', 'w_765', 'w_766', 'w_767', 'w_768', 'w_769', 'w_770', 'w_771', 'w_772', 'w_773', 'w_774', 'w_775', 'w_776', 'w_777', 'w_778', 'w_779', 'w_780', 'w_781', 'w_782', 'w_783', 'w_784', 'w_785', 'w_786', 'w_787', 'w_788', 'w_789', 'w_790', 'w_791', 'w_792', 'w_793', 'w_794', 'w_795', 'w_796', 'w_797', 'w_798', 'w_799', 'w_800', 'w_801', 'w_802', 'w_803', 'w_804', 'w_805', 'w_806', 'w_807', 'w_808', 'w_809', 'w_810', 'w_811', 'w_812', 'w_813', 'w_814', 'w_815', 'w_816', 'w_817', 'w_818', 'w_819', 'w_820', 'w_821', 'w_822', 'w_823', 'w_824', 'w_825', 'w_826', 'w_827', 'w_828', 'w_829', 'w_830', 'w_831', 'w_832', 'w_833', 'w_834', 'w_835', 'w_836', 'w_837', 'w_838', 'w_839', 'w_840', 'w_841', 'w_842', 'w_843', 'w_844', 'w_845', 'w_846', 'w_847', 'w_848', 'w_849', 'w_850', 'w_851', 'w_852', 'w_853', 'w_854', 'w_855', 'w_856', 'w_857', 'w_858', 'w_859', 'w_860', 'w_861', 'w_862', 'w_863', 'w_864', 'w_865', 'w_866', 'w_867', 'w_868', 'w_869', 'w_870', 'w_871', 'w_872', 'w_873', 'w_874', 'w_875', 'w_876', 'w_877', 'w_878', 'w_879', 'w_880', 'w_881', 'w_882', 'w_883', 'w_884', 'w_885', 'w_886', 'w_887', 'w_888', 'w_889', 'w_890', 'w_891', 'w_892', 'w_893', 'w_894', 'w_895', 'w_896', 'w_897', 'w_898', 'w_899', 'w_900', 'w_901', 'w_902', 'w_903', 'w_904', 'w_905', 'w_906', 'w_907', 'w_908', 'w_909', 'w_910', 'w_911', 'w_912', 'w_913', 'w_914', 'w_915', 'w_916', 'w_917', 'w_918', 'w_919', 'w_920', 'w_921', 'w_922', 'w_923', 'w_924', 'w_925', 'w_926', 'w_927', 'w_928', 'w_929', 'w_930', 'w_931', 'w_932', 'w_933', 'w_934', 'w_935', 'w_936', 'w_937', 'w_938', 'w_939', 'w_940', 'w_941', 'w_942', 'w_943', 'w_944', 'w_945', 'w_946', 'w_947', 'w_948', 'w_949', 'w_950', 'w_951', 'w_952', 'w_953', 'w_954', 'w_955', 'w_956', 'w_957', 'w_958', 'w_959', 'w_960', 'w_961', 'w_962', 'w_963', 'w_964', 'w_965', 'w_966', 'w_967', 'w_968', 'w_969', 'w_970', 'w_971', 'w_972', 'w_973', 'w_974', 'w_975', 'w_976', 'w_977', 'w_978', 'w_979', 'w_980', 'w_981', 'w_982', 'w_983', 'w_984', 'w_985', 'w_986', 'w_987', 'w_988', 'w_989', 'w_990', 'w_991', 'w_992', 'w_993', 'w_994', 'w_995', 'w_996', 'w_997', 'w_998', 'w_999', 'w_1000', 'w_1001', 'w_1002', 'w_1003', 'w_1004', 'w_1005', 'w_1006', 'w_1007', 'w_1008', 'w_1009', 'w_1010', 'w_1011', 'w_1012', 'w_1013', 'w_1014', 'w_1015', 'w_1016', 'w_1017', 'w_1018', 'w_1019', 'w_1020', 'w_1021', 'w_1022', 'w_1023', 'w_1024', 'w_1025', 'w_1026', 'w_1027', 'w_1028', 'w_1029', 'w_1030', 'w_1031', 'w_1032', 'w_1033', 'w_1034', 'w_1035', 'w_1036', 'w_1037', 'w_1038', 'w_1039', 'w_1040', 'w_1041', 'w_1042', 'w_1043', 'w_1044', 'w_1045', 'w_1046', 'w_1047', 'w_1048', 'w_1049', 'w_1050', 'w_1051', 'w_1052', 'w_1053', 'w_1054', 'w_1055', 'w_1056', 'w_1057', 'w_1058', 'w_1059', 'w_1060', 'w_1061', 'w_1062', 'w_1063', 'w_1064', 'w_1065', 'w_1066', 'w_1067', 'w_1068', 'w_1069', 'w_1070', 'w_1071', 'w_1072', 'w_1073', 'w_1074', 'w_1075', 'w_1076', 'w_1077', 'w_1078', 'w_1079', 'w_1080', 'w_1081', 'w_1082', 'w_1083', 'w_1084', 'w_1085', 'w_1086', 'w_1087', 'w_1088', 'w_1089', 'w_1090', 'w_1091', 'w_1092', 'w_1093', 'w_1094', 'w_1095', 'w_1096', 'w_1097', 'w_1098', 'w_1099', 'w_1100', 'w_1101', 'w_1102', 'w_1103', 'w_1104', 'w_1105', 'w_1106', 'w_1107', 'w_1108', 'w_1109', 'w_1110', 'w_1111', 'w_1112', 'w_1113', 'w_1114', 'w_1115', 'w_1116', 'w_1117', 'w_1118', 'w_1119', 'w_1120', 'w_1121', 'w_1122', 'w_1123', 'w_1124', 'w_1125', 'w_1126', 'w_1127', 'w_1128', 'w_1129', 'w_1130', 'w_1131', 'w_1132', 'w_1133', 'w_1134', 'w_1135', 'w_1136', 'w_1137', 'w_1138', 'w_1139', 'w_1140', 'w_1141', 'w_1142', 'w_1143', 'w_1144', 'w_1145', 'w_1146', 'w_1147', 'w_1148', 'w_1149', 'w_1150', 'w_1151', 'w_1152', 'w_1153', 'w_1154', 'w_1155', 'w_1156', 'w_1157', 'w_1158', 'w_1159', 'w_1160', 'w_1161', 'w_1162', 'w_1163', 'w_1164', 'w_1165', 'w_1166', 'w_1167', 'w_1168', 'w_1169', 'w_1170', 'w_1171', 'w_1172', 'w_1173', 'w_1174', 'w_1175', 'w_1176', 'w_1177', 'w_1178', 'w_1179', 'w_1180', 'w_1181', 'w_1182', 'w_1183', 'w_1184', 'w_1185', 'w_1186', 'w_1187', 'w_1188', 'w_1189', 'w_1190', 'w_1191', 'w_1192', 'w_1193', 'w_1194', 'w_1195', 'w_1196', 'w_1197', 'w_1198', 'w_1199', 'w_1200', 'w_1201', 'w_1202', 'w_1203', 'w_1204', 'w_1205', 'w_1206', 'w_1207', 'w_1208', 'w_1209', 'w_1210', 'w_1211', 'w_1212', 'w_1213', 'w_1214', 'w_1215', 'w_1216', 'w_1217', 'w_1218', 'w_1219', 'w_1220', 'w_1221', 'w_1222', 'w_1223', 'w_1224', 'w_1225', 'w_1226', 'w_1227', 'w_1228', 'w_1229', 'w_1230', 'w_1231', 'w_1232', 'w_1233', 'w_1234', 'w_1235', 'w_1236', 'w_1237', 'w_1238', 'w_1239', 'w_1240', 'w_1241', 'w_1242', 'w_1243', 'w_1244', 'w_1245', 'w_1246', 'w_1247', 'w_1248', 'w_1249', 'w_1250', 'w_1251', 'w_1252', 'w_1253', 'w_1254', 'w_1255', 'w_1256', 'w_1257', 'w_1258', 'w_1259', 'w_1260', 'w_1261', 'w_1262', 'w_1263', 'w_1264', 'w_1265', 'w_1266', 'w_1267', 'w_1268', 'w_1269', 'w_1270', 'w_1271', 'w_1272', 'w_1273', 'w_1274', 'w_1275', 'w_1276', 'w_1277', 'w_1278', 'w_1279', 'w_1280', 'w_1281', 'w_1282', 'w_1283', 'w_1284', 'w_1285', 'w_1286', 'w_1287', 'w_1288', 'w_1289', 'w_1290', 'w_1291', 'w_1292', 'w_1293', 'w_1294', 'w_1295', 'w_1296', 'w_1297', 'w_1298', 'w_1299', 'w_1300', 'w_1301', 'w_1302', 'w_1303', 'w_1304', 'w_1305', 'w_1306', 'w_1307', 'w_1308', 'w_1309', 'w_1310', 'w_1311', 'w_1312', 'w_1313', 'w_1314', 'w_1315', 'w_1316', 'w_1317', 'w_1318', 'w_1319', 'w_1320', 'w_1321', 'w_1322', 'w_1323', 'w_1324', 'w_1325', 'w_1326', 'w_1327', 'w_1328', 'w_1329', 'w_1330', 'w_1331', 'w_1332', 'w_1333', 'w_1334', 'w_1335', 'w_1336', 'w_1337', 'w_1338', 'w_1339', 'w_1340', 'w_1341', 'w_1342', 'w_1343', 'w_1344', 'w_1345', 'w_1346', 'w_1347', 'w_1348', 'w_1349', 'w_1350', 'w_1351', 'w_1352', 'w_1353', 'w_1354', 'w_1355', 'w_1356', 'w_1357', 'w_1358', 'w_1359', 'w_1360', 'w_1361', 'w_1362', 'w_1363', 'w_1364', 'w_1365', 'w_1366', 'w_1367', 'w_1368', 'w_1369', 'w_1370', 'w_1371', 'w_1372', 'w_1373', 'w_1374', 'w_1375', 'w_1376', 'w_1377', 'w_1378', 'w_1379', 'w_1380', 'w_1381', 'w_1382', 'w_1383', 'w_1384', 'w_1385', 'w_1386', 'w_1387', 'w_1388', 'w_1389', 'w_1390', 'w_1391', 'w_1392', 'w_1393', 'w_1394', 'w_1395', 'w_1396', 'w_1397', 'w_1398', 'w_1399', 'w_1400', 'w_1401', 'w_1402', 'w_1403', 'w_1404', 'w_1405', 'w_1406', 'w_1407', 'w_1408', 'w_1409', 'w_1410', 'w_1411', 'w_1412', 'w_1413', 'w_1414', 'w_1415', 'w_1416', 'w_1417', 'w_1418', 'w_1419', 'w_1420', 'w_1421', 'w_1422', 'w_1423', 'w_1424', 'w_1425', 'w_1426', 'w_1427', 'w_1428', 'w_1429', 'w_1430', 'w_1431', 'w_1432']\n"
     ]
    },
    {
     "ename": "TypeError",
     "evalue": "fit() missing 1 required positional argument: 'X'",
     "output_type": "error",
     "traceback": [
      "\u001B[1;31m---------------------------------------------------------------------------\u001B[0m",
      "\u001B[1;31mTypeError\u001B[0m                                 Traceback (most recent call last)",
      "\u001B[1;32m<ipython-input-6-dc2ad994ad9d>\u001B[0m in \u001B[0;36m<module>\u001B[1;34m\u001B[0m\n\u001B[0;32m      2\u001B[0m \u001B[0mprint\u001B[0m\u001B[1;33m(\u001B[0m\u001B[0mfeature_names\u001B[0m\u001B[1;33m)\u001B[0m\u001B[1;33m\u001B[0m\u001B[1;33m\u001B[0m\u001B[0m\n\u001B[0;32m      3\u001B[0m \u001B[0mspectral_clustering\u001B[0m \u001B[1;33m=\u001B[0m \u001B[0mSpectralClustering\u001B[0m\u001B[1;33m(\u001B[0m\u001B[0maffinity\u001B[0m\u001B[1;33m=\u001B[0m\u001B[1;34m'precomputed'\u001B[0m\u001B[1;33m)\u001B[0m\u001B[1;33m\u001B[0m\u001B[1;33m\u001B[0m\u001B[0m\n\u001B[1;32m----> 4\u001B[1;33m \u001B[0mspectral_clustering\u001B[0m\u001B[1;33m.\u001B[0m\u001B[0mfit\u001B[0m\u001B[1;33m(\u001B[0m\u001B[1;33m)\u001B[0m\u001B[1;33m\u001B[0m\u001B[1;33m\u001B[0m\u001B[0m\n\u001B[0m",
      "\u001B[1;31mTypeError\u001B[0m: fit() missing 1 required positional argument: 'X'"
     ]
    }
   ],
   "source": [
    "print(node_data)\n",
    "print(feature_names)\n",
    "spectral_clustering = SpectralClustering(affinity='precomputed')\n",
    "spectral_clustering.fit()"
   ],
   "metadata": {
    "collapsed": false,
    "pycharm": {
     "name": "#%%\n"
    }
   }
  }
 ],
 "metadata": {
  "kernelspec": {
   "display_name": "Python 3",
   "language": "python",
   "name": "python3"
  },
  "language_info": {
   "codemirror_mode": {
    "name": "ipython",
    "version": 2
   },
   "file_extension": ".py",
   "mimetype": "text/x-python",
   "name": "python",
   "nbconvert_exporter": "python",
   "pygments_lexer": "ipython2",
   "version": "2.7.6"
  }
 },
 "nbformat": 4,
 "nbformat_minor": 0
}