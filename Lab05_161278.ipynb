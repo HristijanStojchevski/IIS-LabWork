{
 "cells": [
  {
   "cell_type": "code",
   "execution_count": 1,
   "metadata": {
    "collapsed": true
   },
   "outputs": [],
   "source": [
    "\n",
    "import numpy as np\n",
    "import pandas as pd\n",
    "import cv2"
   ]
  },
  {
   "cell_type": "code",
   "execution_count": 2,
   "outputs": [],
   "source": [
    "import requests\n",
    "URL = \"https://visualgenome.org/api/v0/images/\"\n",
    "\n",
    "\n",
    "def download_visual_genome_image(image_id, folder):\n",
    "    \"\"\" Downloads image from the visual genome dataset\n",
    "\n",
    "    :param image_id: id of the image to download\n",
    "    :type image_id: str\n",
    "    :param folder: where to download the image\n",
    "    :return:\n",
    "    \"\"\"\n",
    "    r = requests.get(url=URL + image_id)\n",
    "    data = r.json()\n",
    "\n",
    "    print(f\"Downloading image: {data['url']}\")\n",
    "\n",
    "    img_data = requests.get(data['url']).content\n",
    "    with open(folder + f'/{image_id}.jpg', 'wb') as handler:\n",
    "        handler.write(img_data)"
   ],
   "metadata": {
    "collapsed": false,
    "pycharm": {
     "name": "#%%\n"
    }
   }
  },
  {
   "cell_type": "code",
   "execution_count": 3,
   "outputs": [],
   "source": [
    "import os\n",
    "def create_descriptor_features(image_files):\n",
    "    \"\"\"Create features for images with SIFT descriptor\n",
    "\n",
    "    :param image_files: list of images to be processed\n",
    "    :type image_files: list(str)\n",
    "    :return: numpy array of the created features\n",
    "    :rtype: np.array\n",
    "    \"\"\"\n",
    "    trainer = cv2.BOWKMeansTrainer(clusterCount=100)\n",
    "    sift = cv2.xfeatures2d.SIFT_create()\n",
    "    matcher = cv2.FlannBasedMatcher_create()\n",
    "    bow_extractor = cv2.BOWImgDescriptorExtractor(sift, matcher)\n",
    "\n",
    "    print('Creating dictionary')\n",
    "    if os.path.exists('data/dictionary.npy'):\n",
    "        dictionary = np.load('data/dictionary.npy')\n",
    "    else:\n",
    "        for filename in image_files:\n",
    "            file = f'data/visual_genome/{filename.lower()}'\n",
    "            img = cv2.imread(file)\n",
    "            img = cv2.cvtColor(img, cv2.COLOR_BGR2HSV)\n",
    "            key_points, desc_obj = sift.detectAndCompute(img, mask=None)\n",
    "            trainer.add(desc_obj)\n",
    "\n",
    "        dictionary = trainer.cluster()\n",
    "        np.save('data/dictionary.npy', dictionary)\n",
    "\n",
    "    bow_extractor.setVocabulary(dictionary)\n",
    "\n",
    "    feature_data = np.zeros(shape=(len(image_files), dictionary.shape[0]),\n",
    "                            dtype=np.float32)\n",
    "\n",
    "    print('Extract features')\n",
    "    for i, filename in zip(range(len(image_files)), image_files):\n",
    "        file = f'data/visual_genome/{filename.lower()}'\n",
    "        img = cv2.imread(file)\n",
    "        img = cv2.cvtColor(img, cv2.COLOR_BGR2HSV)\n",
    "        points = sift.detect(img)\n",
    "        feature_data[i] = bow_extractor.compute(img, points)\n",
    "    return feature_data\n"
   ],
   "metadata": {
    "collapsed": false,
    "pycharm": {
     "name": "#%%\n"
    }
   }
  },
  {
   "cell_type": "code",
   "execution_count": 4,
   "outputs": [],
   "source": [
    "import pickle\n",
    "from tqdm import tqdm\n",
    "from tensorflow.keras.models import Model\n",
    "from tensorflow.keras.applications.vgg16 import VGG16, preprocess_input\n",
    "# tensorflow.contrib.keras.api.keras.applications.vgg16 from original code\n",
    "\n",
    "def load_vgg16(fc):\n",
    "    \"\"\" Creates VGG16 model.\n",
    "\n",
    "    :param fc: fully connected layer as output layer if true\n",
    "    :type fc: bool\n",
    "    :return: instance of VGG16 keras model\n",
    "    :rtype: keras.Model\n",
    "    \"\"\"\n",
    "    base_model = VGG16(include_top=True, weights='imagenet', input_shape=(224, 224, 3))\n",
    "    if fc:\n",
    "        model = Model(inputs=base_model.input, outputs=base_model.get_layer(name='fc2').output)\n",
    "    else:\n",
    "        model = Model(inputs=base_model.input, outputs=base_model.get_layer(name='block5_pool').output)\n",
    "    model.trainable = False\n",
    "    return model\n",
    "\n",
    "\n",
    "def create_features(image_id, model):\n",
    "    \"\"\" Creates features with VGG16 model for given image.\n",
    "\n",
    "    :param image_id: id of the image\n",
    "    :type image_id: str\n",
    "    :param model: VGG16 model\n",
    "    :type model: keras.Model\n",
    "    :return: features of the image\n",
    "    :rtype: numpy.array\n",
    "    \"\"\"\n",
    "    img = cv2.resize(cv2.imread(f'./data/visual_genome/{image_id}.jpg'), (224, 224))\n",
    "    features = model.predict(preprocess_input(np.expand_dims(img.astype(np.float32), axis=0)))\n",
    "    return features[0]\n",
    "\n",
    "\n",
    "def create_features_parallel(image_ids, model):\n",
    "    \"\"\" Creates features with VGG16 model for given image.\n",
    "\n",
    "    :param image_ids: ids of the images\n",
    "    :type image_ids: list\n",
    "    :param model: VGG16 model\n",
    "    :type model: keras.Model\n",
    "    :return: features of the image\n",
    "    :rtype: numpy.array\n",
    "    \"\"\"\n",
    "    input_f = []\n",
    "    for image_id in image_ids:\n",
    "        print(\"START\", image_id)  # last printed DONE 2414570\n",
    "        img = cv2.imread(\"./data/visual_genome/\" + str(image_id) + '.jpg')\n",
    "        img = cv2.resize(img, (224, 224))\n",
    "        input_f.append(img.astype(np.float32))\n",
    "\n",
    "    features = model.predict(preprocess_input(np.array(input_f)))\n",
    "    return features\n",
    "\n",
    "\n",
    "def load_vgg16_features(image_id, fc):\n",
    "    \"\"\" Loads VGG16 features for the image with given id. It assumes that the features are already created.\n",
    "\n",
    "    :param image_id: id of the image\n",
    "    :type image_id: str\n",
    "    :param fc: use features from fully connected layer if true\n",
    "    :type fc: bool\n",
    "    :return: features of the image\n",
    "    :rtype: numpy.array\n",
    "    \"\"\"\n",
    "    if fc:\n",
    "        with open(f'./Lab05_Output/dataset/features/vgg16/{image_id}.pkl', 'rb') as f:\n",
    "            features = pickle.load(f)\n",
    "    else:\n",
    "        with open(f'./Lab05_Output/dataset/features/vgg16-conv/{image_id}.pkl', 'rb') as f:\n",
    "            features = pickle.load(f)\n",
    "    return features\n",
    "\n",
    "\n",
    "def create_vgg16_features_parallel(image_ids, fc):\n",
    "    \"\"\" Creates VGG16 features for images with given ids. Features are saved to a file\n",
    "\n",
    "    :param image_ids: image ids\n",
    "    :type image_ids: numpy.array\n",
    "    :param fc: use features from fully connected layer if true\n",
    "    :type fc: bool\n",
    "    \"\"\"\n",
    "    vgg_16_model = load_vgg16(fc)\n",
    "    images = []\n",
    "    for i, image_id in zip(tqdm(list(range(len(image_ids)))), image_ids):\n",
    "        if fc:\n",
    "            features_path = f'./Lab05_Output/dataset/features/vgg16/{image_id}.pkl'\n",
    "        else:\n",
    "            features_path = f'./Lab05_Output/dataset/features/vgg16-conv/{image_id}.pkl'\n",
    "        if not os.path.exists(features_path):\n",
    "            images.append(image_id)\n",
    "        if len(images) == 16 or i == len(image_ids) - 1:\n",
    "            features = create_features_parallel(images, vgg_16_model)\n",
    "            for im_id, feats in zip(images, features):\n",
    "                if fc:\n",
    "                    with open(f'./Lab05_Output/dataset/features/vgg16/{im_id}.pkl', 'wb') as f:\n",
    "                        pickle.dump(feats, f)\n",
    "                else:\n",
    "                    with open(f'./Lab05_Output/dataset/features/vgg16-conv/{im_id}.pkl', 'wb') as f:\n",
    "                        pickle.dump(feats, f)\n",
    "            images = []\n",
    "\n",
    "\n",
    "def create_vgg16_features(image_ids, fc):\n",
    "    \"\"\" Creates VGG16 features for images with given ids. Features are saved to a file\n",
    "\n",
    "    :param image_ids: image ids\n",
    "    :type image_ids: numpy.array\n",
    "    :param fc: use features from fully connected layer if true\n",
    "    :type fc: bool\n",
    "    \"\"\"\n",
    "    vgg_16_model = load_vgg16(fc)\n",
    "    for _, image_id in zip(tqdm(list(range(len(image_ids)))), image_ids):\n",
    "        if fc:\n",
    "            if not os.path.exists(f'./Lab05_Output/dataset/features/vgg16/{image_id}.pkl'):\n",
    "                features = create_features(image_id, vgg_16_model)\n",
    "                with open(f'./Lab05_Output/dataset/features/vgg16/{image_id}.pkl', 'wb') as f:\n",
    "                    pickle.dump(features, f)\n",
    "        else:\n",
    "            if not os.path.exists(f'./Lab05_Output/dataset/features/vgg16-conv/{image_id}.pkl'):\n",
    "                features = create_features(image_id, vgg_16_model)\n",
    "                with open(f'./Lab05_Output/dataset/features/vgg16-conv/{image_id}.pkl', 'wb') as f:\n",
    "                    pickle.dump(features, f)\n",
    "\n",
    "#\n",
    "# if __name__ == '__main__':\n",
    "#     vgg_16_model = load_vgg16(False)\n",
    "#     create_features('KITP-11-22560-g004',\n",
    "#                     vgg_16_model)\n",
    "    # train_ids = load_image_ids('train')\n",
    "    # create_vgg16_features_parallel(train_ids, False)\n",
    "    # val_ids = load_image_ids('val')\n",
    "    # create_vgg16_features_parallel(val_ids, False)\n",
    "    # test_ids = load_image_ids('test')\n",
    "    # create_vgg16_features_parallel(test_ids, False)"
   ],
   "metadata": {
    "collapsed": false,
    "pycharm": {
     "name": "#%%\n"
    }
   }
  },
  {
   "cell_type": "markdown",
   "source": [
    "### Zad 1 - extracting data, train_test_split, simple RandomForestClassifier for openCV features extraction with BOWImgDescriptorExtractor\n",
    "All images downloaded"
   ],
   "metadata": {
    "collapsed": false
   }
  },
  {
   "cell_type": "code",
   "execution_count": 5,
   "outputs": [],
   "source": [
    "def getNames(file):\n",
    "    filename = os.fsdecode(file)\n",
    "    img_name = filename.split(\".\")[0]\n",
    "    return img_name\n",
    "vg_objects = pd.read_csv('./data/visual_genome_objects.csv')\n",
    "directory = os.fsencode(\"./data/visual_genome\")\n",
    "lst_imgs = os.listdir(directory)\n",
    "img_names = list(map(getNames,lst_imgs))\n",
    "# for imgID in list(set(vg_objects['Image ID'])):\n",
    "#     if str(imgID) not in img_names:\n",
    "#         download_visual_genome_image(str(imgID), './data/visual_genome/')"
   ],
   "metadata": {
    "collapsed": false,
    "pycharm": {
     "name": "#%%\n"
    }
   }
  },
  {
   "cell_type": "code",
   "execution_count": 6,
   "outputs": [
    {
     "name": "stdout",
     "output_type": "stream",
     "text": [
      "Creating dictionary\n",
      "Extract features\n"
     ]
    },
    {
     "data": {
      "text/plain": "array([[0.01522843, 0.01232777, 0.00942712, ..., 0.0137781 , 0.00652647,\n        0.00942712],\n       [0.00698324, 0.0377095 , 0.0027933 , ..., 0.00837989, 0.0027933 ,\n        0.00977654],\n       [0.00609756, 0.01727642, 0.00406504, ..., 0.01422764, 0.00813008,\n        0.00406504],\n       ...,\n       [0.011994  , 0.02098951, 0.        , ..., 0.005997  , 0.01349325,\n        0.01349325],\n       [0.00407747, 0.01019368, 0.00611621, ..., 0.01529052, 0.00917431,\n        0.00917431],\n       [0.01446945, 0.01607717, 0.00803859, ..., 0.00321543, 0.00643087,\n        0.01125402]], dtype=float32)"
     },
     "execution_count": 6,
     "metadata": {},
     "output_type": "execute_result"
    }
   ],
   "source": [
    "# print(list(map(lambda x: x + \".jpg\",img_names)))\n",
    "image_files = list(map(lambda x: x + \".jpg\",img_names))\n",
    "descriptor_features = create_descriptor_features(image_files)\n",
    "descriptor_features"
   ],
   "metadata": {
    "collapsed": false,
    "pycharm": {
     "name": "#%%\n"
    }
   }
  },
  {
   "cell_type": "code",
   "execution_count": 7,
   "outputs": [],
   "source": [
    "from sklearn.ensemble import RandomForestClassifier\n",
    "from sklearn.model_selection import train_test_split\n",
    "from sklearn.metrics import roc_auc_score, precision_score, average_precision_score\n",
    "RFC = RandomForestClassifier()\n",
    "X_train, x_test, Y_train, y_test = train_test_split(vg_objects[\"Image ID\"], vg_objects[\"Class\"], test_size=0.2,random_state=42)\n",
    "# X_test, x_val, Y_test, y_val = train_test_split(x_test,y_test, test_size=0.2, random_state=42)"
   ],
   "metadata": {
    "collapsed": false,
    "pycharm": {
     "name": "#%%\n"
    }
   }
  },
  {
   "cell_type": "code",
   "execution_count": 8,
   "outputs": [],
   "source": [
    "descriptor_features_withID = {}\n",
    "for imgId, feat in zip(img_names, descriptor_features):\n",
    "    descriptor_features_withID[imgId] = feat\n",
    "# list(vg_objects[\"Image ID\"])\n",
    "# list(set(vg_objects[\"Image ID\"]))"
   ],
   "metadata": {
    "collapsed": false,
    "pycharm": {
     "name": "#%%\n"
    }
   }
  },
  {
   "cell_type": "code",
   "execution_count": 9,
   "outputs": [
    {
     "name": "stdout",
     "output_type": "stream",
     "text": [
      "Score:  0.111\n"
     ]
    }
   ],
   "source": [
    "RFC.fit([descriptor_features_withID[str(val)] for val in X_train],Y_train)\n",
    "# y_pred = RFC.predict([descriptor_features_withID[str(val)] for val in x_test])\n",
    "# print(\"Precision score: \", precision_score(y_test, y_pred, average='macro'))\n",
    "score = RFC.score([descriptor_features_withID[str(val)] for val in x_test],y_test)\n",
    "print(\"Score: \", score)\n",
    " # Is it really that bad or I am doing something really wrong ?"
   ],
   "metadata": {
    "collapsed": false,
    "pycharm": {
     "name": "#%%\n"
    }
   }
  },
  {
   "cell_type": "markdown",
   "source": [
    "### Zad 2  - VGG 16"
   ],
   "metadata": {
    "collapsed": false,
    "pycharm": {
     "name": "#%% md\n"
    }
   }
  },
  {
   "cell_type": "code",
   "execution_count": 10,
   "outputs": [],
   "source": [
    "modelVGG16 = load_vgg16(fc=True)\n",
    "imgFeatures = {}\n",
    "for imgID in img_names:\n",
    "    feat = create_features(str(imgID), modelVGG16)\n",
    "    imgFeatures[imgID] = feat"
   ],
   "metadata": {
    "collapsed": false,
    "pycharm": {
     "name": "#%%\n"
    }
   }
  },
  {
   "cell_type": "code",
   "execution_count": 11,
   "outputs": [
    {
     "name": "stdout",
     "output_type": "stream",
     "text": [
      "Score:  0.255\n"
     ]
    }
   ],
   "source": [
    "RFC = RandomForestClassifier()\n",
    "RFC.fit([imgFeatures[str(val)] for val in X_train], Y_train)\n",
    "score = RFC.score([imgFeatures[str(val)] for val in x_test],y_test)\n",
    "print(\"Score: \", score)"
   ],
   "metadata": {
    "collapsed": false,
    "pycharm": {
     "name": "#%%\n"
    }
   }
  },
  {
   "cell_type": "markdown",
   "source": [
    "### Zad 3"
   ],
   "metadata": {
    "collapsed": false,
    "pycharm": {
     "name": "#%% md\n"
    }
   }
  },
  {
   "cell_type": "code",
   "execution_count": null,
   "outputs": [],
   "source": [
    "from keras.layers import Dense\n",
    "base_model = VGG16(include_top=False, weights='imagenet', input_shape=(244,244,3))\n",
    "layer = base_model.output\n",
    "layer = Dense(2)(layer)\n",
    "model = Model(base_model.input,output=layer)\n",
    "\n",
    "imgFeatures_VGG16_Dense = create_features_parallel(img_names,model)"
   ],
   "metadata": {
    "collapsed": false,
    "pycharm": {
     "name": "#%%\n"
    }
   }
  }
 ],
 "metadata": {
  "kernelspec": {
   "display_name": "Python 3",
   "language": "python",
   "name": "python3"
  },
  "language_info": {
   "codemirror_mode": {
    "name": "ipython",
    "version": 2
   },
   "file_extension": ".py",
   "mimetype": "text/x-python",
   "name": "python",
   "nbconvert_exporter": "python",
   "pygments_lexer": "ipython2",
   "version": "2.7.6"
  }
 },
 "nbformat": 4,
 "nbformat_minor": 0
}