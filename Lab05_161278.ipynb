{
 "cells": [
  {
   "cell_type": "code",
   "execution_count": 1,
   "metadata": {
    "collapsed": true
   },
   "outputs": [],
   "source": [
    "import numpy as np\n",
    "import pandas as pd\n",
    "import cv2\n",
    "import tensorflow as tf\n",
    "import time as time"
   ]
  },
  {
   "cell_type": "code",
   "execution_count": 2,
   "metadata": {
    "pycharm": {
     "name": "#%%\n"
    }
   },
   "outputs": [
    {
     "name": "stdout",
     "output_type": "stream",
     "text": [
      "Num of GPU devices available:  1\n"
     ]
    }
   ],
   "source": [
    "physical_devices = tf.config.experimental.list_physical_devices('GPU')\n",
    "print(\"Num of GPU devices available: \", len(physical_devices))\n",
    "tf.config.experimental.set_memory_growth(physical_devices[0], True)\n",
    "# tf.config.optimizer.set_jit(enabled=True)\n",
    "# tf.config.optimizer.set_experimental_options({\"loop_optimization\":True,\"layout_optimizer\":True})"
   ]
  },
  {
   "cell_type": "code",
   "execution_count": 3,
   "metadata": {
    "pycharm": {
     "name": "#%%\n"
    }
   },
   "outputs": [],
   "source": [
    "import requests\n",
    "URL = \"https://visualgenome.org/api/v0/images/\"\n",
    "\n",
    "\n",
    "def download_visual_genome_image(image_id, folder):\n",
    "    \"\"\" Downloads image from the visual genome dataset\n",
    "\n",
    "    :param image_id: id of the image to download\n",
    "    :type image_id: str\n",
    "    :param folder: where to download the image\n",
    "    :return:\n",
    "    \"\"\"\n",
    "    r = requests.get(url=URL + image_id)\n",
    "    data = r.json()\n",
    "\n",
    "    print(f\"Downloading image: {data['url']}\")\n",
    "\n",
    "    img_data = requests.get(data['url']).content\n",
    "    with open(folder + f'/{image_id}.jpg', 'wb') as handler:\n",
    "        handler.write(img_data)"
   ]
  },
  {
   "cell_type": "code",
   "execution_count": 4,
   "metadata": {
    "pycharm": {
     "name": "#%%\n"
    }
   },
   "outputs": [],
   "source": [
    "import os\n",
    "\n",
    "def create_descriptor_features(image_files):\n",
    "    \"\"\"Create features for images with SIFT descriptor\n",
    "\n",
    "    :param image_files: list of images to be processed\n",
    "    :type image_files: list(str)\n",
    "    :return: numpy array of the created features\n",
    "    :rtype: np.array\n",
    "    \"\"\"\n",
    "    trainer = cv2.BOWKMeansTrainer(clusterCount=100)\n",
    "    sift = cv2.xfeatures2d.SIFT_create()\n",
    "    matcher = cv2.FlannBasedMatcher_create()\n",
    "    bow_extractor = cv2.BOWImgDescriptorExtractor(sift, matcher)\n",
    "\n",
    "    print('Creating dictionary')\n",
    "    if os.path.exists('data/dictionary.npy'):\n",
    "        dictionary = np.load('data/dictionary.npy')\n",
    "    else:\n",
    "        for filename in image_files:\n",
    "            file = f'data/visual_genome/{filename.lower()}'\n",
    "            img = cv2.imread(file)\n",
    "            img = cv2.cvtColor(img, cv2.COLOR_BGR2HSV)\n",
    "            key_points, desc_obj = sift.detectAndCompute(img, mask=None)\n",
    "            trainer.add(desc_obj)\n",
    "\n",
    "        dictionary = trainer.cluster()\n",
    "        np.save('data/dictionary.npy', dictionary)\n",
    "\n",
    "    bow_extractor.setVocabulary(dictionary)\n",
    "\n",
    "    feature_data = np.zeros(shape=(len(image_files), dictionary.shape[0]),\n",
    "                            dtype=np.float32)\n",
    "\n",
    "    print('Extract features')\n",
    "    for i, filename in zip(range(len(image_files)), image_files):\n",
    "        file = f'data/visual_genome/{filename.lower()}'\n",
    "        img = cv2.imread(file)\n",
    "        img = cv2.cvtColor(img, cv2.COLOR_BGR2HSV)\n",
    "        points = sift.detect(img)\n",
    "        feature_data[i] = bow_extractor.compute(img, points)\n",
    "    return feature_data"
   ]
  },
  {
   "cell_type": "code",
   "execution_count": 5,
   "metadata": {
    "pycharm": {
     "name": "#%%\n"
    }
   },
   "outputs": [],
   "source": [
    "import pickle\n",
    "from tqdm import tqdm\n",
    "from tensorflow.keras.models import Model\n",
    "from tensorflow.keras.applications.vgg16 import VGG16, preprocess_input\n",
    "# tensorflow.contrib.keras.api.keras.applications.vgg16 from original code\n",
    "\n",
    "def load_vgg16(fc):\n",
    "    \"\"\" Creates VGG16 model.\n",
    "\n",
    "    :param fc: fully connected layer as output layer if true\n",
    "    :type fc: bool\n",
    "    :return: instance of VGG16 keras model\n",
    "    :rtype: keras.Model\n",
    "    \"\"\"\n",
    "    base_model = VGG16(include_top=True, weights='imagenet', input_shape=(224, 224, 3))\n",
    "    if fc:\n",
    "        model = Model(inputs=base_model.input, outputs=base_model.get_layer(name='fc2').output)\n",
    "    else:\n",
    "        model = Model(inputs=base_model.input, outputs=base_model.get_layer(name='block5_pool').output)\n",
    "    model.trainable = False\n",
    "    return model\n",
    "\n",
    "\n",
    "def create_features(image_id, model):\n",
    "    \"\"\" Creates features with VGG16 model for given image.\n",
    "\n",
    "    :param image_id: id of the image\n",
    "    :type image_id: str\n",
    "    :param model: VGG16 model\n",
    "    :type model: keras.Model\n",
    "    :return: features of the image\n",
    "    :rtype: numpy.array\n",
    "    \"\"\"\n",
    "    img = cv2.resize(cv2.imread(f'./data/visual_genome/{image_id}.jpg'), (224, 224))\n",
    "    features = model.predict(preprocess_input(np.expand_dims(img.astype(np.float32), axis=0)))\n",
    "    return features[0]\n",
    "\n",
    "\n",
    "def create_features_parallel(image_ids, model):\n",
    "    \"\"\" Creates features with VGG16 model for given image.\n",
    "\n",
    "    :param image_ids: ids of the images\n",
    "    :type image_ids: list\n",
    "    :param model: VGG16 model\n",
    "    :type model: keras.Model\n",
    "    :return: features of the image\n",
    "    :rtype: numpy.array\n",
    "    \"\"\"\n",
    "    input_f = []\n",
    "    for image_id in image_ids:\n",
    "        print(\"START\", image_id)  # last printed DONE 2414570\n",
    "        img = cv2.imread(\"./data/visual_genome/\" + str(image_id) + '.jpg')\n",
    "        img = cv2.resize(img, (224, 224))\n",
    "        input_f.append(img.astype(np.float32))\n",
    "\n",
    "    features = model.predict(preprocess_input(np.array(input_f)))\n",
    "    return features\n",
    "\n",
    "\n",
    "def load_vgg16_features(image_id, fc):\n",
    "    \"\"\" Loads VGG16 features for the image with given id. It assumes that the features are already created.\n",
    "\n",
    "    :param image_id: id of the image\n",
    "    :type image_id: str\n",
    "    :param fc: use features from fully connected layer if true\n",
    "    :type fc: bool\n",
    "    :return: features of the image\n",
    "    :rtype: numpy.array\n",
    "    \"\"\"\n",
    "    if fc:\n",
    "        with open(f'./Lab05_Output/dataset/features/vgg16/{image_id}.pkl', 'rb') as f:\n",
    "            features = pickle.load(f)\n",
    "    else:\n",
    "        with open(f'./Lab05_Output/dataset/features/vgg16-conv/{image_id}.pkl', 'rb') as f:\n",
    "            features = pickle.load(f)\n",
    "    return features\n",
    "\n",
    "\n",
    "def create_vgg16_features_parallel(image_ids, fc):\n",
    "    \"\"\" Creates VGG16 features for images with given ids. Features are saved to a file\n",
    "\n",
    "    :param image_ids: image ids\n",
    "    :type image_ids: numpy.array\n",
    "    :param fc: use features from fully connected layer if true\n",
    "    :type fc: bool\n",
    "    \"\"\"\n",
    "    vgg_16_model = load_vgg16(fc)\n",
    "    images = []\n",
    "    for i, image_id in zip(tqdm(list(range(len(image_ids)))), image_ids):\n",
    "        if fc:\n",
    "            features_path = f'./Lab05_Output/dataset/features/vgg16/{image_id}.pkl'\n",
    "        else:\n",
    "            features_path = f'./Lab05_Output/dataset/features/vgg16-conv/{image_id}.pkl'\n",
    "        if not os.path.exists(features_path):\n",
    "            images.append(image_id)\n",
    "        if len(images) == 16 or i == len(image_ids) - 1:\n",
    "            features = create_features_parallel(images, vgg_16_model)\n",
    "            for im_id, feats in zip(images, features):\n",
    "                if fc:\n",
    "                    with open(f'./Lab05_Output/dataset/features/vgg16/{im_id}.pkl', 'wb') as f:\n",
    "                        pickle.dump(feats, f)\n",
    "                else:\n",
    "                    with open(f'./Lab05_Output/dataset/features/vgg16-conv/{im_id}.pkl', 'wb') as f:\n",
    "                        pickle.dump(feats, f)\n",
    "            images = []\n",
    "\n",
    "\n",
    "def create_vgg16_features(image_ids, fc):\n",
    "    \"\"\" Creates VGG16 features for images with given ids. Features are saved to a file\n",
    "\n",
    "    :param image_ids: image ids\n",
    "    :type image_ids: numpy.array\n",
    "    :param fc: use features from fully connected layer if true\n",
    "    :type fc: bool\n",
    "    \"\"\"\n",
    "    vgg_16_model = load_vgg16(fc)\n",
    "    for _, image_id in zip(tqdm(list(range(len(image_ids)))), image_ids):\n",
    "        if fc:\n",
    "            if not os.path.exists(f'./Lab05_Output/dataset/features/vgg16/{image_id}.pkl'):\n",
    "                features = create_features(image_id, vgg_16_model)\n",
    "                with open(f'./Lab05_Output/dataset/features/vgg16/{image_id}.pkl', 'wb') as f:\n",
    "                    pickle.dump(features, f)\n",
    "        else:\n",
    "            if not os.path.exists(f'./Lab05_Output/dataset/features/vgg16-conv/{image_id}.pkl'):\n",
    "                features = create_features(image_id, vgg_16_model)\n",
    "                with open(f'./Lab05_Output/dataset/features/vgg16-conv/{image_id}.pkl', 'wb') as f:\n",
    "                    pickle.dump(features, f)"
   ]
  },
  {
   "cell_type": "markdown",
   "metadata": {},
   "source": [
    "### Zad 1 - extracting data, train_test_split, simple RandomForestClassifier for openCV features extraction with BOWImgDescriptorExtractor\n",
    "All images downloaded"
   ]
  },
  {
   "cell_type": "code",
   "execution_count": 6,
   "metadata": {
    "pycharm": {
     "name": "#%%\n"
    }
   },
   "outputs": [],
   "source": [
    "from sklearn.model_selection import train_test_split\n",
    "from sklearn.preprocessing import LabelEncoder\n",
    "from keras.utils.np_utils import to_categorical\n",
    "\n",
    "vg_objects = pd.read_csv('./data/visual_genome_objects.csv')\n",
    "encoder = LabelEncoder()\n",
    "encoder.fit(vg_objects[\"Class\"])\n",
    "encoded_Y = encoder.transform(vg_objects[\"Class\"])\n",
    "# convert integers to dummy variables (i.e. one hot encoded)\n",
    "dummy_y = to_categorical(encoded_Y)\n",
    "X_train, x_test, Y_train, y_test = train_test_split(vg_objects, dummy_y, test_size=0.2,random_state=42)\n",
    "X_test, x_val, Y_test, y_val = train_test_split(x_test,y_test, test_size=0.2, random_state=42)\n",
    "classes = set(vg_objects[\"Class\"])"
   ]
  },
  {
   "cell_type": "code",
   "execution_count": 7,
   "metadata": {
    "pycharm": {
     "name": "#%%\n"
    }
   },
   "outputs": [],
   "source": [
    "train_np = X_train.to_numpy()\n",
    "test_np = X_test.to_numpy()\n",
    "val_np = x_val.to_numpy()\n",
    "for arr in (train_np, test_np, val_np):\n",
    "    arr[arr == \"building\"] = 0\n",
    "    arr[arr == \"car\"] = 1\n",
    "    arr[arr == \"chair\"] = 2\n",
    "    arr[arr == \"desk\"] = 3\n",
    "    arr[arr == \"glass\"] = 4\n",
    "    arr[arr == \"man\"] = 5\n",
    "    arr[arr == \"road\"] = 6\n",
    "    arr[arr == \"shelf\"] = 7\n",
    "    arr[arr == \"tree\"] = 8\n",
    "    arr[arr == \"window\"] = 9"
   ]
  },
  {
   "cell_type": "code",
   "execution_count": 7,
   "metadata": {
    "pycharm": {
     "name": "#%%\n"
    }
   },
   "outputs": [],
   "source": [
    "classes_dc = { 0:\"building\", 1:\"car\", 2:\"chair\", 3:\"desk\", 4:\"glass\", 5:\"man\", 6:\"road\", 7:\"shelf\", 8:\"tree\", 9:\"window\"}"
   ]
  },
  {
   "cell_type": "code",
   "execution_count": 8,
   "metadata": {
    "pycharm": {
     "name": "#%%\n"
    }
   },
   "outputs": [],
   "source": [
    "import shutil\n",
    "# X_train_lst = list(X_train)\n",
    "# x_val_lst = list(x_val)\n",
    "# x_test_lst = list(x_test)\n",
    "def create_seperate_class_folder(class_name):\n",
    "    os.mkdir(f'Lab05_Output/dataset/genReadyImages/test/{class_name}')\n",
    "    os.mkdir(f'Lab05_Output/dataset/genReadyImages/train/{class_name}')\n",
    "    os.mkdir(f'Lab05_Output/dataset/genReadyImages/val/{class_name}')\n",
    "def create_dest(ttv, class_name, im_id):\n",
    "        cl_name_str = classes_dc[class_name]\n",
    "        if ttv == 0:\n",
    "            return f'Lab05_Output/dataset/genReadyImages/train/{cl_name_str}/{str(im_id)}.jpg'\n",
    "        if ttv == 1:\n",
    "            return f'Lab05_Output/dataset/genReadyImages/test/{cl_name_str}/{str(im_id)}.jpg'\n",
    "        if ttv == 2:\n",
    "            return f'Lab05_Output/dataset/genReadyImages/val/{cl_name_str}/{str(im_id)}.jpg'\n",
    "\n",
    "\n",
    "def populate_with_images(file_list):\n",
    "    for file in file_list:\n",
    "        src = f'data/visual_genome/{str(file[2])}.jpg'\n",
    "        dest = create_dest(file[0], file[1], file[2])\n",
    "        shutil.copyfile(src,dest)\n",
    "from numba import jit, cuda\n",
    "# @jit(nopython=True)\n",
    "def create_np_list(train_np_func, test_np_func, val_np_func):\n",
    "    file_list = np.zeros((5000,3),dtype=int)\n",
    "    print(file_list.shape, \"last index\", file_list[4999,0])\n",
    "    arr_iter = 0\n",
    "    print(\"SUCCESS START CREATE\")\n",
    "    for i in range(train_np_func.shape[0]):\n",
    "        file_id = train_np_func[i,0]\n",
    "        cl_id = train_np_func[i,1]\n",
    "        file_list[arr_iter,0] = 0\n",
    "        file_list[arr_iter,1] = cl_id\n",
    "        file_list[arr_iter,2] = file_id\n",
    "        arr_iter = arr_iter + 1\n",
    "    for i in range(test_np_func.shape[0]):\n",
    "        file_id = test_np_func[i,0]\n",
    "        cl_id = test_np_func[i,1]\n",
    "        file_list[arr_iter,0] = 1\n",
    "        file_list[arr_iter,1] = cl_id\n",
    "        file_list[arr_iter,2] = file_id\n",
    "        arr_iter = arr_iter + 1\n",
    "    for i in range(val_np_func.shape[0]):\n",
    "        file_id = val_np_func[i,0]\n",
    "        cl_id = val_np_func[i,1]\n",
    "        file_list[arr_iter,0] = 2\n",
    "        file_list[arr_iter,1] = cl_id\n",
    "        file_list[arr_iter,2] = file_id\n",
    "        arr_iter = arr_iter + 1\n",
    "    return file_list\n",
    "\n",
    "    # for im_id, cl in zip(relevant_ids[\"Image ID\"],):\n",
    "    #     src = f'data/visual_genome/{str(im_id)}.jpg'\n",
    "    #     if im_id in X_train_lst:\n",
    "    #         dest = f'Lab05_Output/dataset/genReadyImages/train/{class_name}/{str(im_id)}.jpg'\n",
    "    #         shutil.copyfile(src,dest)\n",
    "    #     if im_id in x_val_lst:\n",
    "    #         dest = f'Lab05_Output/dataset/genReadyImages/val/{class_name}/{str(im_id)}.jpg'\n",
    "    #         shutil.copyfile(src,dest)\n",
    "    #     if im_id in x_test_lst:\n",
    "    #         dest = f'Lab05_Output/dataset/genReadyImages/test/{class_name}/{str(im_id)}.jpg'\n",
    "    #         shutil.copyfile(src,dest)\n",
    "    #     if im_id not in X_train_lst and im_id not in x_val_lst and im_id not in x_test_lst:\n",
    "    #         print(\"Strange for \", im_id)\n",
    "def getNames(file):\n",
    "    filename = os.fsdecode(file)\n",
    "    img_name = filename.split(\".\")[0]\n",
    "    return img_name\n",
    "class_names = set(vg_objects[\"Class\"])\n",
    "if os.path.isdir(\"Lab05_Output/dataset/genReadyImages/train/car\") is False:\n",
    "    # for cl_nm in class_names:\n",
    "    #     create_seperate_class_folder(cl_nm)\n",
    "    start = time.time()\n",
    "    # with tf.device('/device:GPU:0'):\n",
    "    print(\"Start\")\n",
    "    file_lst = create_np_list(train_np[:].astype(np.int),test_np[:].astype(np.int),val_np[:].astype(np.int))\n",
    "    print(\"cuda function: \", time.time() - start)\n",
    "    print(\"Copy files\")\n",
    "    populate_with_images(file_lst)\n",
    "directory = os.fsencode(\"./data/visual_genome\")\n",
    "lst_imgs = os.listdir(directory)\n",
    "img_names = list(map(getNames,lst_imgs))\n",
    "# for imgID in list(set(vg_objects['Image ID'])):\n",
    "#     if str(imgID) not in img_names:\n",
    "#         download_visual_genome_image(str(imgID), './data/visual_genome/')"
   ]
  },
  {
   "cell_type": "code",
   "execution_count": 10,
   "metadata": {
    "pycharm": {
     "name": "#%%\n"
    }
   },
   "outputs": [
    {
     "name": "stdout",
     "output_type": "stream",
     "text": [
      "Creating dictionary\n",
      "Extract features\n",
      "End time:  518.2893946170807\n"
     ]
    }
   ],
   "source": [
    "import time as time\n",
    "with tf.device('/device:GPU:0'):\n",
    "    # print(list(map(lambda x: x + \".jpg\",img_names)))\n",
    "    start = time.time()\n",
    "    image_files = list(map(lambda x: x + \".jpg\",img_names))\n",
    "    descriptor_features = create_descriptor_features(image_files)\n",
    "    print(\"End time: \", time.time() - start)\n",
    "    # descriptor_features"
   ]
  },
  {
   "cell_type": "code",
   "execution_count": 9,
   "metadata": {
    "pycharm": {
     "name": "#%%\n"
    }
   },
   "outputs": [
    {
     "name": "stdout",
     "output_type": "stream",
     "text": [
      "Found 4000 images belonging to 10 classes.\n",
      "Found 800 images belonging to 10 classes.\n",
      "Found 200 images belonging to 10 classes.\n"
     ]
    }
   ],
   "source": [
    "from tensorflow.keras.preprocessing.image import ImageDataGenerator\n",
    "images_path_train = './Lab05_Output/dataset/genReadyImages/train'\n",
    "images_path_test = './Lab05_Output/dataset/genReadyImages/test'\n",
    "images_path_val = './Lab05_Output/dataset/genReadyImages/val'\n",
    "classes = list(class_names)\n",
    "train_batches = ImageDataGenerator(preprocessing_function=tf.keras.applications.vgg16.preprocess_input)\\\n",
    "    .flow_from_directory(directory=images_path_train,target_size=(244,244),classes=classes)\n",
    "val_batches = ImageDataGenerator(preprocessing_function=tf.keras.applications.vgg16.preprocess_input)\\\n",
    "    .flow_from_directory(directory=images_path_test,target_size=(244,244),classes=classes,shuffle=False,batch_size=20)\n",
    "test_batches = ImageDataGenerator(preprocessing_function=tf.keras.applications.vgg16.preprocess_input)\\\n",
    "    .flow_from_directory(directory=images_path_val,target_size=(244,244),classes=classes)\n",
    "\n",
    "\n",
    "assert train_batches.n == len(X_train)\n",
    "assert test_batches.n ==  len(x_val)\n",
    "assert val_batches.n == len(X_test)"
   ]
  },
  {
   "cell_type": "code",
   "execution_count": 12,
   "metadata": {
    "pycharm": {
     "name": "#%%\n"
    }
   },
   "outputs": [],
   "source": [
    "descriptor_features_withID = {}\n",
    "for imgId, feat in zip(img_names, descriptor_features):\n",
    "    descriptor_features_withID[imgId] = feat\n",
    "# list(vg_objects[\"Image ID\"])\n",
    "# list(set(vg_objects[\"Image ID\"]))"
   ]
  },
  {
   "cell_type": "code",
   "execution_count": 20,
   "metadata": {
    "pycharm": {
     "name": "#%%\n"
    }
   },
   "outputs": [
    {
     "name": "stdout",
     "output_type": "stream",
     "text": [
      "Score:  0.0\n"
     ]
    }
   ],
   "source": [
    "from sklearn.ensemble import RandomForestClassifier\n",
    "\n",
    "RFC = RandomForestClassifier()\n",
    "RFC.fit([descriptor_features_withID[str(val)] for val in X_train['Image ID']],Y_train)\n",
    "# y_pred = RFC.predict([descriptor_features_withID[str(val)] for val in x_test])\n",
    "# print(\"Precision score: \", precision_score(y_test, y_pred, average='macro'))\n",
    "score = RFC.score([descriptor_features_withID[str(val)] for val in x_test['Image ID']],y_test)\n",
    "print(\"Score: \", score)\n",
    " # Is it really that bad or I am doing something really wrong ?"
   ]
  },
  {
   "cell_type": "markdown",
   "metadata": {
    "pycharm": {
     "name": "#%% md\n"
    }
   },
   "source": [
    "### Zad 2  - VGG 16"
   ]
  },
  {
   "cell_type": "code",
   "execution_count": 21,
   "metadata": {
    "pycharm": {
     "name": "#%%\n"
    }
   },
   "outputs": [
    {
     "name": "stdout",
     "output_type": "stream",
     "text": [
      "Needed:  176.33413195610046\n"
     ]
    }
   ],
   "source": [
    "start = time.time()\n",
    "modelVGG16 = load_vgg16(fc=True)\n",
    "imgFeatures = {}\n",
    "\n",
    "with tf.device('/device:GPU:0'):\n",
    "    for imgID in img_names:\n",
    "        feat = create_features(imgID, modelVGG16)\n",
    "        imgFeatures[imgID] = feat\n",
    "print(\"Needed: \", time.time() - start)"
   ]
  },
  {
   "cell_type": "code",
   "execution_count": null,
   "metadata": {
    "pycharm": {
     "name": "#%%\n"
    }
   },
   "outputs": [],
   "source": [
    "# pickle\n",
    "# imgFeat_save = create_vgg16_features(img_names,True)\n",
    "start = time.time()\n",
    "print(\"pickles ready\")\n",
    "# with tf.device('/device:GPU:0'):\n",
    "#     create_vgg16_features_parallel(img_names,True)\n",
    "print(\"Needed: \", time.time() - start)"
   ]
  },
  {
   "cell_type": "code",
   "execution_count": 23,
   "metadata": {
    "pycharm": {
     "name": "#%%\n"
    }
   },
   "outputs": [
    {
     "name": "stdout",
     "output_type": "stream",
     "text": [
      "Score:  0.048\n"
     ]
    }
   ],
   "source": [
    "RFC = RandomForestClassifier()\n",
    "RFC.fit([imgFeatures[str(val)] for val in X_train['Image ID']], Y_train)\n",
    "score = RFC.score([imgFeatures[str(val)] for val in x_test['Image ID']],y_test)\n",
    "print(\"Score: \", score)"
   ]
  },
  {
   "cell_type": "code",
   "execution_count": 24,
   "metadata": {
    "pycharm": {
     "name": "#%%\n"
    }
   },
   "outputs": [
    {
     "name": "stdout",
     "output_type": "stream",
     "text": [
      "Score:  0.05\n"
     ]
    }
   ],
   "source": [
    "imgFeat_save = {}\n",
    "for imgID in img_names:\n",
    "    imgFeat_save[imgID] = load_vgg16_features(imgID,True)\n",
    "RFC = RandomForestClassifier()\n",
    "RFC.fit([imgFeat_save[str(val)] for val in X_train['Image ID']], Y_train)\n",
    "score = RFC.score([imgFeat_save[str(val)] for val in x_test['Image ID']],y_test)\n",
    "print(\"Score: \", score)"
   ]
  },
  {
   "cell_type": "markdown",
   "metadata": {
    "pycharm": {
     "name": "#%% md\n"
    }
   },
   "source": [
    "### Zad 3"
   ]
  },
  {
   "cell_type": "code",
   "execution_count": null,
   "metadata": {
    "pycharm": {
     "name": "#%%\n"
    }
   },
   "outputs": [],
   "source": [
    "from tensorflow.keras.layers import Input\n",
    "if os.path.isdir(\"Lab05_Output/dataset/features/vgg16-conv\") is False:\n",
    "    with tf.device('/device:GPU:0'):\n",
    "        os.chdir(\"Lab05_Output/dataset/features/\")\n",
    "        os.mkdir(\"vgg16-conv\")\n",
    "        os.chdir(\"../../../\")\n",
    "        create_vgg16_features_parallel(img_names,False)"
   ]
  },
  {
   "cell_type": "markdown",
   "metadata": {
    "pycharm": {
     "name": "#%% md\n"
    }
   },
   "source": [
    "##### Read all the pre trained features from VGG16 model"
   ]
  },
  {
   "cell_type": "code",
   "execution_count": null,
   "metadata": {
    "pycharm": {
     "name": "#%%\n"
    }
   },
   "outputs": [],
   "source": [
    "imgFeat_save = {}\n",
    "for imgID in img_names:\n",
    "    imgFeat_save[imgID] = load_vgg16_features(imgID,False)"
   ]
  },
  {
   "cell_type": "code",
   "execution_count": 10,
   "metadata": {
    "pycharm": {
     "name": "#%%\n"
    }
   },
   "outputs": [],
   "source": [
    "from tensorflow.keras.models import load_model\n",
    "from tensorflow.keras import Sequential\n",
    "from tensorflow.keras.layers import Dense, Flatten, Dropout, Input\n",
    "from tensorflow import metrics\n",
    "from tensorflow.keras.optimizers import Adam\n",
    "from sklearn.metrics import accuracy_score, precision_score\n",
    "num_classes = len(set(vg_objects[\"Class\"]))"
   ]
  },
  {
   "cell_type": "code",
   "execution_count": 11,
   "metadata": {
    "pycharm": {
     "name": "#%%\n"
    }
   },
   "outputs": [
    {
     "name": "stdout",
     "output_type": "stream",
     "text": [
      "Model: \"model\"\n",
      "_________________________________________________________________\n",
      "Layer (type)                 Output Shape              Param #   \n",
      "=================================================================\n",
      "input_1 (InputLayer)         [(None, 224, 224, 3)]     0         \n",
      "_________________________________________________________________\n",
      "block1_conv1 (Conv2D)        (None, 224, 224, 64)      1792      \n",
      "_________________________________________________________________\n",
      "block1_conv2 (Conv2D)        (None, 224, 224, 64)      36928     \n",
      "_________________________________________________________________\n",
      "block1_pool (MaxPooling2D)   (None, 112, 112, 64)      0         \n",
      "_________________________________________________________________\n",
      "block2_conv1 (Conv2D)        (None, 112, 112, 128)     73856     \n",
      "_________________________________________________________________\n",
      "block2_conv2 (Conv2D)        (None, 112, 112, 128)     147584    \n",
      "_________________________________________________________________\n",
      "block2_pool (MaxPooling2D)   (None, 56, 56, 128)       0         \n",
      "_________________________________________________________________\n",
      "block3_conv1 (Conv2D)        (None, 56, 56, 256)       295168    \n",
      "_________________________________________________________________\n",
      "block3_conv2 (Conv2D)        (None, 56, 56, 256)       590080    \n",
      "_________________________________________________________________\n",
      "block3_conv3 (Conv2D)        (None, 56, 56, 256)       590080    \n",
      "_________________________________________________________________\n",
      "block3_pool (MaxPooling2D)   (None, 28, 28, 256)       0         \n",
      "_________________________________________________________________\n",
      "block4_conv1 (Conv2D)        (None, 28, 28, 512)       1180160   \n",
      "_________________________________________________________________\n",
      "block4_conv2 (Conv2D)        (None, 28, 28, 512)       2359808   \n",
      "_________________________________________________________________\n",
      "block4_conv3 (Conv2D)        (None, 28, 28, 512)       2359808   \n",
      "_________________________________________________________________\n",
      "block4_pool (MaxPooling2D)   (None, 14, 14, 512)       0         \n",
      "_________________________________________________________________\n",
      "block5_conv1 (Conv2D)        (None, 14, 14, 512)       2359808   \n",
      "_________________________________________________________________\n",
      "block5_conv2 (Conv2D)        (None, 14, 14, 512)       2359808   \n",
      "_________________________________________________________________\n",
      "block5_conv3 (Conv2D)        (None, 14, 14, 512)       2359808   \n",
      "_________________________________________________________________\n",
      "block5_pool (MaxPooling2D)   (None, 7, 7, 512)         0         \n",
      "_________________________________________________________________\n",
      "global_average_pooling2d (Gl (None, 512)               0         \n",
      "_________________________________________________________________\n",
      "dense (Dense)                (None, 4096)              2101248   \n",
      "_________________________________________________________________\n",
      "dropout (Dropout)            (None, 4096)              0         \n",
      "_________________________________________________________________\n",
      "dense_1 (Dense)              (None, 4096)              16781312  \n",
      "_________________________________________________________________\n",
      "dense_2 (Dense)              (None, 10)                40970     \n",
      "=================================================================\n",
      "Total params: 33,638,218\n",
      "Trainable params: 31,902,730\n",
      "Non-trainable params: 1,735,488\n",
      "_________________________________________________________________\n"
     ]
    }
   ],
   "source": [
    "device = cuda.get_current_device()\n",
    "device.reset()\n",
    "if os.path.isfile('./Lab05_Output/models/pre_trained_with_vgg16.h5') is False:\n",
    "    # base_model = VGG16(include_top=False, weights='imagenet', input_shape=(224, 224, 3), pooling='avg', classes=num_classes) # classifier_activation='Relu' MAKE SURE TO TRY IT\n",
    "    base_model = VGG16(include_top=False, weights='imagenet', input_shape=(224, 224, 3), pooling='avg') # classifier_activation='Relu' MAKE SURE TO TRY IT\n",
    "    x = base_model.output\n",
    "    x = Dense(4096,activation='relu')(x)\n",
    "    x = Dropout(0.3)(x)\n",
    "    x = Dense(4096,activation='relu')(x)\n",
    "    output = Dense(10,activation='softmax')(x)\n",
    "    model = Model(inputs=base_model.input, outputs=output)\n",
    "    for layer in model.layers[:-13]:\n",
    "        layer.trainable = False\n",
    "    # model = Sequential(\n",
    "    #     base_model.layers[:-3]\n",
    "    #     +\n",
    "    #     [\n",
    "    #     Dense(4096, activation='relu'),\n",
    "    #     Dropout(0.5),\n",
    "    #     Dense(4096, activation='relu'),\n",
    "    #     Dense(num_classes,activation='softmax')\n",
    "    # ])\n",
    "    model.summary()"
   ]
  },
  {
   "cell_type": "code",
   "execution_count": null,
   "metadata": {
    "pycharm": {
     "name": "#%%\n"
    }
   },
   "outputs": [],
   "source": [
    "# Not needed for now\n",
    "# Input to base model is resized img (244, 244, 3)\n",
    "# input_f = {}\n",
    "# for image_id in img_names:  # last printed DONE 2414570\n",
    "#     img = cv2.imread(\"./data/visual_genome/\" + image_id + '.jpg')\n",
    "#     img = cv2.resize(img, (224, 224))\n",
    "#     input_f[image_id] = img.astype(np.float32)"
   ]
  },
  {
   "cell_type": "code",
   "execution_count": 12,
   "metadata": {
    "pycharm": {
     "name": "#%%\n"
    }
   },
   "outputs": [
    {
     "name": "stdout",
     "output_type": "stream",
     "text": [
      "Epoch 1/10\n",
      "125/125 - 57s - loss: 2.2225 - accuracy: 0.1650 - val_loss: 2.1652 - val_accuracy: 0.1637\n",
      "Epoch 2/10\n",
      "125/125 - 41s - loss: 2.0250 - accuracy: 0.2062 - val_loss: 1.9269 - val_accuracy: 0.2050\n",
      "Epoch 3/10\n",
      "125/125 - 41s - loss: 1.9139 - accuracy: 0.2095 - val_loss: 1.8872 - val_accuracy: 0.2113\n",
      "Epoch 4/10\n",
      "125/125 - 41s - loss: 1.8591 - accuracy: 0.2292 - val_loss: 1.8671 - val_accuracy: 0.2113\n",
      "Epoch 5/10\n",
      "125/125 - 42s - loss: 1.8264 - accuracy: 0.2503 - val_loss: 1.8636 - val_accuracy: 0.2338\n",
      "Epoch 6/10\n",
      "125/125 - 43s - loss: 1.7809 - accuracy: 0.2630 - val_loss: 1.9623 - val_accuracy: 0.2000\n",
      "Epoch 7/10\n",
      "125/125 - 43s - loss: 1.7376 - accuracy: 0.2835 - val_loss: 1.8852 - val_accuracy: 0.2387\n",
      "Epoch 8/10\n",
      "125/125 - 43s - loss: 1.6985 - accuracy: 0.3045 - val_loss: 1.9782 - val_accuracy: 0.2250\n",
      "Epoch 9/10\n",
      "125/125 - 43s - loss: 1.6479 - accuracy: 0.3223 - val_loss: 1.9591 - val_accuracy: 0.2637\n",
      "Epoch 10/10\n",
      "125/125 - 43s - loss: 1.5998 - accuracy: 0.3420 - val_loss: 1.9422 - val_accuracy: 0.2375\n",
      "End:  435.8558723926544\n"
     ]
    }
   ],
   "source": [
    "if os.path.isfile('./Lab05_Output/models/pre_trained_with_vgg16.h5') is False:\n",
    "    start = time.time()\n",
    "    with tf.device('/device:GPU:0'):\n",
    "        metrics = [metrics.Accuracy, metrics.Precision]\n",
    "        model.compile(metrics=[\"accuracy\"], loss=\"categorical_crossentropy\",optimizer=Adam(learning_rate=1e-4))\n",
    "        history = model.fit(x=train_batches,\n",
    "            epochs=10, validation_data=val_batches, verbose=2)\n",
    "    print(\"End: \", time.time() - start)\n",
    "    model.save('./Lab05_Output/models/pre_trained_with_vgg16.h5')\n",
    "else:\n",
    "    model = load_model('./Lab05_Output/models/pre_trained_with_vgg16.h5')"
   ]
  },
  {
   "cell_type": "code",
   "execution_count": 13,
   "metadata": {
    "pycharm": {
     "name": "#%%\n"
    }
   },
   "outputs": [
    {
     "name": "stdout",
     "output_type": "stream",
     "text": [
      "Custom DL model ----> acurracy:  0.115  ,  precision:  0.113\n"
     ]
    }
   ],
   "source": [
    "# Make some predictions and evaluate\n",
    "predictions = model.predict(x=test_batches, verbose=0)\n",
    "cl = test_batches.classes\n",
    "pred_int = np.argmax(predictions, axis=-1)\n",
    "acurr_score = accuracy_score(pred_int,cl)\n",
    "prec_score = precision_score(pred_int,cl, average=\"macro\")\n",
    "print(\"Custom DL model ----> acurracy: \", acurr_score, \" ,  precision: \", np.round(prec_score, 3))"
   ]
  },
  {
   "cell_type": "markdown",
   "metadata": {
    "pycharm": {
     "name": "#%% md\n"
    }
   },
   "source": [
    "### Zad4 - building Deep Learning Model"
   ]
  },
  {
   "cell_type": "code",
   "execution_count": 11,
   "metadata": {
    "pycharm": {
     "name": "#%%\n"
    }
   },
   "outputs": [
    {
     "name": "stdout",
     "output_type": "stream",
     "text": [
      "Found 4000 images belonging to 10 classes.\n",
      "Found 800 images belonging to 10 classes.\n",
      "Found 200 images belonging to 10 classes.\n"
     ]
    }
   ],
   "source": [
    "# del model\n",
    "from tensorflow.keras.applications.mobilenet_v2 import MobileNetV2\n",
    "train_batches = ImageDataGenerator(preprocessing_function=tf.keras.applications.mobilenet_v2.preprocess_input)\\\n",
    "    .flow_from_directory(directory=images_path_train,target_size=(244,244),classes=classes,batch_size=20)\n",
    "val_batches = ImageDataGenerator(preprocessing_function=tf.keras.applications.mobilenet_v2.preprocess_input)\\\n",
    "    .flow_from_directory(directory=images_path_test,target_size=(244,244),classes=classes,batch_size=20,shuffle=False)\n",
    "test_batches = ImageDataGenerator(preprocessing_function=tf.keras.applications.mobilenet_v2.preprocess_input)\\\n",
    "    .flow_from_directory(directory=images_path_val,target_size=(244,244),classes=classes,batch_size=20)\n",
    "\n",
    "\n",
    "assert train_batches.n == len(X_train)\n",
    "assert test_batches.n ==  len(x_val)\n",
    "assert val_batches.n == len(X_test)"
   ]
  },
  {
   "cell_type": "code",
   "execution_count": 12,
   "metadata": {
    "pycharm": {
     "name": "#%%\n"
    }
   },
   "outputs": [
    {
     "name": "stdout",
     "output_type": "stream",
     "text": [
      "Model: \"model\"\n",
      "__________________________________________________________________________________________________\n",
      "Layer (type)                    Output Shape         Param #     Connected to                     \n",
      "==================================================================================================\n",
      "input_1 (InputLayer)            [(None, 224, 224, 3) 0                                            \n",
      "__________________________________________________________________________________________________\n",
      "Conv1 (Conv2D)                  (None, 112, 112, 32) 864         input_1[0][0]                    \n",
      "__________________________________________________________________________________________________\n",
      "bn_Conv1 (BatchNormalization)   (None, 112, 112, 32) 128         Conv1[0][0]                      \n",
      "__________________________________________________________________________________________________\n",
      "Conv1_relu (ReLU)               (None, 112, 112, 32) 0           bn_Conv1[0][0]                   \n",
      "__________________________________________________________________________________________________\n",
      "expanded_conv_depthwise (Depthw (None, 112, 112, 32) 288         Conv1_relu[0][0]                 \n",
      "__________________________________________________________________________________________________\n",
      "expanded_conv_depthwise_BN (Bat (None, 112, 112, 32) 128         expanded_conv_depthwise[0][0]    \n",
      "__________________________________________________________________________________________________\n",
      "expanded_conv_depthwise_relu (R (None, 112, 112, 32) 0           expanded_conv_depthwise_BN[0][0] \n",
      "__________________________________________________________________________________________________\n",
      "expanded_conv_project (Conv2D)  (None, 112, 112, 16) 512         expanded_conv_depthwise_relu[0][0\n",
      "__________________________________________________________________________________________________\n",
      "expanded_conv_project_BN (Batch (None, 112, 112, 16) 64          expanded_conv_project[0][0]      \n",
      "__________________________________________________________________________________________________\n",
      "block_1_expand (Conv2D)         (None, 112, 112, 96) 1536        expanded_conv_project_BN[0][0]   \n",
      "__________________________________________________________________________________________________\n",
      "block_1_expand_BN (BatchNormali (None, 112, 112, 96) 384         block_1_expand[0][0]             \n",
      "__________________________________________________________________________________________________\n",
      "block_1_expand_relu (ReLU)      (None, 112, 112, 96) 0           block_1_expand_BN[0][0]          \n",
      "__________________________________________________________________________________________________\n",
      "block_1_pad (ZeroPadding2D)     (None, 113, 113, 96) 0           block_1_expand_relu[0][0]        \n",
      "__________________________________________________________________________________________________\n",
      "block_1_depthwise (DepthwiseCon (None, 56, 56, 96)   864         block_1_pad[0][0]                \n",
      "__________________________________________________________________________________________________\n",
      "block_1_depthwise_BN (BatchNorm (None, 56, 56, 96)   384         block_1_depthwise[0][0]          \n",
      "__________________________________________________________________________________________________\n",
      "block_1_depthwise_relu (ReLU)   (None, 56, 56, 96)   0           block_1_depthwise_BN[0][0]       \n",
      "__________________________________________________________________________________________________\n",
      "block_1_project (Conv2D)        (None, 56, 56, 24)   2304        block_1_depthwise_relu[0][0]     \n",
      "__________________________________________________________________________________________________\n",
      "block_1_project_BN (BatchNormal (None, 56, 56, 24)   96          block_1_project[0][0]            \n",
      "__________________________________________________________________________________________________\n",
      "block_2_expand (Conv2D)         (None, 56, 56, 144)  3456        block_1_project_BN[0][0]         \n",
      "__________________________________________________________________________________________________\n",
      "block_2_expand_BN (BatchNormali (None, 56, 56, 144)  576         block_2_expand[0][0]             \n",
      "__________________________________________________________________________________________________\n",
      "block_2_expand_relu (ReLU)      (None, 56, 56, 144)  0           block_2_expand_BN[0][0]          \n",
      "__________________________________________________________________________________________________\n",
      "block_2_depthwise (DepthwiseCon (None, 56, 56, 144)  1296        block_2_expand_relu[0][0]        \n",
      "__________________________________________________________________________________________________\n",
      "block_2_depthwise_BN (BatchNorm (None, 56, 56, 144)  576         block_2_depthwise[0][0]          \n",
      "__________________________________________________________________________________________________\n",
      "block_2_depthwise_relu (ReLU)   (None, 56, 56, 144)  0           block_2_depthwise_BN[0][0]       \n",
      "__________________________________________________________________________________________________\n",
      "block_2_project (Conv2D)        (None, 56, 56, 24)   3456        block_2_depthwise_relu[0][0]     \n",
      "__________________________________________________________________________________________________\n",
      "block_2_project_BN (BatchNormal (None, 56, 56, 24)   96          block_2_project[0][0]            \n",
      "__________________________________________________________________________________________________\n",
      "block_2_add (Add)               (None, 56, 56, 24)   0           block_1_project_BN[0][0]         \n",
      "                                                                 block_2_project_BN[0][0]         \n",
      "__________________________________________________________________________________________________\n",
      "block_3_expand (Conv2D)         (None, 56, 56, 144)  3456        block_2_add[0][0]                \n",
      "__________________________________________________________________________________________________\n",
      "block_3_expand_BN (BatchNormali (None, 56, 56, 144)  576         block_3_expand[0][0]             \n",
      "__________________________________________________________________________________________________\n",
      "block_3_expand_relu (ReLU)      (None, 56, 56, 144)  0           block_3_expand_BN[0][0]          \n",
      "__________________________________________________________________________________________________\n",
      "block_3_pad (ZeroPadding2D)     (None, 57, 57, 144)  0           block_3_expand_relu[0][0]        \n",
      "__________________________________________________________________________________________________\n",
      "block_3_depthwise (DepthwiseCon (None, 28, 28, 144)  1296        block_3_pad[0][0]                \n",
      "__________________________________________________________________________________________________\n",
      "block_3_depthwise_BN (BatchNorm (None, 28, 28, 144)  576         block_3_depthwise[0][0]          \n",
      "__________________________________________________________________________________________________\n",
      "block_3_depthwise_relu (ReLU)   (None, 28, 28, 144)  0           block_3_depthwise_BN[0][0]       \n",
      "__________________________________________________________________________________________________\n",
      "block_3_project (Conv2D)        (None, 28, 28, 32)   4608        block_3_depthwise_relu[0][0]     \n",
      "__________________________________________________________________________________________________\n",
      "block_3_project_BN (BatchNormal (None, 28, 28, 32)   128         block_3_project[0][0]            \n",
      "__________________________________________________________________________________________________\n",
      "block_4_expand (Conv2D)         (None, 28, 28, 192)  6144        block_3_project_BN[0][0]         \n",
      "__________________________________________________________________________________________________\n",
      "block_4_expand_BN (BatchNormali (None, 28, 28, 192)  768         block_4_expand[0][0]             \n",
      "__________________________________________________________________________________________________\n",
      "block_4_expand_relu (ReLU)      (None, 28, 28, 192)  0           block_4_expand_BN[0][0]          \n",
      "__________________________________________________________________________________________________\n",
      "block_4_depthwise (DepthwiseCon (None, 28, 28, 192)  1728        block_4_expand_relu[0][0]        \n",
      "__________________________________________________________________________________________________\n",
      "block_4_depthwise_BN (BatchNorm (None, 28, 28, 192)  768         block_4_depthwise[0][0]          \n",
      "__________________________________________________________________________________________________\n",
      "block_4_depthwise_relu (ReLU)   (None, 28, 28, 192)  0           block_4_depthwise_BN[0][0]       \n",
      "__________________________________________________________________________________________________\n",
      "block_4_project (Conv2D)        (None, 28, 28, 32)   6144        block_4_depthwise_relu[0][0]     \n",
      "__________________________________________________________________________________________________\n",
      "block_4_project_BN (BatchNormal (None, 28, 28, 32)   128         block_4_project[0][0]            \n",
      "__________________________________________________________________________________________________\n",
      "block_4_add (Add)               (None, 28, 28, 32)   0           block_3_project_BN[0][0]         \n",
      "                                                                 block_4_project_BN[0][0]         \n",
      "__________________________________________________________________________________________________\n",
      "block_5_expand (Conv2D)         (None, 28, 28, 192)  6144        block_4_add[0][0]                \n",
      "__________________________________________________________________________________________________\n",
      "block_5_expand_BN (BatchNormali (None, 28, 28, 192)  768         block_5_expand[0][0]             \n",
      "__________________________________________________________________________________________________\n",
      "block_5_expand_relu (ReLU)      (None, 28, 28, 192)  0           block_5_expand_BN[0][0]          \n",
      "__________________________________________________________________________________________________\n",
      "block_5_depthwise (DepthwiseCon (None, 28, 28, 192)  1728        block_5_expand_relu[0][0]        \n",
      "__________________________________________________________________________________________________\n",
      "block_5_depthwise_BN (BatchNorm (None, 28, 28, 192)  768         block_5_depthwise[0][0]          \n",
      "__________________________________________________________________________________________________\n",
      "block_5_depthwise_relu (ReLU)   (None, 28, 28, 192)  0           block_5_depthwise_BN[0][0]       \n",
      "__________________________________________________________________________________________________\n",
      "block_5_project (Conv2D)        (None, 28, 28, 32)   6144        block_5_depthwise_relu[0][0]     \n",
      "__________________________________________________________________________________________________\n",
      "block_5_project_BN (BatchNormal (None, 28, 28, 32)   128         block_5_project[0][0]            \n",
      "__________________________________________________________________________________________________\n",
      "block_5_add (Add)               (None, 28, 28, 32)   0           block_4_add[0][0]                \n",
      "                                                                 block_5_project_BN[0][0]         \n",
      "__________________________________________________________________________________________________\n",
      "block_6_expand (Conv2D)         (None, 28, 28, 192)  6144        block_5_add[0][0]                \n",
      "__________________________________________________________________________________________________\n",
      "block_6_expand_BN (BatchNormali (None, 28, 28, 192)  768         block_6_expand[0][0]             \n",
      "__________________________________________________________________________________________________\n",
      "block_6_expand_relu (ReLU)      (None, 28, 28, 192)  0           block_6_expand_BN[0][0]          \n",
      "__________________________________________________________________________________________________\n",
      "block_6_pad (ZeroPadding2D)     (None, 29, 29, 192)  0           block_6_expand_relu[0][0]        \n",
      "__________________________________________________________________________________________________\n",
      "block_6_depthwise (DepthwiseCon (None, 14, 14, 192)  1728        block_6_pad[0][0]                \n",
      "__________________________________________________________________________________________________\n",
      "block_6_depthwise_BN (BatchNorm (None, 14, 14, 192)  768         block_6_depthwise[0][0]          \n",
      "__________________________________________________________________________________________________\n",
      "block_6_depthwise_relu (ReLU)   (None, 14, 14, 192)  0           block_6_depthwise_BN[0][0]       \n",
      "__________________________________________________________________________________________________\n",
      "block_6_project (Conv2D)        (None, 14, 14, 64)   12288       block_6_depthwise_relu[0][0]     \n",
      "__________________________________________________________________________________________________\n",
      "block_6_project_BN (BatchNormal (None, 14, 14, 64)   256         block_6_project[0][0]            \n",
      "__________________________________________________________________________________________________\n",
      "block_7_expand (Conv2D)         (None, 14, 14, 384)  24576       block_6_project_BN[0][0]         \n",
      "__________________________________________________________________________________________________\n",
      "block_7_expand_BN (BatchNormali (None, 14, 14, 384)  1536        block_7_expand[0][0]             \n",
      "__________________________________________________________________________________________________\n",
      "block_7_expand_relu (ReLU)      (None, 14, 14, 384)  0           block_7_expand_BN[0][0]          \n",
      "__________________________________________________________________________________________________\n",
      "block_7_depthwise (DepthwiseCon (None, 14, 14, 384)  3456        block_7_expand_relu[0][0]        \n",
      "__________________________________________________________________________________________________\n",
      "block_7_depthwise_BN (BatchNorm (None, 14, 14, 384)  1536        block_7_depthwise[0][0]          \n",
      "__________________________________________________________________________________________________\n",
      "block_7_depthwise_relu (ReLU)   (None, 14, 14, 384)  0           block_7_depthwise_BN[0][0]       \n",
      "__________________________________________________________________________________________________\n",
      "block_7_project (Conv2D)        (None, 14, 14, 64)   24576       block_7_depthwise_relu[0][0]     \n",
      "__________________________________________________________________________________________________\n",
      "block_7_project_BN (BatchNormal (None, 14, 14, 64)   256         block_7_project[0][0]            \n",
      "__________________________________________________________________________________________________\n",
      "block_7_add (Add)               (None, 14, 14, 64)   0           block_6_project_BN[0][0]         \n",
      "                                                                 block_7_project_BN[0][0]         \n",
      "__________________________________________________________________________________________________\n",
      "block_8_expand (Conv2D)         (None, 14, 14, 384)  24576       block_7_add[0][0]                \n",
      "__________________________________________________________________________________________________\n",
      "block_8_expand_BN (BatchNormali (None, 14, 14, 384)  1536        block_8_expand[0][0]             \n",
      "__________________________________________________________________________________________________\n",
      "block_8_expand_relu (ReLU)      (None, 14, 14, 384)  0           block_8_expand_BN[0][0]          \n",
      "__________________________________________________________________________________________________\n",
      "block_8_depthwise (DepthwiseCon (None, 14, 14, 384)  3456        block_8_expand_relu[0][0]        \n",
      "__________________________________________________________________________________________________\n",
      "block_8_depthwise_BN (BatchNorm (None, 14, 14, 384)  1536        block_8_depthwise[0][0]          \n",
      "__________________________________________________________________________________________________\n",
      "block_8_depthwise_relu (ReLU)   (None, 14, 14, 384)  0           block_8_depthwise_BN[0][0]       \n",
      "__________________________________________________________________________________________________\n",
      "block_8_project (Conv2D)        (None, 14, 14, 64)   24576       block_8_depthwise_relu[0][0]     \n",
      "__________________________________________________________________________________________________\n",
      "block_8_project_BN (BatchNormal (None, 14, 14, 64)   256         block_8_project[0][0]            \n",
      "__________________________________________________________________________________________________\n",
      "block_8_add (Add)               (None, 14, 14, 64)   0           block_7_add[0][0]                \n",
      "                                                                 block_8_project_BN[0][0]         \n",
      "__________________________________________________________________________________________________\n",
      "block_9_expand (Conv2D)         (None, 14, 14, 384)  24576       block_8_add[0][0]                \n",
      "__________________________________________________________________________________________________\n",
      "block_9_expand_BN (BatchNormali (None, 14, 14, 384)  1536        block_9_expand[0][0]             \n",
      "__________________________________________________________________________________________________\n",
      "block_9_expand_relu (ReLU)      (None, 14, 14, 384)  0           block_9_expand_BN[0][0]          \n",
      "__________________________________________________________________________________________________\n",
      "block_9_depthwise (DepthwiseCon (None, 14, 14, 384)  3456        block_9_expand_relu[0][0]        \n",
      "__________________________________________________________________________________________________\n",
      "block_9_depthwise_BN (BatchNorm (None, 14, 14, 384)  1536        block_9_depthwise[0][0]          \n",
      "__________________________________________________________________________________________________\n",
      "block_9_depthwise_relu (ReLU)   (None, 14, 14, 384)  0           block_9_depthwise_BN[0][0]       \n",
      "__________________________________________________________________________________________________\n",
      "block_9_project (Conv2D)        (None, 14, 14, 64)   24576       block_9_depthwise_relu[0][0]     \n",
      "__________________________________________________________________________________________________\n",
      "block_9_project_BN (BatchNormal (None, 14, 14, 64)   256         block_9_project[0][0]            \n",
      "__________________________________________________________________________________________________\n",
      "block_9_add (Add)               (None, 14, 14, 64)   0           block_8_add[0][0]                \n",
      "                                                                 block_9_project_BN[0][0]         \n",
      "__________________________________________________________________________________________________\n",
      "block_10_expand (Conv2D)        (None, 14, 14, 384)  24576       block_9_add[0][0]                \n",
      "__________________________________________________________________________________________________\n",
      "block_10_expand_BN (BatchNormal (None, 14, 14, 384)  1536        block_10_expand[0][0]            \n",
      "__________________________________________________________________________________________________\n",
      "block_10_expand_relu (ReLU)     (None, 14, 14, 384)  0           block_10_expand_BN[0][0]         \n",
      "__________________________________________________________________________________________________\n",
      "block_10_depthwise (DepthwiseCo (None, 14, 14, 384)  3456        block_10_expand_relu[0][0]       \n",
      "__________________________________________________________________________________________________\n",
      "block_10_depthwise_BN (BatchNor (None, 14, 14, 384)  1536        block_10_depthwise[0][0]         \n",
      "__________________________________________________________________________________________________\n",
      "block_10_depthwise_relu (ReLU)  (None, 14, 14, 384)  0           block_10_depthwise_BN[0][0]      \n",
      "__________________________________________________________________________________________________\n",
      "block_10_project (Conv2D)       (None, 14, 14, 96)   36864       block_10_depthwise_relu[0][0]    \n",
      "__________________________________________________________________________________________________\n",
      "block_10_project_BN (BatchNorma (None, 14, 14, 96)   384         block_10_project[0][0]           \n",
      "__________________________________________________________________________________________________\n",
      "block_11_expand (Conv2D)        (None, 14, 14, 576)  55296       block_10_project_BN[0][0]        \n",
      "__________________________________________________________________________________________________\n",
      "block_11_expand_BN (BatchNormal (None, 14, 14, 576)  2304        block_11_expand[0][0]            \n",
      "__________________________________________________________________________________________________\n",
      "block_11_expand_relu (ReLU)     (None, 14, 14, 576)  0           block_11_expand_BN[0][0]         \n",
      "__________________________________________________________________________________________________\n",
      "block_11_depthwise (DepthwiseCo (None, 14, 14, 576)  5184        block_11_expand_relu[0][0]       \n",
      "__________________________________________________________________________________________________\n",
      "block_11_depthwise_BN (BatchNor (None, 14, 14, 576)  2304        block_11_depthwise[0][0]         \n",
      "__________________________________________________________________________________________________\n",
      "block_11_depthwise_relu (ReLU)  (None, 14, 14, 576)  0           block_11_depthwise_BN[0][0]      \n",
      "__________________________________________________________________________________________________\n",
      "block_11_project (Conv2D)       (None, 14, 14, 96)   55296       block_11_depthwise_relu[0][0]    \n",
      "__________________________________________________________________________________________________\n",
      "block_11_project_BN (BatchNorma (None, 14, 14, 96)   384         block_11_project[0][0]           \n",
      "__________________________________________________________________________________________________\n",
      "block_11_add (Add)              (None, 14, 14, 96)   0           block_10_project_BN[0][0]        \n",
      "                                                                 block_11_project_BN[0][0]        \n",
      "__________________________________________________________________________________________________\n",
      "block_12_expand (Conv2D)        (None, 14, 14, 576)  55296       block_11_add[0][0]               \n",
      "__________________________________________________________________________________________________\n",
      "block_12_expand_BN (BatchNormal (None, 14, 14, 576)  2304        block_12_expand[0][0]            \n",
      "__________________________________________________________________________________________________\n",
      "block_12_expand_relu (ReLU)     (None, 14, 14, 576)  0           block_12_expand_BN[0][0]         \n",
      "__________________________________________________________________________________________________\n",
      "block_12_depthwise (DepthwiseCo (None, 14, 14, 576)  5184        block_12_expand_relu[0][0]       \n",
      "__________________________________________________________________________________________________\n",
      "block_12_depthwise_BN (BatchNor (None, 14, 14, 576)  2304        block_12_depthwise[0][0]         \n",
      "__________________________________________________________________________________________________\n",
      "block_12_depthwise_relu (ReLU)  (None, 14, 14, 576)  0           block_12_depthwise_BN[0][0]      \n",
      "__________________________________________________________________________________________________\n",
      "block_12_project (Conv2D)       (None, 14, 14, 96)   55296       block_12_depthwise_relu[0][0]    \n",
      "__________________________________________________________________________________________________\n",
      "block_12_project_BN (BatchNorma (None, 14, 14, 96)   384         block_12_project[0][0]           \n",
      "__________________________________________________________________________________________________\n",
      "block_12_add (Add)              (None, 14, 14, 96)   0           block_11_add[0][0]               \n",
      "                                                                 block_12_project_BN[0][0]        \n",
      "__________________________________________________________________________________________________\n",
      "block_13_expand (Conv2D)        (None, 14, 14, 576)  55296       block_12_add[0][0]               \n",
      "__________________________________________________________________________________________________\n",
      "block_13_expand_BN (BatchNormal (None, 14, 14, 576)  2304        block_13_expand[0][0]            \n",
      "__________________________________________________________________________________________________\n",
      "block_13_expand_relu (ReLU)     (None, 14, 14, 576)  0           block_13_expand_BN[0][0]         \n",
      "__________________________________________________________________________________________________\n",
      "block_13_pad (ZeroPadding2D)    (None, 15, 15, 576)  0           block_13_expand_relu[0][0]       \n",
      "__________________________________________________________________________________________________\n",
      "block_13_depthwise (DepthwiseCo (None, 7, 7, 576)    5184        block_13_pad[0][0]               \n",
      "__________________________________________________________________________________________________\n",
      "block_13_depthwise_BN (BatchNor (None, 7, 7, 576)    2304        block_13_depthwise[0][0]         \n",
      "__________________________________________________________________________________________________\n",
      "block_13_depthwise_relu (ReLU)  (None, 7, 7, 576)    0           block_13_depthwise_BN[0][0]      \n",
      "__________________________________________________________________________________________________\n",
      "block_13_project (Conv2D)       (None, 7, 7, 160)    92160       block_13_depthwise_relu[0][0]    \n",
      "__________________________________________________________________________________________________\n",
      "block_13_project_BN (BatchNorma (None, 7, 7, 160)    640         block_13_project[0][0]           \n",
      "__________________________________________________________________________________________________\n",
      "block_14_expand (Conv2D)        (None, 7, 7, 960)    153600      block_13_project_BN[0][0]        \n",
      "__________________________________________________________________________________________________\n",
      "block_14_expand_BN (BatchNormal (None, 7, 7, 960)    3840        block_14_expand[0][0]            \n",
      "__________________________________________________________________________________________________\n",
      "block_14_expand_relu (ReLU)     (None, 7, 7, 960)    0           block_14_expand_BN[0][0]         \n",
      "__________________________________________________________________________________________________\n",
      "block_14_depthwise (DepthwiseCo (None, 7, 7, 960)    8640        block_14_expand_relu[0][0]       \n",
      "__________________________________________________________________________________________________\n",
      "block_14_depthwise_BN (BatchNor (None, 7, 7, 960)    3840        block_14_depthwise[0][0]         \n",
      "__________________________________________________________________________________________________\n",
      "block_14_depthwise_relu (ReLU)  (None, 7, 7, 960)    0           block_14_depthwise_BN[0][0]      \n",
      "__________________________________________________________________________________________________\n",
      "block_14_project (Conv2D)       (None, 7, 7, 160)    153600      block_14_depthwise_relu[0][0]    \n",
      "__________________________________________________________________________________________________\n",
      "block_14_project_BN (BatchNorma (None, 7, 7, 160)    640         block_14_project[0][0]           \n",
      "__________________________________________________________________________________________________\n",
      "block_14_add (Add)              (None, 7, 7, 160)    0           block_13_project_BN[0][0]        \n",
      "                                                                 block_14_project_BN[0][0]        \n",
      "__________________________________________________________________________________________________\n",
      "block_15_expand (Conv2D)        (None, 7, 7, 960)    153600      block_14_add[0][0]               \n",
      "__________________________________________________________________________________________________\n",
      "block_15_expand_BN (BatchNormal (None, 7, 7, 960)    3840        block_15_expand[0][0]            \n",
      "__________________________________________________________________________________________________\n",
      "block_15_expand_relu (ReLU)     (None, 7, 7, 960)    0           block_15_expand_BN[0][0]         \n",
      "__________________________________________________________________________________________________\n",
      "block_15_depthwise (DepthwiseCo (None, 7, 7, 960)    8640        block_15_expand_relu[0][0]       \n",
      "__________________________________________________________________________________________________\n",
      "block_15_depthwise_BN (BatchNor (None, 7, 7, 960)    3840        block_15_depthwise[0][0]         \n",
      "__________________________________________________________________________________________________\n",
      "block_15_depthwise_relu (ReLU)  (None, 7, 7, 960)    0           block_15_depthwise_BN[0][0]      \n",
      "__________________________________________________________________________________________________\n",
      "block_15_project (Conv2D)       (None, 7, 7, 160)    153600      block_15_depthwise_relu[0][0]    \n",
      "__________________________________________________________________________________________________\n",
      "block_15_project_BN (BatchNorma (None, 7, 7, 160)    640         block_15_project[0][0]           \n",
      "__________________________________________________________________________________________________\n",
      "block_15_add (Add)              (None, 7, 7, 160)    0           block_14_add[0][0]               \n",
      "                                                                 block_15_project_BN[0][0]        \n",
      "__________________________________________________________________________________________________\n",
      "block_16_expand (Conv2D)        (None, 7, 7, 960)    153600      block_15_add[0][0]               \n",
      "__________________________________________________________________________________________________\n",
      "block_16_expand_BN (BatchNormal (None, 7, 7, 960)    3840        block_16_expand[0][0]            \n",
      "__________________________________________________________________________________________________\n",
      "block_16_expand_relu (ReLU)     (None, 7, 7, 960)    0           block_16_expand_BN[0][0]         \n",
      "__________________________________________________________________________________________________\n",
      "block_16_depthwise (DepthwiseCo (None, 7, 7, 960)    8640        block_16_expand_relu[0][0]       \n",
      "__________________________________________________________________________________________________\n",
      "block_16_depthwise_BN (BatchNor (None, 7, 7, 960)    3840        block_16_depthwise[0][0]         \n",
      "__________________________________________________________________________________________________\n",
      "block_16_depthwise_relu (ReLU)  (None, 7, 7, 960)    0           block_16_depthwise_BN[0][0]      \n",
      "__________________________________________________________________________________________________\n",
      "block_16_project (Conv2D)       (None, 7, 7, 320)    307200      block_16_depthwise_relu[0][0]    \n",
      "__________________________________________________________________________________________________\n",
      "block_16_project_BN (BatchNorma (None, 7, 7, 320)    1280        block_16_project[0][0]           \n",
      "__________________________________________________________________________________________________\n",
      "Conv_1 (Conv2D)                 (None, 7, 7, 1280)   409600      block_16_project_BN[0][0]        \n",
      "__________________________________________________________________________________________________\n",
      "Conv_1_bn (BatchNormalization)  (None, 7, 7, 1280)   5120        Conv_1[0][0]                     \n",
      "__________________________________________________________________________________________________\n",
      "out_relu (ReLU)                 (None, 7, 7, 1280)   0           Conv_1_bn[0][0]                  \n",
      "__________________________________________________________________________________________________\n",
      "global_average_pooling2d (Globa (None, 1280)         0           out_relu[0][0]                   \n",
      "__________________________________________________________________________________________________\n",
      "dense (Dense)                   (None, 2048)         2623488     global_average_pooling2d[0][0]   \n",
      "__________________________________________________________________________________________________\n",
      "dropout (Dropout)               (None, 2048)         0           dense[0][0]                      \n",
      "__________________________________________________________________________________________________\n",
      "dense_1 (Dense)                 (None, 2048)         4196352     dropout[0][0]                    \n",
      "__________________________________________________________________________________________________\n",
      "dense_2 (Dense)                 (None, 10)           20490       dense_1[0][0]                    \n",
      "==================================================================================================\n",
      "Total params: 9,098,314\n",
      "Trainable params: 7,892,810\n",
      "Non-trainable params: 1,205,504\n",
      "__________________________________________________________________________________________________\n"
     ]
    }
   ],
   "source": [
    "device = cuda.get_current_device()\n",
    "device.reset()\n",
    "from tensorflow.keras.layers import Conv2D, MaxPool2D\n",
    "if os.path.isfile('./Lab05_Output/models/custom_CNN.h5') is False:\n",
    "    with tf.device('/device:GPU:0'):\n",
    "        base_model = MobileNetV2(weights='imagenet')\n",
    "        x = base_model.layers[-2].output\n",
    "        fc1 = Dense(2048, activation='relu')(x)\n",
    "        dp = Dropout(0.5)(fc1)\n",
    "        fc2 = Dense(2048, activation='relu')(dp)\n",
    "        output = Dense(num_classes,activation='softmax')(fc2)\n",
    "        dl_model = Model(inputs=base_model.input, outputs=output)\n",
    "        for layer in dl_model.layers[:-24]:\n",
    "            layer.trainable = False\n",
    "        # dl_model = Sequential([\n",
    "        #     Conv2D(filters=32,kernel_size=(3,3), activation='relu', padding='same', input_shape=(244,244,3)),\n",
    "        #     Conv2D(filters=32,kernel_size=(3,3), activation='relu', padding='same'),\n",
    "        #     MaxPool2D(pool_size=(2,2),strides=2),\n",
    "        #     Conv2D(filters=64,kernel_size=(3,3), activation='relu', padding='same'),\n",
    "        #     Conv2D(filters=64,kernel_size=(3,3), activation='relu', padding='same'),\n",
    "        #     MaxPool2D(pool_size=(2,2),strides=2),\n",
    "        #     Dense(512, activation='relu'),\n",
    "        #     Dropout(0.5),\n",
    "        #     Dense(512, activation='relu'),\n",
    "        #     Flatten(),\n",
    "        #     Dense(num_classes,activation='softmax')\n",
    "        # ])\n",
    "else:\n",
    "    dl_model = load_model('./Lab05_Output/models/custom_CNN.h5')\n",
    "\n",
    "dl_model.summary()"
   ]
  },
  {
   "cell_type": "code",
   "execution_count": 13,
   "metadata": {
    "pycharm": {
     "name": "#%%\n"
    }
   },
   "outputs": [
    {
     "name": "stdout",
     "output_type": "stream",
     "text": [
      "Epoch 1/30\n",
      "200/200 - 74s - loss: 1.8823 - accuracy: 0.2937 - val_loss: 2.3128 - val_accuracy: 0.3000\n",
      "Epoch 2/30\n",
      "200/200 - 18s - loss: 1.6008 - accuracy: 0.3983 - val_loss: 2.2617 - val_accuracy: 0.3225\n",
      "Epoch 3/30\n",
      "200/200 - 17s - loss: 1.4655 - accuracy: 0.4453 - val_loss: 2.0603 - val_accuracy: 0.3212\n",
      "Epoch 4/30\n",
      "200/200 - 18s - loss: 1.3316 - accuracy: 0.4955 - val_loss: 2.2540 - val_accuracy: 0.2975\n",
      "Epoch 5/30\n",
      "200/200 - 18s - loss: 1.2129 - accuracy: 0.5357 - val_loss: 2.5546 - val_accuracy: 0.2438\n",
      "Epoch 6/30\n",
      "200/200 - 17s - loss: 1.1141 - accuracy: 0.5585 - val_loss: 2.7448 - val_accuracy: 0.2275\n",
      "Epoch 7/30\n",
      "200/200 - 18s - loss: 1.0479 - accuracy: 0.5938 - val_loss: 2.7720 - val_accuracy: 0.2500\n",
      "Epoch 8/30\n",
      "200/200 - 18s - loss: 0.9915 - accuracy: 0.6068 - val_loss: 2.9227 - val_accuracy: 0.2488\n",
      "Epoch 9/30\n",
      "200/200 - 18s - loss: 0.9150 - accuracy: 0.6250 - val_loss: 2.8882 - val_accuracy: 0.2450\n",
      "Epoch 10/30\n",
      "200/200 - 18s - loss: 0.9104 - accuracy: 0.6332 - val_loss: 2.8632 - val_accuracy: 0.2600\n",
      "Epoch 11/30\n",
      "200/200 - 18s - loss: 0.8757 - accuracy: 0.6308 - val_loss: 2.9201 - val_accuracy: 0.2550\n",
      "Epoch 12/30\n",
      "200/200 - 18s - loss: 0.8406 - accuracy: 0.6375 - val_loss: 3.0257 - val_accuracy: 0.2500\n",
      "Epoch 13/30\n",
      "200/200 - 18s - loss: 0.8330 - accuracy: 0.6342 - val_loss: 2.8995 - val_accuracy: 0.2550\n",
      "Epoch 14/30\n",
      "200/200 - 18s - loss: 0.8079 - accuracy: 0.6467 - val_loss: 3.0163 - val_accuracy: 0.2637\n",
      "Epoch 15/30\n",
      "200/200 - 20s - loss: 0.7905 - accuracy: 0.6417 - val_loss: 3.1094 - val_accuracy: 0.2637\n",
      "Epoch 16/30\n",
      "200/200 - 18s - loss: 0.7763 - accuracy: 0.6503 - val_loss: 3.1034 - val_accuracy: 0.2450\n",
      "Epoch 17/30\n",
      "200/200 - 18s - loss: 0.7755 - accuracy: 0.6457 - val_loss: 3.0765 - val_accuracy: 0.2488\n",
      "Epoch 18/30\n",
      "200/200 - 18s - loss: 0.7624 - accuracy: 0.6507 - val_loss: 3.1219 - val_accuracy: 0.2562\n",
      "Epoch 19/30\n",
      "200/200 - 18s - loss: 0.7505 - accuracy: 0.6500 - val_loss: 3.1213 - val_accuracy: 0.2713\n",
      "Epoch 20/30\n",
      "200/200 - 18s - loss: 0.7287 - accuracy: 0.6530 - val_loss: 3.0366 - val_accuracy: 0.2612\n",
      "Epoch 21/30\n",
      "200/200 - 18s - loss: 0.7206 - accuracy: 0.6553 - val_loss: 3.1957 - val_accuracy: 0.2525\n",
      "Epoch 22/30\n",
      "200/200 - 18s - loss: 0.7117 - accuracy: 0.6500 - val_loss: 3.1332 - val_accuracy: 0.2625\n",
      "Epoch 23/30\n",
      "200/200 - 18s - loss: 0.6952 - accuracy: 0.6560 - val_loss: 3.1988 - val_accuracy: 0.2600\n",
      "Epoch 24/30\n",
      "200/200 - 18s - loss: 0.6965 - accuracy: 0.6560 - val_loss: 3.1796 - val_accuracy: 0.2612\n",
      "Epoch 25/30\n",
      "200/200 - 18s - loss: 0.6830 - accuracy: 0.6570 - val_loss: 3.2337 - val_accuracy: 0.2612\n",
      "Epoch 26/30\n",
      "200/200 - 18s - loss: 0.6861 - accuracy: 0.6528 - val_loss: 3.2379 - val_accuracy: 0.2637\n",
      "Epoch 27/30\n",
      "200/200 - 18s - loss: 0.6710 - accuracy: 0.6428 - val_loss: 3.1885 - val_accuracy: 0.2750\n",
      "Epoch 28/30\n",
      "200/200 - 18s - loss: 0.6663 - accuracy: 0.6522 - val_loss: 3.3447 - val_accuracy: 0.2525\n",
      "Epoch 29/30\n",
      "200/200 - 18s - loss: 0.6507 - accuracy: 0.6557 - val_loss: 3.4371 - val_accuracy: 0.2625\n",
      "Epoch 30/30\n",
      "200/200 - 19s - loss: 0.6396 - accuracy: 0.6543 - val_loss: 3.3371 - val_accuracy: 0.2550\n"
     ]
    }
   ],
   "source": [
    "if os.path.isfile('./Lab05_Output/models/custom_CNN.h5') is False:\n",
    "    with tf.device('/device:GPU:0'):\n",
    "        dl_model.compile(optimizer=Adam(learning_rate=1e-4),loss='categorical_crossentropy', metrics=['accuracy'])\n",
    "        dl_model.fit(x=train_batches,validation_data=val_batches,epochs=20,verbose=2)\n",
    "        # save the model\n",
    "        dl_model.save('./Lab05_Output/models/custom_CNN.h5')"
   ]
  },
  {
   "cell_type": "code",
   "execution_count": 14,
   "metadata": {
    "pycharm": {
     "name": "#%%\n"
    }
   },
   "outputs": [
    {
     "name": "stdout",
     "output_type": "stream",
     "text": [
      "Custom DL model ----> acurracy:  0.115  ,  precision:  0.102\n"
     ]
    }
   ],
   "source": [
    "# Make some predictions and evaluate\n",
    "predictions = dl_model.predict(x=test_batches, verbose=0)\n",
    "cl = test_batches.classes\n",
    "pred_int = np.argmax(predictions, axis=-1)\n",
    "acurr_score = accuracy_score(pred_int,cl)\n",
    "prec_score = precision_score(pred_int,cl, average=\"macro\")\n",
    "print(\"Custom DL model ----> acurracy: \", acurr_score, \" ,  precision: \", np.round(prec_score, 3))"
   ]
  },
  {
   "cell_type": "code",
   "execution_count": null,
   "metadata": {
    "pycharm": {
     "name": "#%%\n"
    }
   },
   "outputs": [],
   "source": [
    "model = VGG16(weights='imagenet')\n",
    "predictions = model.predict(x=test_batches, verbose=0)\n",
    "cl = test_batches.classes\n",
    "pred_int = np.argmax(predictions, axis=-1)\n",
    "acurr_score = accuracy_score(pred_int,cl)\n",
    "prec_score = precision_score(pred_int,cl, average=\"macro\")\n",
    "print(\"Custom DL model ----> acurracy: \", acurr_score, \" ,  precision: \", np.round(prec_score, 3))"
   ]
  },
  {
   "cell_type": "code",
   "execution_count": null,
   "metadata": {
    "pycharm": {
     "name": "#%%\n"
    }
   },
   "outputs": [],
   "source": [
    "file = f'./Lab05_Output/dataset/genReadyImages/test/car/203.jpg'\n",
    "img = cv2.imread(file)\n",
    "img = cv2.cvtColor(img, cv2.COLOR_BGR2HSV)\n",
    "\n",
    "# from tensorflow.keras.applications.mobilenet import MobileNet, decode_predictions, preprocess_input\n",
    "image = cv2.resize(img, (224, 224))\n",
    "prep = preprocess_input(np.array([image]))\n",
    "# print(prep)\n",
    "# cv2.imshow('window', prep[0])\n",
    "# cv2.waitKey(0)\n",
    "# pred = MobileNet().predict(x=prep)\n",
    "pre = model.predict(x=prep)\n",
    "from tensorflow.keras.applications.vgg16 import decode_predictions\n",
    "print(decode_predictions(pre,top=3))"
   ]
  }
 ],
 "metadata": {
  "kernelspec": {
   "display_name": "Python 3",
   "language": "python",
   "name": "python3"
  },
  "language_info": {
   "codemirror_mode": {
    "name": "ipython",
    "version": 3
   },
   "file_extension": ".py",
   "mimetype": "text/x-python",
   "name": "python",
   "nbconvert_exporter": "python",
   "pygments_lexer": "ipython3",
   "version": "3.8.8"
  }
 },
 "nbformat": 4,
 "nbformat_minor": 1
}