{
 "cells": [
  {
   "cell_type": "code",
   "execution_count": 39,
   "metadata": {
    "pycharm": {
     "name": "#%%\n"
    }
   },
   "outputs": [],
   "source": [
    "import os\n",
    "import igraph\n",
    "import pandas as pd\n",
    "import numpy as np\n",
    "from Scripts.Lab02 import helper_functions, similarity_measures, random_walk, supervised_random_walks\n",
    "from sklearn.metrics import roc_auc_score, average_precision_score, confusion_matrix"
   ]
  },
  {
   "cell_type": "code",
   "execution_count": 40,
   "metadata": {
    "pycharm": {
     "name": "#%%\n"
    }
   },
   "outputs": [],
   "source": [
    "def read_graph_fromDF(path):\n",
    "    # Load the graph from edgelist\n",
    "    edgelist = pd.read_csv(path,sep=\" \", header=None)\n",
    "    edgelist.columns = [\"source\", \"target\"]\n",
    "    # edgelist[\"label\"] = \"cites\n",
    "    uniqueNodes = edgelist[\"source\"].unique()\n",
    "    numNodes = len(uniqueNodes)\n",
    "\n",
    "    graph = igraph.Graph.DataFrame(edgelist,use_vids=True,directed=False)\n",
    "\n",
    "    # directory = os.fsencode(\"data/facebook\")\n",
    "    # for file in os.listdir(directory):\n",
    "    #     filename = os.fsdecode(file)\n",
    "    #     vertName = filename.split(\".\")[0]\n",
    "    #     print(\"vertName = \", vertName)\n",
    "    #     if filename.endswith(\".circles\"):\n",
    "    #\n",
    "    #         max_feat = max(map(length,file.splitlines()))\n",
    "    #         feature_names = [\"c_{}\".format(ii) for ii in range(max_feat)]\n",
    "    #         update_df = pd.read_table(\"data/facebook/{}\".format(filename),delimiter=\"\\t\",names=feature_names)\n",
    "\n",
    "    return graph, numNodes #,node_data, feature_names\n",
    "def read_graph(path):\n",
    "    # Load the graph from edgelist\n",
    "    edgelist = pd.read_csv(path,sep=\" \", header=None, dtype=str)\n",
    "    edgelist.columns = [\"source\", \"target\"]\n",
    "    # edgelist[\"label\"] = \"cites\n",
    "    uniqueNodes = edgelist[\"source\"].unique()\n",
    "    numNodes = len(uniqueNodes)\n",
    "    graph = igraph.Graph()\n",
    "    graph = igraph.Graph.DataFrame(edgelist,use_vids=True,directed=False)\n",
    "    for node in uniqueNodes:\n",
    "        graph.add_vertex(node)\n",
    "    for index,row in edgelist.iterrows():\n",
    "        try:\n",
    "            graph.add_edge(row[\"source\"],row[\"target\"])\n",
    "        except:\n",
    "            graph.add_vertex(row[\"target\"])\n",
    "            graph.add_edge(row[\"source\"],row[\"target\"])\n",
    "    return graph, numNodes #node_data, feature_names, numNodes"
   ]
  },
  {
   "cell_type": "code",
   "execution_count": 41,
   "metadata": {
    "pycharm": {
     "name": "#%%\n"
    }
   },
   "outputs": [
    {
     "name": "stdout",
     "output_type": "stream",
     "text": [
      "Number of nodes 3663\n"
     ]
    }
   ],
   "source": [
    "fbGraph, numNodes = read_graph_fromDF(\"data/facebook_combined.txt\")\n",
    "print(\"Number of nodes\", numNodes)"
   ]
  },
  {
   "cell_type": "code",
   "execution_count": 42,
   "metadata": {
    "pycharm": {
     "name": "#%%\n"
    }
   },
   "outputs": [
    {
     "name": "stdout",
     "output_type": "stream",
     "text": [
      "0.featnames\n",
      "<class 'int'>\n"
     ]
    }
   ],
   "source": [
    "# fbGraph.vs[0]\n",
    "# fbGraph.vs[0][\"circles\"] = {\"circle0\": [0,13,2]}\n",
    "# fbGraph.vs[0].attributes()\n",
    "def length(line):\n",
    "    return len(line.split('\\t'))\n",
    "directory = os.fsencode(\"data/facebook\")\n",
    "for file in os.listdir(directory):\n",
    "    filename = os.fsdecode(file)\n",
    "    vertName = int(filename.split(\".\")[0])\n",
    "    if filename.endswith(\".featnames\"):\n",
    "        print(filename)\n",
    "        print(type(vertName))\n",
    "        update_df = pd.read_csv(\"data/facebook/{}\".format(filename),header=None,delimiter=\" \",names=[\"feat_name\",\"f\",\"feat_num\"])\n",
    "        update_df[update_df.columns.difference([\"f\"])]\n",
    "        break"
   ]
  },
  {
   "cell_type": "code",
   "execution_count": 43,
   "metadata": {
    "pycharm": {
     "name": "#%%\n"
    }
   },
   "outputs": [],
   "source": [
    "def length(line):\n",
    "    return len(line.split('\\t'))\n",
    "def feature_extraction(graph):\n",
    "     # Load the features and subject for the node\n",
    "    #  feature_names = [\"w_{}\".format(ii) for ii in range(1433)]\n",
    "    directory = os.fsencode(\"data/facebook\")\n",
    "    for file in os.listdir(directory):\n",
    "        filename = os.fsdecode(file)\n",
    "        vertName = int(filename.split(\".\")[0])\n",
    "        if filename.endswith(\".circles\"):\n",
    "            with open(\"data/facebook/{}\".format(filename)) as f:\n",
    "                max_feat = max(map(length,f.readlines())) - 1\n",
    "            feat = [ \"c_{}\".format(ii) for ii in range(max_feat)]\n",
    "            feat_names = [\"circle_name\"] + feat\n",
    "            df = pd.read_table(\"data/facebook/{}\".format(filename),sep=\"\\t\",header=None,names=feat_names)\n",
    "            graph.vs[vertName][\"circles\"] = df\n",
    "        elif filename.endswith(\".edges\"):\n",
    "            df = pd.read_csv(\"data/facebook/{}\".format(filename),header=None,delimiter=\" \",names=[\"source\",\"target\"])\n",
    "            graph.vs[vertName][\"edges\"] = df\n",
    "        elif filename.endswith(\".egofeat\"):\n",
    "            df = pd.read_csv(\"data/facebook/{}\".format(filename),header=None,delimiter=\" \")\n",
    "            graph.vs[vertName][\"egoFeat\"] = df\n",
    "        elif filename.endswith(\".feat\"):\n",
    "            update_df = pd.read_csv(\"data/facebook/{}\".format(filename),header=None,delimiter=\" \")\n",
    "            graph.vs[vertName][\"feat\"] = update_df[update_df.columns.difference([0])]\n",
    "        elif filename.endswith(\".featnames\"):\n",
    "            update_df = pd.read_csv(\"data/facebook/{}\".format(filename),header=None,delimiter=\" \",names=[\"feat_name\",\"f\",\"feat_num\"])\n",
    "            graph.vs[vertName][\"featnames\"] = update_df[update_df.columns.difference([\"f\"])]\n",
    "    return graph\n",
    "    # column_names = feature_names + [\"subject\"]\n",
    "    # node_data = pd.read_table(\"./data/cora/cora.content\", header=None, names=column_names)"
   ]
  },
  {
   "cell_type": "code",
   "execution_count": 44,
   "metadata": {
    "pycharm": {
     "name": "#%%\n"
    }
   },
   "outputs": [
    {
     "name": "stdout",
     "output_type": "stream",
     "text": [
      "Number of nodes 3663\n"
     ]
    }
   ],
   "source": [
    "fbGraph, numNodes = read_graph_fromDF(\"data/facebook_combined.txt\")\n",
    "print(\"Number of nodes\", numNodes)"
   ]
  },
  {
   "cell_type": "code",
   "execution_count": 45,
   "metadata": {
    "pycharm": {
     "name": "#%%\n"
    }
   },
   "outputs": [
    {
     "data": {
      "text/plain": "<igraph.Graph at 0x216282af5e0>"
     },
     "execution_count": 45,
     "metadata": {},
     "output_type": "execute_result"
    }
   ],
   "source": [
    "feature_extraction(fbGraph)"
   ]
  },
  {
   "cell_type": "markdown",
   "metadata": {
    "pycharm": {
     "name": "#%% md\n"
    }
   },
   "source": [
    "Zad 1"
   ]
  },
  {
   "cell_type": "code",
   "execution_count": 46,
   "metadata": {
    "pycharm": {
     "name": "#%%\n"
    }
   },
   "outputs": [],
   "source": [
    "train, test = helper_functions.split_data(fbGraph.es,0.2)\n",
    "neg_samples = helper_functions.generate_negative_samples(fbGraph, len(test))\n",
    "# test (prijateli) neg (not friends)"
   ]
  },
  {
   "cell_type": "markdown",
   "metadata": {
    "pycharm": {
     "name": "#%% md\n"
    }
   },
   "source": [
    "- Prediction score for Adamic - Adar"
   ]
  },
  {
   "cell_type": "code",
   "execution_count": 47,
   "metadata": {
    "pycharm": {
     "name": "#%%\n"
    }
   },
   "outputs": [
    {
     "name": "stdout",
     "output_type": "stream",
     "text": [
      "MeanScore 12.608529516454427\n",
      "MedianScore 10.203311506065313\n",
      "MeanScore 0.38238167508080484\n",
      "MedianScore 0.36936936936936937\n",
      "MeanScore 13563.779177841878\n",
      "MedianScore 8384.0\n"
     ]
    }
   ],
   "source": [
    "# Kako da go izvedam procesot na predviduvanje... Predviduvam koi jazli bi\n",
    "def get_thresh(sim_measure='adamic_adar'):\n",
    "    arr_measures = []\n",
    "    for edge in train:\n",
    "        nodeI, nodeJ = edge.vertex_tuple\n",
    "        measure = similarity_measures.similarity(fbGraph,nodeI, nodeJ, sim_measure)\n",
    "        arr_measures.append(measure)\n",
    "    # # verojatnost da postoi vrska\n",
    "    thresh = np.mean(arr_measures)\n",
    "    threshNorm = np.median(arr_measures)\n",
    "    print(\"MeanScore\", thresh)\n",
    "    print(\"MedianScore\", threshNorm)\n",
    "    return threshNorm\n",
    "# print(roc_auc_score())\n",
    "threshAdamic = get_thresh()\n",
    "threshJacard = get_thresh('jaccard')\n",
    "threshPrefAtt = get_thresh('preferential_attachment')"
   ]
  },
  {
   "cell_type": "code",
   "execution_count": 48,
   "metadata": {
    "pycharm": {
     "name": "#%%\n"
    }
   },
   "outputs": [],
   "source": [
    "import seaborn as sns\n",
    "\n",
    "def pred_connections(sim_measure):\n",
    "    if sim_measure == 'jaccard':\n",
    "        threshNorm = threshJacard\n",
    "    elif sim_measure == 'preferential_attachment':\n",
    "        threshNorm = threshPrefAtt\n",
    "    else:\n",
    "        threshNorm = threshAdamic\n",
    "    pred_set = []\n",
    "    for edge in test:\n",
    "        nodeI, nodeJ = edge.vertex_tuple\n",
    "        measure = similarity_measures.similarity(fbGraph,nodeI, nodeJ, sim_measure)\n",
    "        if measure >= threshNorm:\n",
    "            pred_set.append(1)\n",
    "        else:\n",
    "            pred_set.append(0)\n",
    "    for nodeI,nodeJ in neg_samples:\n",
    "        measure = similarity_measures.similarity(fbGraph,nodeI, nodeJ, sim_measure)\n",
    "        if measure >= threshNorm:\n",
    "            pred_set.append(1)\n",
    "        else:\n",
    "            pred_set.append(0)\n",
    "    return pred_set\n",
    "def pred_scores(val, sim_measure = 'adamic_adar'):\n",
    "    pred = pred_connections(sim_measure)\n",
    "    roc_auc = roc_auc_score(val, pred)\n",
    "    print(\"Roc_auc_score is: \", roc_auc)\n",
    "    avg_prec = average_precision_score(val,pred)\n",
    "    print(\"Average precision is: \", avg_prec)\n",
    "    conf_matrix = confusion_matrix(val, pred)\n",
    "    print(\"Confusion matrix:\", conf_matrix)\n",
    "    sns.heatmap(conf_matrix/ np.sum(conf_matrix), annot=True, fmt='.2%', cmap=\"Blues\")"
   ]
  },
  {
   "cell_type": "code",
   "execution_count": 49,
   "metadata": {
    "pycharm": {
     "name": "#%%\n"
    }
   },
   "outputs": [
    {
     "name": "stdout",
     "output_type": "stream",
     "text": [
      "Roc_auc_score is:  0.7498301861160169\n",
      "Average precision is:  0.7490203637947331\n",
      "Confusion matrix: [[14698    24]\n",
      " [ 7342  7380]]\n"
     ]
    },
    {
     "data": {
      "text/plain": "<Figure size 432x288 with 2 Axes>",
      "image/png": "[encoded data removed]"
     },
     "metadata": {
      "needs_background": "light"
     },
     "output_type": "display_data"
    }
   ],
   "source": [
    "true_set = [1 for i in test] + [0 for i in neg_samples]\n",
    "pred_scores(true_set, 'adamic_adar')"
   ]
  },
  {
   "cell_type": "markdown",
   "metadata": {
    "pycharm": {
     "name": "#%% md\n"
    }
   },
   "source": [
    "- Prediciton score for Jaccard"
   ]
  },
  {
   "cell_type": "code",
   "execution_count": 50,
   "metadata": {
    "pycharm": {
     "name": "#%%\n"
    }
   },
   "outputs": [
    {
     "name": "stdout",
     "output_type": "stream",
     "text": [
      "Roc_auc_score is:  0.7500679255535934\n",
      "Average precision is:  0.7493587525034076\n",
      "Confusion matrix: [[14701    21]\n",
      " [ 7338  7384]]\n"
     ]
    },
    {
     "data": {
      "text/plain": "<Figure size 432x288 with 2 Axes>",
      "image/png": "[encoded data removed]"
     },
     "metadata": {
      "needs_background": "light"
     },
     "output_type": "display_data"
    }
   ],
   "source": [
    "pred_scores(true_set, 'jaccard')\n"
   ]
  },
  {
   "cell_type": "markdown",
   "metadata": {
    "pycharm": {
     "name": "#%% md\n"
    }
   },
   "source": [
    "- Prediction score for Preferential attachment"
   ]
  },
  {
   "cell_type": "code",
   "execution_count": 51,
   "metadata": {
    "pycharm": {
     "name": "#%%\n"
    }
   },
   "outputs": [
    {
     "name": "stdout",
     "output_type": "stream",
     "text": [
      "Roc_auc_score is:  0.7312865099850563\n",
      "Average precision is:  0.7139862328270833\n",
      "Confusion matrix: [[14123   599]\n",
      " [ 7313  7409]]\n"
     ]
    },
    {
     "data": {
      "text/plain": "<Figure size 432x288 with 2 Axes>",
      "image/png": "[encoded data removed]"
     },
     "metadata": {
      "needs_background": "light"
     },
     "output_type": "display_data"
    }
   ],
   "source": [
    "pred_scores(true_set, 'preferential_attachment')"
   ]
  },
  {
   "cell_type": "markdown",
   "metadata": {
    "pycharm": {
     "name": "#%% md\n"
    }
   },
   "source": [
    "### Random walk predictions"
   ]
  },
  {
   "cell_type": "code",
   "execution_count": 52,
   "metadata": {
    "pycharm": {
     "name": "#%%\n"
    }
   },
   "outputs": [],
   "source": [
    "# fbGraph.adjacent(train[0].source_vertex)\n",
    "adj_matrix = fbGraph.get_adjacency()\n",
    "matrix_data = adj_matrix._get_data()"
   ]
  },
  {
   "cell_type": "code",
   "execution_count": 53,
   "metadata": {
    "pycharm": {
     "name": "#%%\n"
    }
   },
   "outputs": [],
   "source": [
    "def getRW_thresh(train_set,matrix):\n",
    "    prob_arr = []\n",
    "    for edge in train_set:\n",
    "        nodeI, nodeJ = edge.vertex_tuple\n",
    "        p_arr = random_walk.random_walk(matrix,nodeI.index)\n",
    "        prob = p_arr[nodeJ.index]\n",
    "        prob_arr.append(prob)\n",
    "    threshRW_mean = np.mean(prob_arr)\n",
    "    print(\"Mean thresh: \",threshRW_mean)\n",
    "    threshRW = np.median(prob_arr)\n",
    "    return threshRW"
   ]
  },
  {
   "cell_type": "code",
   "execution_count": 54,
   "outputs": [],
   "source": [
    "def pred_connectionsRW(thresh):\n",
    "    # threshRw = getRW_thresh(train, matrix_data)\n",
    "    threshRw = thresh\n",
    "    pred_set = []\n",
    "    for edge in test:\n",
    "        nodeI, nodeJ = edge.vertex_tuple\n",
    "        p_arr = random_walk.random_walk(matrix_data, nodeI.index)\n",
    "        prob = p_arr[nodeJ.index]\n",
    "        if prob >= threshRw:\n",
    "            pred_set.append(1)\n",
    "        else:\n",
    "            pred_set.append(0)\n",
    "    for nodeI,nodeJ in neg_samples:\n",
    "        p_arr = random_walk.random_walk(matrix_data, nodeI)\n",
    "        prob = p_arr[nodeJ]\n",
    "        if prob >= threshRw:\n",
    "            pred_set.append(1)\n",
    "        else:\n",
    "            pred_set.append(0)\n",
    "    return pred_set\n",
    "def pred_scoresRW(val,thresh):\n",
    "    pred = pred_connectionsRW(thresh)\n",
    "    roc_auc = roc_auc_score(val, pred)\n",
    "    print(\"Roc_auc_score is: \", roc_auc)\n",
    "    avg_prec = average_precision_score(val,pred)\n",
    "    print(\"Average precision is: \", avg_prec)\n",
    "    conf_matrix = confusion_matrix(val, pred)\n",
    "    print(\"Confusion matrix:\", conf_matrix)\n",
    "    sns.heatmap(conf_matrix/ np.sum(conf_matrix), annot=True, fmt='.2%', cmap=\"Blues\")"
   ],
   "metadata": {
    "collapsed": false,
    "pycharm": {
     "name": "#%%\n"
    }
   }
  },
  {
   "cell_type": "markdown",
   "metadata": {
    "pycharm": {
     "name": "#%% md\n"
    }
   },
   "source": [
    "- Prediction score for RandomWalk"
   ]
  },
  {
   "cell_type": "code",
   "execution_count": null,
   "metadata": {
    "pycharm": {
     "name": "#%%\n",
     "is_executing": true
    }
   },
   "outputs": [],
   "source": [
    "# 20 training edges for testing\n",
    "THRESH = getRW_thresh(train[:20],matrix_data)"
   ]
  },
  {
   "cell_type": "code",
   "execution_count": null,
   "outputs": [],
   "source": [
    "pred_scoresRW(true_set,THRESH)\n"
   ],
   "metadata": {
    "collapsed": false,
    "pycharm": {
     "name": "#%%\n"
    }
   }
  },
  {
   "cell_type": "code",
   "execution_count": null,
   "outputs": [],
   "source": [
    "def edge_features(sim_measure):\n",
    "    # if sim_measure == 'jaccard':\n",
    "    #     threshNorm = threshJacard\n",
    "    # elif sim_measure == 'preferential_attachment':\n",
    "    #     threshNorm = threshPrefAtt\n",
    "    # else:\n",
    "    #     threshNorm = threshAdamic\n",
    "    for edge in train:\n",
    "        nodeI, nodeJ = edge.vertex_tuple\n",
    "        measure = similarity_measures.similarity(fbGraph,nodeI, nodeJ, sim_measure)\n",
    "        edge[sim_measure] = measure\n",
    "        fbGraph.es[edge.index][sim_measure] = measure\n",
    "        # if measure >= threshNorm:\n",
    "        #     pred_set.append(1)\n",
    "        # else:\n",
    "        #     pred_set.append(0)\n",
    "    print(fbGraph.es[0])\n",
    "    return\n",
    "def pred_supervisedRW(val, sim_measures = ('adamic_adar','jaccard','preferential_attachment')):\n",
    "    for measure_type in sim_measures:\n",
    "        edge_features(measure_type)\n",
    "    sources = []\n",
    "    dest = []\n",
    "    for edge in train:\n",
    "        nodeI, nodeJ = edge.vertex_tuple\n",
    "        sources.append(nodeI)\n",
    "        dest.append(nodeJ)\n",
    "    for nodeI,nodeJ in neg_samples:\n",
    "        sources.append(nodeI)\n",
    "        dest.append(nodeJ)\n",
    "    result_dict = supervised_random_walks.supervised_random_walks(fbGraph,sources,dest)\n",
    "    print(result_dict)"
   ],
   "metadata": {
    "collapsed": false,
    "pycharm": {
     "name": "#%%\n"
    }
   }
  },
  {
   "cell_type": "code",
   "execution_count": null,
   "metadata": {},
   "outputs": [],
   "source": []
  }
 ],
 "metadata": {
  "kernelspec": {
   "display_name": "Python 3",
   "language": "python",
   "name": "python3"
  },
  "language_info": {
   "codemirror_mode": {
    "name": "ipython",
    "version": 3
   },
   "file_extension": ".py",
   "mimetype": "text/x-python",
   "name": "python",
   "nbconvert_exporter": "python",
   "pygments_lexer": "ipython3",
   "version": "3.8.8"
  }
 },
 "nbformat": 4,
 "nbformat_minor": 1
}